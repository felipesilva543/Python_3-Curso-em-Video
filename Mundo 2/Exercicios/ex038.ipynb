{
 "cells": [
  {
   "cell_type": "markdown",
   "id": "4825503c",
   "metadata": {},
   "source": [
    "Escreva um programa que leia dois números inteiros e compare-os. mostrando na tela uma mensagem:\n",
    "- O primeiro é maior\n",
    "- O segundo é maior\n",
    "- Os numeros são iguais"
   ]
  },
  {
   "cell_type": "code",
   "execution_count": 4,
   "id": "1b9cc39f",
   "metadata": {},
   "outputs": [
    {
     "name": "stdout",
     "output_type": "stream",
     "text": [
      "Digite um número: 2\n",
      "Digite outro número: 1\n",
      "O primeiro número é MAIOR!\n"
     ]
    }
   ],
   "source": [
    "n1 = int(input('Digite um número: '))\n",
    "n2 = int(input('Digite outro número: '))\n",
    "\n",
    "if n1 > n2:\n",
    "    print('O primeiro número é MAIOR!')\n",
    "elif n1 < n2:\n",
    "    print('O segundo número é MAIOR!')\n",
    "else:\n",
    "    print('Os números são IGUAIS!')"
   ]
  },
  {
   "cell_type": "code",
   "execution_count": null,
   "id": "4b889814",
   "metadata": {},
   "outputs": [],
   "source": []
  }
 ],
 "metadata": {
  "kernelspec": {
   "display_name": "Python 3 (ipykernel)",
   "language": "python",
   "name": "python3"
  },
  "language_info": {
   "codemirror_mode": {
    "name": "ipython",
    "version": 3
   },
   "file_extension": ".py",
   "mimetype": "text/x-python",
   "name": "python",
   "nbconvert_exporter": "python",
   "pygments_lexer": "ipython3",
   "version": "3.9.7"
  }
 },
 "nbformat": 4,
 "nbformat_minor": 5
}

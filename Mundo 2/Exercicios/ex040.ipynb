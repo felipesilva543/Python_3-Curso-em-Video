{
 "cells": [
  {
   "cell_type": "markdown",
   "id": "04eb6faa",
   "metadata": {},
   "source": [
    "Crie um programa que leia duas notas de um aluno e calcule sua média, mostrando uma mensagem no final, de acordo com a média atingida:\n",
    "\n",
    "– Média abaixo de 5.0: REPROVADO\n",
    "\n",
    "– Média entre 5.0 e 6.9: RECUPERAÇÃO\n",
    "\n",
    "– Média 7.0 ou superior: APROVADO"
   ]
  },
  {
   "cell_type": "code",
   "execution_count": 10,
   "id": "2ce9974f",
   "metadata": {},
   "outputs": [
    {
     "name": "stdout",
     "output_type": "stream",
     "text": [
      "Nota 1: 2\n",
      "Nota 2: 10\n",
      "A média do aluno é: 6.0\n",
      "\n",
      "Aluno em recuperação!\n"
     ]
    }
   ],
   "source": [
    "n1 = float(input('Nota 1: '))\n",
    "n2 = float(input('Nota 2: '))\n",
    "media = (n1+n2)/2\n",
    "\n",
    "print('A média do aluno é: {}\\n'.format(media))\n",
    "if media < 5.0:\n",
    "    print('Aluno reprovado!')\n",
    "elif 7 > media >= 5:\n",
    "    print('Aluno em recuperação!')\n",
    "else:\n",
    "    print('Aluno Aprovado!')"
   ]
  },
  {
   "cell_type": "code",
   "execution_count": null,
   "id": "a54d96ae",
   "metadata": {},
   "outputs": [],
   "source": []
  }
 ],
 "metadata": {
  "kernelspec": {
   "display_name": "Python 3 (ipykernel)",
   "language": "python",
   "name": "python3"
  },
  "language_info": {
   "codemirror_mode": {
    "name": "ipython",
    "version": 3
   },
   "file_extension": ".py",
   "mimetype": "text/x-python",
   "name": "python",
   "nbconvert_exporter": "python",
   "pygments_lexer": "ipython3",
   "version": "3.9.7"
  }
 },
 "nbformat": 4,
 "nbformat_minor": 5
}

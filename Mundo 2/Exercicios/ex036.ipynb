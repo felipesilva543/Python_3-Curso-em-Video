{
 "cells": [
  {
   "cell_type": "markdown",
   "id": "6636e89b",
   "metadata": {},
   "source": [
    "Escreva um programa para aprovar o empréstimo bancário para a compra de uma casa. Pergunte o valor da casa, o salário do comprador e em quantos anos ele vai pagar. A prestação mensal não pode exceder 30% do salário ou então o empréstimo será negado."
   ]
  },
  {
   "cell_type": "code",
   "execution_count": 11,
   "id": "9280bc8c",
   "metadata": {},
   "outputs": [
    {
     "name": "stdout",
     "output_type": "stream",
     "text": [
      "Qual o valor da casa: 80000\n",
      "Qual o seu salário: 10000\n",
      "Em quantos anos vai pagar a casa: 7\n",
      "\n",
      "A prestação ficará de R$952.38, 30% do seu salário é R$3000.00.\n",
      "\n",
      "Emprestimo aprovado!\n",
      "Tenha um bom dia!\n"
     ]
    }
   ],
   "source": [
    "vCasa = float(input('Qual o valor da casa: '))\n",
    "vSalario = float(input('Qual o seu salário: '))\n",
    "anos = int(input('Em quantos anos vai pagar a casa: '))\n",
    "\n",
    "meses = 12 * anos\n",
    "prestacao = vCasa / meses\n",
    "porcentagem = vSalario * 0.3\n",
    "\n",
    "print('\\nA prestação ficará de R${:.2f}, 30% do seu salário é R${:.2f}.\\n'.format(prestacao, porcentagem))\n",
    "\n",
    "if prestacao <= porcentagem:\n",
    "    print('Emprestimo aprovado!')\n",
    "else:\n",
    "    print('Emprestimo não aprovado!')\n",
    "\n",
    "print('Tenha um bom dia!')\n"
   ]
  },
  {
   "cell_type": "code",
   "execution_count": null,
   "id": "a75f2cf6",
   "metadata": {},
   "outputs": [],
   "source": []
  }
 ],
 "metadata": {
  "kernelspec": {
   "display_name": "Python 3 (ipykernel)",
   "language": "python",
   "name": "python3"
  },
  "language_info": {
   "codemirror_mode": {
    "name": "ipython",
    "version": 3
   },
   "file_extension": ".py",
   "mimetype": "text/x-python",
   "name": "python",
   "nbconvert_exporter": "python",
   "pygments_lexer": "ipython3",
   "version": "3.9.7"
  }
 },
 "nbformat": 4,
 "nbformat_minor": 5
}

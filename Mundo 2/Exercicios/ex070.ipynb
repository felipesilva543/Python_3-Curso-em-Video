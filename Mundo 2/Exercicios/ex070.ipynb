{
 "cells": [
  {
   "cell_type": "markdown",
   "id": "7a18c76d",
   "metadata": {},
   "source": [
    "Crie um programa que leia o nome e o preço de vários produtos. O programa deverá perguntar se o usuário vai continuar ou não. No final, mostre:\n",
    "\n",
    "A) qual é o total gasto na compra.\n",
    "\n",
    "B) quantos produtos custam mais de R$1000.\n",
    "\n",
    "C) qual é o nome do produto mais barato."
   ]
  },
  {
   "cell_type": "code",
   "execution_count": 7,
   "id": "0cf16b75",
   "metadata": {},
   "outputs": [
    {
     "name": "stdout",
     "output_type": "stream",
     "text": [
      "Nome do produto: felipe\n",
      "Valor do produto: 1001\n",
      "Deseja continuar? [S/N]: s\n",
      "Nome do produto: jeita\n",
      "Valor do produto: 500\n",
      "Deseja continuar? [S/N]: s\n",
      "Nome do produto: tulipa\n",
      "Valor do produto: 5\n",
      "Deseja continuar? [S/N]: n\n",
      "=-==-==-==-==-==-==-==-==-==-==-==-==-==-==-=\n",
      "Valor total da compra foi de R$1506.00.\n",
      "1 produtos custam mais de R$1000.00\n",
      "O produto mais barato é o tulipa e custa R$5.0.\n"
     ]
    }
   ],
   "source": [
    "totG = mais1000 = 0\n",
    "nMaisB = ' '\n",
    "vMaisB = 0\n",
    "while True:\n",
    "    prod = input('Nome do produto: ')\n",
    "    valor = float(input('Valor do produto: '))\n",
    "    \n",
    "    if totG == 0:\n",
    "        nMaisB = prod\n",
    "        vMaisB = valor\n",
    "    else:\n",
    "        if valor < vMaisB:\n",
    "            nMaisB = prod\n",
    "            vMaisB = valor\n",
    "    \n",
    "    totG += valor\n",
    "    \n",
    "    if valor > 1000:\n",
    "        mais1000 += 1\n",
    "    \n",
    "    op = ' '\n",
    "    while op not in 'SN':\n",
    "        op = input('Deseja continuar? [S/N]: ').upper().strip()[0]\n",
    "    if op == 'N':\n",
    "        break\n",
    "        \n",
    "print('=-='*15)\n",
    "print(f'Valor total da compra foi de R${totG:.2f}.')\n",
    "print(f'{mais1000} produtos custam mais de R$1000.00')\n",
    "print(f'O produto mais barato é o {nMaisB} e custa R${vMaisB}.')"
   ]
  },
  {
   "cell_type": "code",
   "execution_count": null,
   "id": "7e938b33",
   "metadata": {},
   "outputs": [],
   "source": []
  }
 ],
 "metadata": {
  "kernelspec": {
   "display_name": "Python 3 (ipykernel)",
   "language": "python",
   "name": "python3"
  },
  "language_info": {
   "codemirror_mode": {
    "name": "ipython",
    "version": 3
   },
   "file_extension": ".py",
   "mimetype": "text/x-python",
   "name": "python",
   "nbconvert_exporter": "python",
   "pygments_lexer": "ipython3",
   "version": "3.9.7"
  }
 },
 "nbformat": 4,
 "nbformat_minor": 5
}

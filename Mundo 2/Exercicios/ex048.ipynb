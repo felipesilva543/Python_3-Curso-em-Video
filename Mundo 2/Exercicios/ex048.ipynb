{
 "cells": [
  {
   "cell_type": "markdown",
   "id": "3cfd77f0",
   "metadata": {},
   "source": [
    "Faça um programa que calcule a soma entre todos os números impares que são múltiplos de três e que se encontram no intervalo de 1 até 500."
   ]
  },
  {
   "cell_type": "code",
   "execution_count": 7,
   "id": "5f4c2f12",
   "metadata": {},
   "outputs": [
    {
     "name": "stdout",
     "output_type": "stream",
     "text": [
      "Total de números: 83 soma: 20667\n"
     ]
    }
   ],
   "source": [
    "\n",
    "soma = 0\n",
    "i = 0\n",
    "for c in range(1, 501, 2):\n",
    "    if c%3 == 0:\n",
    "        soma += c\n",
    "        i += 1\n",
    "print('Total de números: {} soma: {}'.format(i, soma))"
   ]
  },
  {
   "cell_type": "code",
   "execution_count": null,
   "id": "4fc6efeb",
   "metadata": {},
   "outputs": [],
   "source": []
  }
 ],
 "metadata": {
  "kernelspec": {
   "display_name": "Python 3 (ipykernel)",
   "language": "python",
   "name": "python3"
  },
  "language_info": {
   "codemirror_mode": {
    "name": "ipython",
    "version": 3
   },
   "file_extension": ".py",
   "mimetype": "text/x-python",
   "name": "python",
   "nbconvert_exporter": "python",
   "pygments_lexer": "ipython3",
   "version": "3.9.7"
  }
 },
 "nbformat": 4,
 "nbformat_minor": 5
}

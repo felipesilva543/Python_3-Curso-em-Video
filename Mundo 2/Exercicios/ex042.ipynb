{
 "cells": [
  {
   "cell_type": "markdown",
   "id": "e7bf0273",
   "metadata": {},
   "source": [
    "Refaça o DESAFIO 35 dos triângulos, acrescentando o recurso de mostrar que tipo de triângulo será formado:\n",
    "\n",
    "– EQUILÁTERO: todos os lados iguais\n",
    "\n",
    "– ISÓSCELES: dois lados iguais, um diferente\n",
    "\n",
    "– ESCALENO: todos os lados diferentes"
   ]
  },
  {
   "cell_type": "code",
   "execution_count": 12,
   "id": "8e1be277",
   "metadata": {},
   "outputs": [
    {
     "name": "stdout",
     "output_type": "stream",
     "text": [
      "Comprimento 1: 4\n",
      "Comprimento 2: 3\n",
      "Comprimento 3: 4\n",
      "Podemos formar um triangulo!\n",
      "O triagnulo formado é um: ISÓCELES\n"
     ]
    }
   ],
   "source": [
    "l1 = float(input('Comprimento 1: '))\n",
    "l2 = float(input('Comprimento 2: '))\n",
    "l3 = float(input('Comprimento 3: '))\n",
    "\n",
    "if (l1 < l2 + l3) and (l2 < l1 + l3) and (l3 < l1 + l2):\n",
    "    print('Podemos formar um triangulo!')\n",
    "    print('O triagnulo formado é um:', end=' ')\n",
    "    if l1 == l2 == l3:\n",
    "        print('EQUILÁTERO')\n",
    "    elif (l1 == l2 and l1 != l3) or (l1 == l3 and l1 != l2) or (l2 == l3 and l2 != l1):\n",
    "        print('ISÓCELES')\n",
    "    elif l1 != l2 != l3:\n",
    "        print('ESCALENO')\n",
    "else:\n",
    "    print('Não podemos formar um triagulo!')\n",
    "        \n",
    "    "
   ]
  },
  {
   "cell_type": "code",
   "execution_count": null,
   "id": "7fc1898a",
   "metadata": {},
   "outputs": [],
   "source": []
  }
 ],
 "metadata": {
  "kernelspec": {
   "display_name": "Python 3 (ipykernel)",
   "language": "python",
   "name": "python3"
  },
  "language_info": {
   "codemirror_mode": {
    "name": "ipython",
    "version": 3
   },
   "file_extension": ".py",
   "mimetype": "text/x-python",
   "name": "python",
   "nbconvert_exporter": "python",
   "pygments_lexer": "ipython3",
   "version": "3.9.7"
  }
 },
 "nbformat": 4,
 "nbformat_minor": 5
}

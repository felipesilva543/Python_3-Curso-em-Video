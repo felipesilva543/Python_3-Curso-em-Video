{
 "cells": [
  {
   "cell_type": "markdown",
   "id": "498f73ac",
   "metadata": {},
   "source": [
    "Escreva um programa em Python que leia um número inteiro qualquer e peça para o usuário escolher qual será a base de conversão: 1 para binário, 2 para octal e 3 para hexadecimal."
   ]
  },
  {
   "cell_type": "code",
   "execution_count": 38,
   "id": "0a036753",
   "metadata": {},
   "outputs": [
    {
     "name": "stdout",
     "output_type": "stream",
     "text": [
      "Digite um número inteiro:422\n",
      "Escolha o modo de conversão:\n",
      "[1] - Binário\n",
      "[2] - Octal\n",
      "[3] - Hexadecimal\n",
      "Sua opção: 3\n",
      "A conversão de 422 para hexadecimal é: 1a6\n"
     ]
    }
   ],
   "source": [
    "n = int(input('Digite um número inteiro:'))\n",
    "print('Escolha o modo de conversão:')\n",
    "op = int(input('[1] - Binário\\n[2] - Octal\\n[3] - Hexadecimal\\nSua opção: '))\n",
    "\n",
    "if op == 1:\n",
    "    print('A conversão de {} para binário é: {}'.format(n, (bin(n)[2:])))\n",
    "elif op == 2:\n",
    "    print('A conversão de {} para octal é: {}'.format(n, oct(n)[2:]))\n",
    "elif op == 3: \n",
    "    print('A conversão de {} para hexadecimal é: {}'.format(n, hex(n)[2:]))\n",
    "else:\n",
    "    print('Opção inválida!')\n",
    "    \n",
    "# bin(), oct() e hex() retornam uma String por isso podemos manipular com [2:]"
   ]
  }
 ],
 "metadata": {
  "kernelspec": {
   "display_name": "Python 3 (ipykernel)",
   "language": "python",
   "name": "python3"
  },
  "language_info": {
   "codemirror_mode": {
    "name": "ipython",
    "version": 3
   },
   "file_extension": ".py",
   "mimetype": "text/x-python",
   "name": "python",
   "nbconvert_exporter": "python",
   "pygments_lexer": "ipython3",
   "version": "3.9.7"
  }
 },
 "nbformat": 4,
 "nbformat_minor": 5
}

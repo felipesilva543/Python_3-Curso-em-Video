{
 "cells": [
  {
   "cell_type": "markdown",
   "id": "defe1016",
   "metadata": {},
   "source": [
    "Faça um programa que jogue par ou ímpar com o computador. O jogo só será interrompido quando o jogador perder, mostrando o total de vitórias consecutivas que ele conquistou no final do jogo."
   ]
  },
  {
   "cell_type": "code",
   "execution_count": 13,
   "id": "ac965ae6",
   "metadata": {},
   "outputs": [
    {
     "name": "stdout",
     "output_type": "stream",
     "text": [
      "Digite um valor [0-10]: 2\n",
      "Par ou Impar [P/I]: p\n",
      "Vc colocou 2 o computador colocou 2 ... 4 é P!\n",
      "PARABÉNS VC VENCEU!\n",
      "Digite um valor [0-10]: 2\n",
      "Par ou Impar [P/I]: i\n",
      "Vc colocou 2 o computador colocou 2 ... 4 é P!\n",
      "Infelizmente vc perdeu :(\n",
      "Você teve um total de 1 vitórias consecultivas!\n",
      "FIM DO JOGO\n"
     ]
    }
   ],
   "source": [
    "from random import randint\n",
    "vitorias = 0\n",
    "while True:\n",
    "    j = int(input('Digite um valor [0-10]: '))\n",
    "    pc = randint(0,10)\n",
    "    \n",
    "    pi = ' '\n",
    "    while pi not in 'PI':\n",
    "        pi = str(input('Par ou Impar [P/I]: ')).upper().strip()[0]\n",
    "    \n",
    "    soma = j + pc\n",
    "    if soma % 2 == 0:\n",
    "        parImpar = 'PAR'\n",
    "    else:\n",
    "        parImpar = 'IMPAR'\n",
    "        \n",
    "    # parImpar = 'PAR' if soma % 2 == 0 else parImpar = 'IMPAR' (TERNARIO)\n",
    "        \n",
    "    print(f'Vc colocou {j} o computador colocou {pc} ... {soma} é {parImpar}!')\n",
    "    \n",
    "    if pi == parImpar[0]:\n",
    "        print('PARABÉNS VC VENCEU!')\n",
    "        vitorias += 1\n",
    "    else:\n",
    "        print(f'Infelizmente vc perdeu :(\\nVocê teve um total de {vitorias} vitórias consecultivas!')\n",
    "        break\n",
    "print('FIM DO JOGO')"
   ]
  },
  {
   "cell_type": "code",
   "execution_count": null,
   "id": "c552506a",
   "metadata": {},
   "outputs": [],
   "source": []
  }
 ],
 "metadata": {
  "kernelspec": {
   "display_name": "Python 3 (ipykernel)",
   "language": "python",
   "name": "python3"
  },
  "language_info": {
   "codemirror_mode": {
    "name": "ipython",
    "version": 3
   },
   "file_extension": ".py",
   "mimetype": "text/x-python",
   "name": "python",
   "nbconvert_exporter": "python",
   "pygments_lexer": "ipython3",
   "version": "3.9.7"
  }
 },
 "nbformat": 4,
 "nbformat_minor": 5
}

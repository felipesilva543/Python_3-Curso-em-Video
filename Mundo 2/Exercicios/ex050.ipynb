{
 "cells": [
  {
   "cell_type": "markdown",
   "id": "ae2c833e",
   "metadata": {},
   "source": [
    "Desenvolva um programa que leia seis números inteiros e mostre a soma apenas daqueles que forem pares. Se o valor digitado for ímpar, desconsidere-o."
   ]
  },
  {
   "cell_type": "code",
   "execution_count": 12,
   "id": "b4767ec4",
   "metadata": {},
   "outputs": [
    {
     "name": "stdout",
     "output_type": "stream",
     "text": [
      "Digite o 1° numero:1\n",
      "Digite o 2° numero:2\n",
      "Digite o 3° numero:3\n",
      "Digite o 4° numero:4\n",
      "Digite o 5° numero:5\n",
      "Digite o 6° numero:6\n",
      "A soma dos números pares digitados é: 12\n"
     ]
    }
   ],
   "source": [
    "soma = 0\n",
    "for c in range(0,6):\n",
    "    num = int(input('Digite o {}° numero:'.format(c+1)))\n",
    "    if num%2 == 0:\n",
    "        soma += num\n",
    "\n",
    "print('A soma dos números pares digitados é: {}'.format(soma))\n",
    "\n"
   ]
  },
  {
   "cell_type": "code",
   "execution_count": 17,
   "id": "8c2d6108",
   "metadata": {},
   "outputs": [
    {
     "name": "stdout",
     "output_type": "stream",
     "text": [
      "Digite o 1° numero:1\n",
      "Digite o 2° numero:2\n",
      "Digite o 3° numero:3\n",
      "Digite o 4° numero:4\n",
      "Digite o 5° numero:5\n",
      "Digite o 6° numero:6\n",
      "Os números pares digitados foram: 2 4 6 \n",
      "A soma dos números pares digitados é: 12\n"
     ]
    }
   ],
   "source": [
    "vet = [0, 0, 0, 0, 0, 0]\n",
    "soma = 0\n",
    "for c in range(0,6):\n",
    "    vet[c] = int(input('Digite o {}° numero:'.format(c+1)))\n",
    "\n",
    "print('Os números pares digitados foram: ', end='')\n",
    "for i in range(0, 6):\n",
    "    if vet[i]%2 == 0:\n",
    "        print(vet[i], end=' ')\n",
    "        soma += vet[i]\n",
    "        \n",
    "print('\\nA soma dos números pares digitados é: {}'.format(soma))"
   ]
  }
 ],
 "metadata": {
  "kernelspec": {
   "display_name": "Python 3 (ipykernel)",
   "language": "python",
   "name": "python3"
  },
  "language_info": {
   "codemirror_mode": {
    "name": "ipython",
    "version": 3
   },
   "file_extension": ".py",
   "mimetype": "text/x-python",
   "name": "python",
   "nbconvert_exporter": "python",
   "pygments_lexer": "ipython3",
   "version": "3.9.7"
  }
 },
 "nbformat": 4,
 "nbformat_minor": 5
}

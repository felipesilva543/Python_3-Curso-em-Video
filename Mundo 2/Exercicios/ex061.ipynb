{
 "cells": [
  {
   "cell_type": "markdown",
   "id": "db71c630",
   "metadata": {},
   "source": [
    "Refaça o DESAFIO 51, lendo o primeiro termo e a razão de uma PA, mostrando os 10 primeiros termos da progressão usando a estrutura while."
   ]
  },
  {
   "cell_type": "code",
   "execution_count": 10,
   "id": "78a4923c",
   "metadata": {},
   "outputs": [
    {
     "name": "stdout",
     "output_type": "stream",
     "text": [
      "Primeiro termo: 5\n",
      "Razão: 5\n",
      "5 -> 10 -> 15 -> 20 -> 25 -> 30 -> 35 -> 40 -> 45 -> 50 -> FIM\n"
     ]
    }
   ],
   "source": [
    "n = int(input('Primeiro termo: '))\n",
    "r = int(input('Razão: '))\n",
    "cont = 0\n",
    "while cont < 10:\n",
    "    print('{} ->'.format(n+r*cont), end=' ')\n",
    "    cont += 1\n",
    "print('FIM')"
   ]
  },
  {
   "cell_type": "code",
   "execution_count": null,
   "id": "d40a979d",
   "metadata": {},
   "outputs": [],
   "source": []
  }
 ],
 "metadata": {
  "kernelspec": {
   "display_name": "Python 3 (ipykernel)",
   "language": "python",
   "name": "python3"
  },
  "language_info": {
   "codemirror_mode": {
    "name": "ipython",
    "version": 3
   },
   "file_extension": ".py",
   "mimetype": "text/x-python",
   "name": "python",
   "nbconvert_exporter": "python",
   "pygments_lexer": "ipython3",
   "version": "3.9.7"
  }
 },
 "nbformat": 4,
 "nbformat_minor": 5
}

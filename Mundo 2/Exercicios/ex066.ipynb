{
 "cells": [
  {
   "cell_type": "markdown",
   "id": "94834b8f",
   "metadata": {},
   "source": [
    "Crie um programa que leia números inteiros pelo teclado. O programa só vai parar quando o usuário digitar o valor 999, que é a condição de parada. No final, mostre quantos números foram digitados e qual foi a soma entre elas (desconsiderando o flag)."
   ]
  },
  {
   "cell_type": "code",
   "execution_count": 3,
   "id": "62cdfc6b",
   "metadata": {},
   "outputs": [
    {
     "name": "stdout",
     "output_type": "stream",
     "text": [
      "Digite um valor [999 para sair]: 1\n",
      "Digite um valor [999 para sair]: 2\n",
      "Digite um valor [999 para sair]: 3\n",
      "Digite um valor [999 para sair]: 4\n",
      "Digite um valor [999 para sair]: 999\n",
      "Foram digitados 4 números e a soma deles é 10.\n"
     ]
    }
   ],
   "source": [
    "cont = soma = 0\n",
    "while True:\n",
    "    n = int(input('Digite um valor [999 para sair]: '))\n",
    "    if n == 999:\n",
    "        break\n",
    "    soma += n\n",
    "    cont += 1\n",
    "print(f'Foram digitados {cont} números e a soma deles é {soma}.')"
   ]
  },
  {
   "cell_type": "markdown",
   "id": "23301ba3",
   "metadata": {},
   "source": []
  }
 ],
 "metadata": {
  "kernelspec": {
   "display_name": "Python 3 (ipykernel)",
   "language": "python",
   "name": "python3"
  },
  "language_info": {
   "codemirror_mode": {
    "name": "ipython",
    "version": 3
   },
   "file_extension": ".py",
   "mimetype": "text/x-python",
   "name": "python",
   "nbconvert_exporter": "python",
   "pygments_lexer": "ipython3",
   "version": "3.9.7"
  }
 },
 "nbformat": 4,
 "nbformat_minor": 5
}

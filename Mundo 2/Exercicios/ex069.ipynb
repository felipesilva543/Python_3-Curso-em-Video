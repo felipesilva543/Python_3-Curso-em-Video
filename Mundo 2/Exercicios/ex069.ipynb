{
 "cells": [
  {
   "cell_type": "markdown",
   "id": "6a3311ed",
   "metadata": {},
   "source": [
    "Crie um programa que leia a idade e o sexo de várias pessoas. A cada pessoa cadastrada, o programa deverá perguntar se o usuário quer ou não continuar. No final, mostre:\n",
    "\n",
    "A) quantas pessoas tem mais de 18 anos.\n",
    "\n",
    "B) quantos homens foram cadastrados.\n",
    "\n",
    "C) quantas mulheres tem menos de 20 anos."
   ]
  },
  {
   "cell_type": "code",
   "execution_count": 5,
   "id": "d96f211f",
   "metadata": {},
   "outputs": [
    {
     "name": "stdout",
     "output_type": "stream",
     "text": [
      "Qual a idade: 4\n",
      "Qual o sexo [M/F]: l\n",
      "Qual o sexo [M/F]: d\n",
      "Qual o sexo [M/F]: f\n",
      "Deseja continuar? [S/N]n\n",
      "1 - 0 pessoas tem mais de 18 anos.\n",
      "2 - 0 homens foram cadastrados.\n",
      "3 - 1 mulheres tem menos de 20 anos.\n"
     ]
    }
   ],
   "source": [
    "maior = homens = mulheres = 0\n",
    "\n",
    "while True:\n",
    "    idade = int(input('Qual a idade: '))\n",
    "    \n",
    "    sexo = ' '\n",
    "    while sexo not in 'MF':\n",
    "        sexo = str(input('Qual o sexo [M/F]: ')).upper().strip()[0]\n",
    "        \n",
    "    if idade > 18:\n",
    "        maior += 1\n",
    "    if sexo in 'M':\n",
    "        homens += 1\n",
    "    if sexo in 'F' and idade < 20:\n",
    "        mulheres += 1\n",
    "\n",
    "    op = ' '\n",
    "    while op not in 'NS':\n",
    "        op = input('Deseja continuar? [S/N]').upper().strip()[0]\n",
    "\n",
    "    if op == 'N':\n",
    "        break\n",
    "    \n",
    "print(f'1 - {maior} pessoas tem mais de 18 anos.')\n",
    "print(f'2 - {homens} homens foram cadastrados.')\n",
    "print(f'3 - {mulheres} mulheres tem menos de 20 anos.')\n"
   ]
  },
  {
   "cell_type": "code",
   "execution_count": null,
   "id": "6eebd74b",
   "metadata": {},
   "outputs": [],
   "source": []
  }
 ],
 "metadata": {
  "kernelspec": {
   "display_name": "Python 3 (ipykernel)",
   "language": "python",
   "name": "python3"
  },
  "language_info": {
   "codemirror_mode": {
    "name": "ipython",
    "version": 3
   },
   "file_extension": ".py",
   "mimetype": "text/x-python",
   "name": "python",
   "nbconvert_exporter": "python",
   "pygments_lexer": "ipython3",
   "version": "3.9.7"
  }
 },
 "nbformat": 4,
 "nbformat_minor": 5
}

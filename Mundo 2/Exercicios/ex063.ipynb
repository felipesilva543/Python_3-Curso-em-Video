{
 "cells": [
  {
   "cell_type": "markdown",
   "id": "cd4c19e7",
   "metadata": {},
   "source": [
    "Escreva um programa que leia um número N inteiro qualquer e mostre na tela os N primeiros elementos de uma Sequência de Fibonacci. Exemplo:\n",
    "\n",
    "0 – 1 – 1 – 2 – 3 – 5 – 8"
   ]
  },
  {
   "cell_type": "code",
   "execution_count": 33,
   "id": "6d34c21e",
   "metadata": {},
   "outputs": [
    {
     "name": "stdout",
     "output_type": "stream",
     "text": [
      "Digite o número de elementos: 10\n",
      "0 -> 1 -> 1 -> 2 -> 3 -> 5 -> 8 -> 13 -> 21 -> 34 -> FIM\n"
     ]
    }
   ],
   "source": [
    "n = int(input('Digite o número de elementos: '))\n",
    "i = 0\n",
    "t = 1\n",
    "print('{} -> {} ->'.format(i, t), end=' ')\n",
    "pos = 3\n",
    "while pos <= n:\n",
    "    Fn = (i) + (t)\n",
    "    print('{} ->'.format(Fn), end=' ')\n",
    "    pos += 1\n",
    "    i = t\n",
    "    t = Fn\n",
    "print('FIM')"
   ]
  },
  {
   "cell_type": "code",
   "execution_count": null,
   "id": "7c338e28",
   "metadata": {},
   "outputs": [],
   "source": []
  }
 ],
 "metadata": {
  "kernelspec": {
   "display_name": "Python 3 (ipykernel)",
   "language": "python",
   "name": "python3"
  },
  "language_info": {
   "codemirror_mode": {
    "name": "ipython",
    "version": 3
   },
   "file_extension": ".py",
   "mimetype": "text/x-python",
   "name": "python",
   "nbconvert_exporter": "python",
   "pygments_lexer": "ipython3",
   "version": "3.9.7"
  }
 },
 "nbformat": 4,
 "nbformat_minor": 5
}

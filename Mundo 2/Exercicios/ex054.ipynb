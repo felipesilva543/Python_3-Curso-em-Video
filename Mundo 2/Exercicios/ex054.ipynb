{
 "cells": [
  {
   "cell_type": "markdown",
   "id": "2ce84538",
   "metadata": {},
   "source": [
    "Crie um programa que leia o ano de nascimento de sete pessoas. No final, mostre quantas pessoas ainda não atingiram a maioridade e quantas já são maiores."
   ]
  },
  {
   "cell_type": "code",
   "execution_count": 13,
   "id": "1f6fc36a",
   "metadata": {},
   "outputs": [
    {
     "name": "stdout",
     "output_type": "stream",
     "text": [
      "Qual o 1° ano: 2020\n",
      "Qual o 2° ano: 2000\n",
      "Qual o 3° ano: 2001\n",
      "Qual o 4° ano: 2002\n",
      "Qual o 5° ano: 2003\n",
      "Qual o 6° ano: 2004\n",
      "Qual o 7° ano: 2005\n",
      "O 1° nasceu em 2020 e tem \u001b[31m2\u001b[m anos!\n",
      "O 2° nasceu em 2000 e tem \u001b[33m22\u001b[m anos!\n",
      "O 3° nasceu em 2001 e tem \u001b[33m21\u001b[m anos!\n",
      "O 4° nasceu em 2002 e tem \u001b[33m20\u001b[m anos!\n",
      "O 5° nasceu em 2003 e tem \u001b[33m19\u001b[m anos!\n",
      "O 6° nasceu em 2004 e tem \u001b[33m18\u001b[m anos!\n",
      "O 7° nasceu em 2005 e tem \u001b[31m17\u001b[m anos!\n",
      "5 pessoas são maiores de idade!\n"
     ]
    }
   ],
   "source": [
    "from datetime import date\n",
    "\n",
    "anoatual = date.today().year\n",
    "cont = 0\n",
    "anos = [0, 0, 0, 0, 0, 0, 0,]\n",
    "for c in range(0, 7):\n",
    "    anos[c] = int(input('Qual o {}° ano: '.format(c+1)))\n",
    "for i in range(0, 7):\n",
    "    idadeatual = anoatual - anos[i]\n",
    "    if idadeatual >= 18:\n",
    "        print('O {}° nasceu em {} e tem \\033[33m{}\\033[m anos!'.format(i+1, anos[i], idadeatual))\n",
    "        cont += 1\n",
    "    else:\n",
    "        print('O {}° nasceu em {} e tem \\033[31m{}\\033[m anos!'.format(i+1, anos[i], idadeatual))\n",
    "\n",
    "print('{} pessoas são maiores de idade!'.format(cont))"
   ]
  },
  {
   "cell_type": "code",
   "execution_count": null,
   "id": "0de78c2a",
   "metadata": {},
   "outputs": [],
   "source": []
  }
 ],
 "metadata": {
  "kernelspec": {
   "display_name": "Python 3 (ipykernel)",
   "language": "python",
   "name": "python3"
  },
  "language_info": {
   "codemirror_mode": {
    "name": "ipython",
    "version": 3
   },
   "file_extension": ".py",
   "mimetype": "text/x-python",
   "name": "python",
   "nbconvert_exporter": "python",
   "pygments_lexer": "ipython3",
   "version": "3.9.7"
  }
 },
 "nbformat": 4,
 "nbformat_minor": 5
}

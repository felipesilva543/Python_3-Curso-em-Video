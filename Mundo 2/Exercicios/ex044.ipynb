{
 "cells": [
  {
   "cell_type": "markdown",
   "id": "03b3297d",
   "metadata": {},
   "source": [
    "Elabore um programa que calcule o valor a ser pago por um produto, considerando o seu preço normal e condição de pagamento:\n",
    "\n",
    "– à vista dinheiro/cheque: 10% de desconto\n",
    "\n",
    "– à vista no cartão: 5% de desconto\n",
    "\n",
    "– em até 2x no cartão: preço formal \n",
    "\n",
    "– 3x ou mais no cartão: 20% de juros"
   ]
  },
  {
   "cell_type": "code",
   "execution_count": 29,
   "id": "2fb7733f",
   "metadata": {},
   "outputs": [
    {
     "name": "stdout",
     "output_type": "stream",
     "text": [
      "Preço normal do produto R$1000\n",
      "\n",
      "        Forma de pagamento:\n",
      "        [1] - À vista dinheiro/cheque\n",
      "        [2] - À vista no cartão\n",
      "        [3] - Em até 2x no cartão\n",
      "        [4] - 3x ou mais no cartao\n",
      "        \n",
      "Sua opção: 4\n",
      "Quantas parcelas: 5\n",
      "Acrescimo de R$200.00\n",
      "O valor a ser pago é: 1200.00, pacelado em 5x de 240.0\n"
     ]
    }
   ],
   "source": [
    "preco = float(input('Preço normal do produto R$'))\n",
    "\n",
    "print('''\n",
    "        Forma de pagamento:\n",
    "        [1] - À vista dinheiro/cheque\n",
    "        [2] - À vista no cartão\n",
    "        [3] - Em até 2x no cartão\n",
    "        [4] - 3x ou mais no cartao\n",
    "        ''')\n",
    "op = int(input('Sua opção: '))\n",
    "\n",
    "if op == 1:\n",
    "    print('Desconto de R${:.2f}'.format(preco*0.1))\n",
    "    print('O valor a ser pago é: R$', end='')\n",
    "    print('{:.2f}'.format(preco - (preco*0.1)))\n",
    "elif op == 2:\n",
    "    print('Desconto de R${:.2f}'.format(preco*0.05))\n",
    "    print('O valor a ser pago é: R$', end='')\n",
    "    print('{:.2f}'.format(preco - (preco*0.05)))\n",
    "elif op == 3:\n",
    "    print('Preço normal!')\n",
    "    print('O valor a ser pago é: ', end='')\n",
    "    print('{:.2f}, parcelado em 2x de R${:.2f}.'.format(preco, preco/2))\n",
    "elif op == 4:\n",
    "    op2 = int(input('Quantas parcelas: '))\n",
    "    print('Acrescimo de R${:.2f}'.format(preco*0.2))\n",
    "    print('O valor a ser pago é: ', end='')\n",
    "    valorfinal = preco + (preco*0.2)\n",
    "    print('{:.2f}, pacelado em {}x de {}'.format(valorfinal, op2, valorfinal/op2))\n",
    "else:\n",
    "    print('Opção inválida!')"
   ]
  },
  {
   "cell_type": "code",
   "execution_count": null,
   "id": "505d498a",
   "metadata": {},
   "outputs": [],
   "source": []
  }
 ],
 "metadata": {
  "kernelspec": {
   "display_name": "Python 3 (ipykernel)",
   "language": "python",
   "name": "python3"
  },
  "language_info": {
   "codemirror_mode": {
    "name": "ipython",
    "version": 3
   },
   "file_extension": ".py",
   "mimetype": "text/x-python",
   "name": "python",
   "nbconvert_exporter": "python",
   "pygments_lexer": "ipython3",
   "version": "3.9.7"
  }
 },
 "nbformat": 4,
 "nbformat_minor": 5
}

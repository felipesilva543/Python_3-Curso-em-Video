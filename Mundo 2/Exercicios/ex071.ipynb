{
 "cells": [
  {
   "cell_type": "markdown",
   "id": "04337b54",
   "metadata": {},
   "source": [
    "Crie um programa que simule o funcionamento de um caixa eletrônico. No início, pergunte ao usuário qual será o valor a ser sacado (número inteiro) e o programa vai informar quantas cédulas de cada valor serão entregues. OBS:\n",
    "\n",
    "considere que o caixa possui cédulas de R$ 50, R$ 20, R$ 10 e R$ 1."
   ]
  },
  {
   "cell_type": "code",
   "execution_count": 27,
   "id": "14afb98b",
   "metadata": {},
   "outputs": [
    {
     "name": "stdout",
     "output_type": "stream",
     "text": [
      "Valor a ser sacado: 100\n",
      "Você vai receber 2 cédulas de R$ 50.00\n"
     ]
    }
   ],
   "source": [
    "# MINHA RESPOSTA\n",
    "valor = int(input('Valor a ser sacado: '))\n",
    "\n",
    "if valor > 50:\n",
    "    print(f'Você vai receber {valor//50} cédulas de R$ 50.00')\n",
    "    valor = valor % 50\n",
    "if valor > 20:\n",
    "    print(f'Você vai receber {valor//20} cédulas de R$ 20.00')\n",
    "    valor = valor % 20\n",
    "if valor > 10:\n",
    "    print(f'Você vai receber {valor//10} cédulas de R$ 10.00')\n",
    "    valor = valor % 10\n",
    "if valor >= 1:\n",
    "    print(f'Você vai receber {valor} cédulas de R$ 1.00')\n",
    "    valor = valor % 1"
   ]
  },
  {
   "cell_type": "code",
   "execution_count": 32,
   "id": "957fc80a",
   "metadata": {},
   "outputs": [
    {
     "name": "stdout",
     "output_type": "stream",
     "text": [
      "Valor a ser sacado: 132\n",
      "Total de 2 cédulas de 50.\n",
      "Total de 1 cédulas de 20.\n",
      "Total de 1 cédulas de 10.\n",
      "Total de 2 cédulas de 1.\n",
      "VOLTE SEMPRE\n"
     ]
    }
   ],
   "source": [
    "# RESPOSTA DA AULA COM WHILE\n",
    "\n",
    "valor = int(input('Valor a ser sacado: '))\n",
    "total = valor\n",
    "ced = 50\n",
    "totced = 0\n",
    "\n",
    "while True:\n",
    "    if total >= ced:\n",
    "        total -= ced\n",
    "        totced += 1\n",
    "    else:\n",
    "        if totced > 0:\n",
    "            print(f'Total de {totced} cédulas de {ced}.')\n",
    "        if ced == 50:\n",
    "            ced = 20\n",
    "        elif ced == 20:\n",
    "            ced = 10\n",
    "        elif ced == 10:\n",
    "            ced = 1\n",
    "        totced = 0\n",
    "        if total == 0:\n",
    "            break\n",
    "print('VOLTE SEMPRE')"
   ]
  },
  {
   "cell_type": "code",
   "execution_count": null,
   "id": "9102d59a",
   "metadata": {},
   "outputs": [],
   "source": []
  }
 ],
 "metadata": {
  "kernelspec": {
   "display_name": "Python 3 (ipykernel)",
   "language": "python",
   "name": "python3"
  },
  "language_info": {
   "codemirror_mode": {
    "name": "ipython",
    "version": 3
   },
   "file_extension": ".py",
   "mimetype": "text/x-python",
   "name": "python",
   "nbconvert_exporter": "python",
   "pygments_lexer": "ipython3",
   "version": "3.9.7"
  }
 },
 "nbformat": 4,
 "nbformat_minor": 5
}

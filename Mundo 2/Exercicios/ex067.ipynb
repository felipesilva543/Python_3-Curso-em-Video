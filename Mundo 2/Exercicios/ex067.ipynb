{
 "cells": [
  {
   "cell_type": "markdown",
   "id": "be97ef34",
   "metadata": {},
   "source": [
    "Faça um programa que mostre a tabuada de vários números, um de cada vez, para cada valor digitado pelo usuário. O programa será interrompido quando o número solicitado for negativo."
   ]
  },
  {
   "cell_type": "code",
   "execution_count": 5,
   "id": "c6729bcc",
   "metadata": {},
   "outputs": [
    {
     "name": "stdout",
     "output_type": "stream",
     "text": [
      "Digite um valor [negativo para sair]: 1\n",
      "TABUADA DE 1\n",
      " 1 X 1 = 1\n",
      " 2 X 1 = 2\n",
      " 3 X 1 = 3\n",
      " 4 X 1 = 4\n",
      " 5 X 1 = 5\n",
      " 6 X 1 = 6\n",
      " 7 X 1 = 7\n",
      " 8 X 1 = 8\n",
      " 9 X 1 = 9\n",
      "10 X 1 = 10\n",
      "Digite um valor [negativo para sair]: 2\n",
      "TABUADA DE 2\n",
      " 1 X 2 = 2\n",
      " 2 X 2 = 4\n",
      " 3 X 2 = 6\n",
      " 4 X 2 = 8\n",
      " 5 X 2 = 10\n",
      " 6 X 2 = 12\n",
      " 7 X 2 = 14\n",
      " 8 X 2 = 16\n",
      " 9 X 2 = 18\n",
      "10 X 2 = 20\n",
      "Digite um valor [negativo para sair]: 3\n",
      "TABUADA DE 3\n",
      " 1 X 3 = 3\n",
      " 2 X 3 = 6\n",
      " 3 X 3 = 9\n",
      " 4 X 3 = 12\n",
      " 5 X 3 = 15\n",
      " 6 X 3 = 18\n",
      " 7 X 3 = 21\n",
      " 8 X 3 = 24\n",
      " 9 X 3 = 27\n",
      "10 X 3 = 30\n",
      "Digite um valor [negativo para sair]: 4\n",
      "TABUADA DE 4\n",
      " 1 X 4 = 4\n",
      " 2 X 4 = 8\n",
      " 3 X 4 = 12\n",
      " 4 X 4 = 16\n",
      " 5 X 4 = 20\n",
      " 6 X 4 = 24\n",
      " 7 X 4 = 28\n",
      " 8 X 4 = 32\n",
      " 9 X 4 = 36\n",
      "10 X 4 = 40\n",
      "Digite um valor [negativo para sair]: 5\n",
      "TABUADA DE 5\n",
      " 1 X 5 = 5\n",
      " 2 X 5 = 10\n",
      " 3 X 5 = 15\n",
      " 4 X 5 = 20\n",
      " 5 X 5 = 25\n",
      " 6 X 5 = 30\n",
      " 7 X 5 = 35\n",
      " 8 X 5 = 40\n",
      " 9 X 5 = 45\n",
      "10 X 5 = 50\n",
      "Digite um valor [negativo para sair]: -1\n",
      "PROGRAMA ENCERRADO\n"
     ]
    }
   ],
   "source": [
    "while True:\n",
    "    n = int(input('Digite um valor [negativo para sair]: '))\n",
    "    if n < 0:\n",
    "        print('PROGRAMA ENCERRADO')\n",
    "        break\n",
    "    print(f'TABUADA DE {n}')\n",
    "    for c in range(1, 11):\n",
    "        print(f\"\"\"{c:2} X {n} = {c*n}\"\"\")"
   ]
  },
  {
   "cell_type": "code",
   "execution_count": null,
   "id": "c7e49d45",
   "metadata": {},
   "outputs": [],
   "source": []
  }
 ],
 "metadata": {
  "kernelspec": {
   "display_name": "Python 3 (ipykernel)",
   "language": "python",
   "name": "python3"
  },
  "language_info": {
   "codemirror_mode": {
    "name": "ipython",
    "version": 3
   },
   "file_extension": ".py",
   "mimetype": "text/x-python",
   "name": "python",
   "nbconvert_exporter": "python",
   "pygments_lexer": "ipython3",
   "version": "3.9.7"
  }
 },
 "nbformat": 4,
 "nbformat_minor": 5
}

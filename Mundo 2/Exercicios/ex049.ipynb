{
 "cells": [
  {
   "cell_type": "markdown",
   "id": "ecd2411e",
   "metadata": {},
   "source": [
    "Refaça o DESAFIO 9, mostrando a tabuada de um número que o usuário escolher, só que agora utilizando um laço for."
   ]
  },
  {
   "cell_type": "code",
   "execution_count": 8,
   "id": "9f924629",
   "metadata": {},
   "outputs": [
    {
     "name": "stdout",
     "output_type": "stream",
     "text": [
      "Qual número vc quer a tabuada: 50\n",
      "Tanuada de 50.\n",
      "-=-=-=-=-=-=-=-=\n",
      " 1 x 50 = 50\n",
      " 2 x 50 = 100\n",
      " 3 x 50 = 150\n",
      " 4 x 50 = 200\n",
      " 5 x 50 = 250\n",
      " 6 x 50 = 300\n",
      " 7 x 50 = 350\n",
      " 8 x 50 = 400\n",
      " 9 x 50 = 450\n",
      "10 x 50 = 500\n",
      "-=-=-=-=-=-=-=-=\n"
     ]
    }
   ],
   "source": [
    "num = int(input('Qual número vc quer a tabuada: '))\n",
    "print('Tanuada de {}.'.format(num))\n",
    "print('-='*8)\n",
    "for c in range(1, 11):\n",
    "    print('{:2} x {} = {}'.format(c, num, c*num))\n",
    "print('-='*8)"
   ]
  },
  {
   "cell_type": "code",
   "execution_count": null,
   "id": "1fcdcd51",
   "metadata": {},
   "outputs": [],
   "source": []
  }
 ],
 "metadata": {
  "kernelspec": {
   "display_name": "Python 3 (ipykernel)",
   "language": "python",
   "name": "python3"
  },
  "language_info": {
   "codemirror_mode": {
    "name": "ipython",
    "version": 3
   },
   "file_extension": ".py",
   "mimetype": "text/x-python",
   "name": "python",
   "nbconvert_exporter": "python",
   "pygments_lexer": "ipython3",
   "version": "3.9.7"
  }
 },
 "nbformat": 4,
 "nbformat_minor": 5
}

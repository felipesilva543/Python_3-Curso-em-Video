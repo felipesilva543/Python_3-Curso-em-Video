{
 "cells": [
  {
   "cell_type": "markdown",
   "id": "af600f9b",
   "metadata": {},
   "source": [
    "Faça um programa que leia o sexo de uma pessoa, mas só aceite os valores ‘M’ ou ‘F’. Caso esteja errado, peça a digitação novamente até ter um valor correto."
   ]
  },
  {
   "cell_type": "code",
   "execution_count": 11,
   "id": "a2272317",
   "metadata": {},
   "outputs": [
    {
     "name": "stdout",
     "output_type": "stream",
     "text": [
      "Digite seu sexo [M/F]: w\n",
      "Dado inválido!\n",
      "Digite seu sexo [M/F]: e\n",
      "Dado inválido!\n",
      "Digite seu sexo [M/F]: r\n",
      "Dado inválido!\n",
      "Digite seu sexo [M/F]: q\n",
      "Dado inválido!\n",
      "Digite seu sexo [M/F]: f\n",
      "Sexo F registrado com sucesso!\n"
     ]
    }
   ],
   "source": [
    "s = ' '\n",
    "while s not in 'MF':\n",
    "    s = input('Digite seu sexo [M/F]: ').strip().upper()[0]\n",
    "    if s not in 'MF':\n",
    "        print('Dado inválido!')\n",
    "\n",
    "print('Sexo {} registrado com sucesso!'.format(s))"
   ]
  },
  {
   "cell_type": "code",
   "execution_count": null,
   "id": "f714902e",
   "metadata": {},
   "outputs": [],
   "source": []
  }
 ],
 "metadata": {
  "kernelspec": {
   "display_name": "Python 3 (ipykernel)",
   "language": "python",
   "name": "python3"
  },
  "language_info": {
   "codemirror_mode": {
    "name": "ipython",
    "version": 3
   },
   "file_extension": ".py",
   "mimetype": "text/x-python",
   "name": "python",
   "nbconvert_exporter": "python",
   "pygments_lexer": "ipython3",
   "version": "3.9.7"
  }
 },
 "nbformat": 4,
 "nbformat_minor": 5
}

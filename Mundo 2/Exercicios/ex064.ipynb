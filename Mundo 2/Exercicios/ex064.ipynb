{
 "cells": [
  {
   "cell_type": "markdown",
   "id": "7dbc8e12",
   "metadata": {},
   "source": [
    "Crie um programa que leia vários números inteiros pelo teclado. O programa só vai parar quando o usuário digitar o valor 999, que é a condição de parada. No final, mostre quantos números foram digitados e qual foi a soma entre eles (desconsiderando o flag)."
   ]
  },
  {
   "cell_type": "code",
   "execution_count": 14,
   "id": "66204142",
   "metadata": {},
   "outputs": [
    {
     "name": "stdout",
     "output_type": "stream",
     "text": [
      "Digite um número inteiro: 2\n",
      "Digite um número inteiro: 3\n",
      "Digite um número inteiro: 4\n",
      "Digite um número inteiro: 5\n",
      "Digite um número inteiro: 999\n",
      "FIM DA CONTAGEM\n",
      "Você digitou 4 números e a soma deles é: 14\n"
     ]
    }
   ],
   "source": [
    "n = 0\n",
    "soma = 0\n",
    "cont = -1\n",
    "\n",
    "while n != 999:\n",
    "    soma += n\n",
    "    cont += 1\n",
    "    n = int(input('Digite um número inteiro: '))\n",
    "print('FIM DA CONTAGEM')\n",
    "print('Você digitou {} números e a soma deles é: {}'.format(cont, soma))"
   ]
  },
  {
   "cell_type": "code",
   "execution_count": null,
   "id": "a17d8fe5",
   "metadata": {},
   "outputs": [],
   "source": []
  }
 ],
 "metadata": {
  "kernelspec": {
   "display_name": "Python 3 (ipykernel)",
   "language": "python",
   "name": "python3"
  },
  "language_info": {
   "codemirror_mode": {
    "name": "ipython",
    "version": 3
   },
   "file_extension": ".py",
   "mimetype": "text/x-python",
   "name": "python",
   "nbconvert_exporter": "python",
   "pygments_lexer": "ipython3",
   "version": "3.9.7"
  }
 },
 "nbformat": 4,
 "nbformat_minor": 5
}

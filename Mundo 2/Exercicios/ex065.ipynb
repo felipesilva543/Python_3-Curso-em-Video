{
 "cells": [
  {
   "cell_type": "markdown",
   "id": "bf091e2a",
   "metadata": {},
   "source": [
    "Crie um programa que leia vários números inteiros pelo teclado. No final da execução, mostre a média entre todos os valores e qual foi o maior e o menor valores lidos. O programa deve perguntar ao usuário se ele quer ou não continuar a digitar valores."
   ]
  },
  {
   "cell_type": "code",
   "execution_count": 35,
   "id": "57c9727e",
   "metadata": {},
   "outputs": [
    {
     "name": "stdout",
     "output_type": "stream",
     "text": [
      "Digite um número inteiro [-1 para resultado]: 1\n",
      "Digite um número inteiro [-1 para resultado]: 2\n",
      "Digite um número inteiro [-1 para resultado]: 3\n",
      "Digite um número inteiro [-1 para resultado]: 4\n",
      "Digite um número inteiro [-1 para resultado]: -1\n",
      "Soma: 10 CONT: 4\n",
      "RESULTADO:\n",
      "A média dos valores digitados é 2.5.\n",
      "O maior foi 4 e o menor foi 1.\n",
      "Digite [0] para continuar e qualquer outro valor para sair: 1\n",
      "FIM!\n"
     ]
    }
   ],
   "source": [
    "soma = 0\n",
    "cont = 0\n",
    "op = 0\n",
    "while op == 0:\n",
    "    num = int(input('Digite um número inteiro [-1 para resultado]: '))\n",
    "    if cont == 0:\n",
    "        maior = menor = num\n",
    "    while num != -1:\n",
    "        if num != -1:\n",
    "            soma += num\n",
    "            cont += 1\n",
    "            if num > maior:\n",
    "                maior = num\n",
    "            if num < menor:\n",
    "                menor = num\n",
    "                \n",
    "        num = int(input('Digite um número inteiro [-1 para resultado]: '))\n",
    "        \n",
    "    print('Soma: {} CONT: {}'.format(soma, cont))\n",
    "    print('RESULTADO:\\nA média dos valores digitados é {}.\\nO maior foi {} e o menor foi {}.'.format(soma/cont, maior, menor))\n",
    "    op = int(input('Digite [0] para continuar e qualquer outro valor para sair: '))\n",
    "    \n",
    "print('FIM!')"
   ]
  },
  {
   "cell_type": "code",
   "execution_count": 34,
   "id": "fe353001",
   "metadata": {},
   "outputs": [
    {
     "name": "stdout",
     "output_type": "stream",
     "text": [
      "Digite um valor:1\n",
      "Deseja continuar [S/N]: s\n",
      "Digite um valor:2\n",
      "Deseja continuar [S/N]: s\n",
      "Digite um valor:3\n",
      "Deseja continuar [S/N]: s\n",
      "Digite um valor:4\n",
      "Deseja continuar [S/N]: n\n",
      "Vc digitou 4 numeros, a soma deles é 10, e a média é 2.5.\n",
      "O maior foi 4 e o menor foi 1.\n"
     ]
    }
   ],
   "source": [
    "cont = soma = 0\n",
    "op = 's'\n",
    "while op != 'N':\n",
    "    num = int(input('Digite um valor:'))\n",
    "    soma += num\n",
    "    cont += 1\n",
    "    if cont == 1:\n",
    "        maior = menor = num\n",
    "    else:\n",
    "        if maior < num:\n",
    "            maior = num\n",
    "        if menor > num:\n",
    "            menor = num\n",
    "    op = str(input('Deseja continuar [S/N]: ')).upper()\n",
    "    \n",
    "print('Vc digitou {} numeros, a soma deles é {}, e a média é {}.'.format(cont, soma, soma/cont))\n",
    "print('O maior foi {} e o menor foi {}.'.format(maior, menor))\n",
    "    \n"
   ]
  },
  {
   "cell_type": "code",
   "execution_count": null,
   "id": "93a9fcf5",
   "metadata": {},
   "outputs": [],
   "source": []
  }
 ],
 "metadata": {
  "kernelspec": {
   "display_name": "Python 3 (ipykernel)",
   "language": "python",
   "name": "python3"
  },
  "language_info": {
   "codemirror_mode": {
    "name": "ipython",
    "version": 3
   },
   "file_extension": ".py",
   "mimetype": "text/x-python",
   "name": "python",
   "nbconvert_exporter": "python",
   "pygments_lexer": "ipython3",
   "version": "3.9.7"
  }
 },
 "nbformat": 4,
 "nbformat_minor": 5
}

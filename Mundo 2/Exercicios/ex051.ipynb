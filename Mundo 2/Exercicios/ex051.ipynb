{
 "cells": [
  {
   "cell_type": "markdown",
   "id": "826de62a",
   "metadata": {},
   "source": [
    "Desenvolva um programa que leia o primeiro termo e a razão de uma PA. No final, mostre os 10 primeiros termos dessa progressão."
   ]
  },
  {
   "cell_type": "code",
   "execution_count": 7,
   "id": "e13bed0c",
   "metadata": {},
   "outputs": [
    {
     "name": "stdout",
     "output_type": "stream",
     "text": [
      "Digite o primeiro termo: 0\n",
      "Qual a razão: 2\n",
      "A PA é:\n",
      " 1° termo: 0.\n",
      " 2° termo: 2.\n",
      " 3° termo: 4.\n",
      " 4° termo: 6.\n",
      " 5° termo: 8.\n",
      " 6° termo: 10.\n",
      " 7° termo: 12.\n",
      " 8° termo: 14.\n",
      " 9° termo: 16.\n",
      "10° termo: 18.\n"
     ]
    }
   ],
   "source": [
    "ter = int(input('Digite o primeiro termo: '))\n",
    "razao = int(input('Qual a razão: '))\n",
    "\n",
    "print('A PA é:')\n",
    "for c in range(0, 10):\n",
    "    print('{:2}° termo: {}.'.format(c+1 , ter + (razao*c)))"
   ]
  },
  {
   "cell_type": "code",
   "execution_count": null,
   "id": "90153d34",
   "metadata": {},
   "outputs": [],
   "source": []
  }
 ],
 "metadata": {
  "kernelspec": {
   "display_name": "Python 3 (ipykernel)",
   "language": "python",
   "name": "python3"
  },
  "language_info": {
   "codemirror_mode": {
    "name": "ipython",
    "version": 3
   },
   "file_extension": ".py",
   "mimetype": "text/x-python",
   "name": "python",
   "nbconvert_exporter": "python",
   "pygments_lexer": "ipython3",
   "version": "3.9.7"
  }
 },
 "nbformat": 4,
 "nbformat_minor": 5
}

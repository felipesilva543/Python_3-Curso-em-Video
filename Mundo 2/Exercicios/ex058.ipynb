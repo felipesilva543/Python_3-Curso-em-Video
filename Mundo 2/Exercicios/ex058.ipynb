{
 "cells": [
  {
   "cell_type": "markdown",
   "id": "8d8319fd",
   "metadata": {},
   "source": [
    "Melhore o jogo do DESAFIO 28 onde o computador vai “pensar” em um número entre 0 e 10. Só que agora o jogador vai tentar adivinhar até acertar, mostrando no final quantos palpites foram necessários para vencer."
   ]
  },
  {
   "cell_type": "code",
   "execution_count": 10,
   "id": "0ddce925",
   "metadata": {},
   "outputs": [
    {
     "name": "stdout",
     "output_type": "stream",
     "text": [
      "=-==-==-==-==-==-==-==-==-==-==-==-==-==-=\n",
      "Teste adivinhar o valor escolhido pelo PC!\n",
      "=-==-==-==-==-==-==-==-==-==-==-==-==-==-=\n",
      "Seu chute N° 1 é: 3\n",
      "MAIS... Tente novamente!\n",
      "Seu chute N° 2 é: 9\n",
      "Menos... Tente novamente!\n",
      "Seu chute N° 3 é: 6\n",
      "Você ACERTOU, vc acertou em 3 tentativas!\n"
     ]
    }
   ],
   "source": [
    "from random import randint\n",
    "pc = randint(0, 10)\n",
    "user = -1\n",
    "cont = 0\n",
    "\n",
    "print('=-='*14)\n",
    "print('Teste adivinhar o valor escolhido pelo PC!')\n",
    "print('=-='*14)\n",
    "\n",
    "while user != pc:\n",
    "    cont += 1\n",
    "    user = int(input('Seu chute N° {} é: '.format(cont)))\n",
    "    if user < pc:\n",
    "        print('MAIS... Tente novamente!')\n",
    "    if user > pc:\n",
    "        print('Menos... Tente novamente!')\n",
    "    \n",
    "    \n",
    "print('Você ACERTOU, vc acertou em {} tentativas!'.format(cont))"
   ]
  },
  {
   "cell_type": "code",
   "execution_count": null,
   "id": "a0710110",
   "metadata": {},
   "outputs": [],
   "source": []
  }
 ],
 "metadata": {
  "kernelspec": {
   "display_name": "Python 3 (ipykernel)",
   "language": "python",
   "name": "python3"
  },
  "language_info": {
   "codemirror_mode": {
    "name": "ipython",
    "version": 3
   },
   "file_extension": ".py",
   "mimetype": "text/x-python",
   "name": "python",
   "nbconvert_exporter": "python",
   "pygments_lexer": "ipython3",
   "version": "3.9.7"
  }
 },
 "nbformat": 4,
 "nbformat_minor": 5
}

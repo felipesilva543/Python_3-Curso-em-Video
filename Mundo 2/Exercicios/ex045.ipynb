{
 "cells": [
  {
   "cell_type": "markdown",
   "id": "2663964d",
   "metadata": {},
   "source": [
    "Crie um programa que faça o computador jogar Jokenpô com você."
   ]
  },
  {
   "cell_type": "code",
   "execution_count": 31,
   "id": "295fc2ba",
   "metadata": {},
   "outputs": [
    {
     "name": "stdout",
     "output_type": "stream",
     "text": [
      "\n",
      "        Escolha sua opção:\n",
      "        [1] - Pedra\n",
      "        [2] - Papel\n",
      "        [3] - Tesoura\n",
      "        \n",
      "Opção: 2\n",
      "Você escolheu Papel. \n",
      "O computador escolheu Pedra.\n",
      "Você VENCEU!\n"
     ]
    }
   ],
   "source": [
    "from random import randint\n",
    "\n",
    "n1 = ['Nada', 'Pedra', 'Papel', 'Tesoura']\n",
    "\n",
    "print('''\n",
    "        Escolha sua opção:\n",
    "        [1] - Pedra\n",
    "        [2] - Papel\n",
    "        [3] - Tesoura\n",
    "        ''')\n",
    "\n",
    "op = int(input('Opção: '))\n",
    "opma = randint(1,3)\n",
    "\n",
    "if 0 < op < 4:\n",
    "    print('Você escolheu {}. \\nO computador escolheu {}.'.format(n1[op], n1[opma]))\n",
    "    if (op == 1 and opma == 3) or (op == 2 and opma == 1) or (op == 3 and opma == 2):\n",
    "        print('Você VENCEU!')\n",
    "    elif op == opma:\n",
    "        print('Vocês EMPATARAM!')\n",
    "    else:\n",
    "        print('Você PERDEU!')\n",
    "else:\n",
    "    print('Opção inválida!')\n",
    "\n"
   ]
  },
  {
   "cell_type": "code",
   "execution_count": null,
   "id": "dfe58358",
   "metadata": {},
   "outputs": [],
   "source": []
  }
 ],
 "metadata": {
  "kernelspec": {
   "display_name": "Python 3 (ipykernel)",
   "language": "python",
   "name": "python3"
  },
  "language_info": {
   "codemirror_mode": {
    "name": "ipython",
    "version": 3
   },
   "file_extension": ".py",
   "mimetype": "text/x-python",
   "name": "python",
   "nbconvert_exporter": "python",
   "pygments_lexer": "ipython3",
   "version": "3.9.7"
  }
 },
 "nbformat": 4,
 "nbformat_minor": 5
}

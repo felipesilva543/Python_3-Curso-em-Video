{
 "cells": [
  {
   "cell_type": "markdown",
   "id": "49f9d707",
   "metadata": {},
   "source": [
    "Faça um programa que leia o ano de nascimento de um jovem e informe, de acordo com a sua idade, se ele ainda vai se alistar ao \n",
    "serviço militar, se é a hora exata de se alistar ou se já passou do tempo do alistamento. Seu programa também deverá mostrar o tempo que falta ou que passou do prazo."
   ]
  },
  {
   "cell_type": "code",
   "execution_count": 38,
   "id": "0a615ad4",
   "metadata": {},
   "outputs": [
    {
     "name": "stdout",
     "output_type": "stream",
     "text": [
      "Ano de nascimento: 2003\n",
      "Tem 19 em 2022, ja passou do ano de alistamento em 1 anos.\n"
     ]
    }
   ],
   "source": [
    "from datetime import date\n",
    "ano = int(input('Ano de nascimento: '))\n",
    "anoatual = date.today().year\n",
    "\n",
    "idade = anoatual - ano\n",
    "\n",
    "if idade < 18:\n",
    "    print('Com nascimento em {}, vc vai se alistar em {}, faltam {} anos.'.format(ano, anoatual + (18 - idade) ,18 - idade))\n",
    "elif idade == 18:\n",
    "    print('Tem {} anos em {}, esse é o ano do seu alistamento!'.format(idade, anoatual))\n",
    "else:\n",
    "    print('Tem {} em {}, ja passou do ano de alistamento em {} anos.'.format(idade, anoatual, idade - 18))\n",
    "\n"
   ]
  },
  {
   "cell_type": "code",
   "execution_count": null,
   "id": "0d0efd28",
   "metadata": {},
   "outputs": [],
   "source": []
  }
 ],
 "metadata": {
  "kernelspec": {
   "display_name": "Python 3 (ipykernel)",
   "language": "python",
   "name": "python3"
  },
  "language_info": {
   "codemirror_mode": {
    "name": "ipython",
    "version": 3
   },
   "file_extension": ".py",
   "mimetype": "text/x-python",
   "name": "python",
   "nbconvert_exporter": "python",
   "pygments_lexer": "ipython3",
   "version": "3.9.7"
  }
 },
 "nbformat": 4,
 "nbformat_minor": 5
}

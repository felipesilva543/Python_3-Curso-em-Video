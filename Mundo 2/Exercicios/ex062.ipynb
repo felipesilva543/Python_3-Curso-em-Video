{
 "cells": [
  {
   "cell_type": "markdown",
   "id": "2cb2f621",
   "metadata": {},
   "source": [
    "Melhore o DESAFIO 61, perguntando para o usuário se ele quer mostrar mais alguns termos. O programa encerrará quando ele disser que quer mostrar 0 termos."
   ]
  },
  {
   "cell_type": "code",
   "execution_count": 5,
   "id": "7cb5431a",
   "metadata": {},
   "outputs": [
    {
     "name": "stdout",
     "output_type": "stream",
     "text": [
      "Primeiro termo: 0\n",
      "Razão: 5\n",
      "0 -> 5 -> 10 -> 15 -> 20 -> 25 -> 30 -> 35 -> 40 -> 45 -> PAUSA\n",
      "Quantos termor vc quer mostrar a mais: 5\n",
      "50 -> 55 -> 60 -> 65 -> 70 -> PAUSA\n",
      "Quantos termor vc quer mostrar a mais: 0\n",
      "FIM DO PROGRAMA\n"
     ]
    }
   ],
   "source": [
    "n = int(input('Primeiro termo: '))\n",
    "r = int(input('Razão: '))\n",
    "cont = 0\n",
    "numter = 10\n",
    "cont2 = -1\n",
    "valor = n\n",
    "\n",
    "while cont2 != 0:    \n",
    "    while cont < numter:\n",
    "        print('{} ->'.format(valor), end=' ')\n",
    "        valor += r\n",
    "        cont += 1\n",
    "    print('PAUSA')\n",
    "    cont2 = int(input('Quantos termor vc quer mostrar a mais: '))\n",
    "    numter = cont2\n",
    "    cont = 0\n",
    "print('FIM DO PROGRAMA')"
   ]
  },
  {
   "cell_type": "code",
   "execution_count": null,
   "id": "ca5d5c31",
   "metadata": {},
   "outputs": [],
   "source": []
  }
 ],
 "metadata": {
  "kernelspec": {
   "display_name": "Python 3 (ipykernel)",
   "language": "python",
   "name": "python3"
  },
  "language_info": {
   "codemirror_mode": {
    "name": "ipython",
    "version": 3
   },
   "file_extension": ".py",
   "mimetype": "text/x-python",
   "name": "python",
   "nbconvert_exporter": "python",
   "pygments_lexer": "ipython3",
   "version": "3.9.7"
  }
 },
 "nbformat": 4,
 "nbformat_minor": 5
}

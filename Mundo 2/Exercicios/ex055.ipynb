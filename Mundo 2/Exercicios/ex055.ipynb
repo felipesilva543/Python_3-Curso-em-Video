{
 "cells": [
  {
   "cell_type": "markdown",
   "id": "0ba10886",
   "metadata": {},
   "source": [
    "Faça um programa que leia o peso de cinco pessoas. No final, mostre qual foi o maior e o menor peso lidos."
   ]
  },
  {
   "cell_type": "code",
   "execution_count": 7,
   "id": "3439bcf3",
   "metadata": {},
   "outputs": [
    {
     "name": "stdout",
     "output_type": "stream",
     "text": [
      "Qual o peso da 1° pessoa: 123\n",
      "Qual o peso da 2° pessoa: 412\n",
      "Qual o peso da 3° pessoa: 3451\n",
      "Qual o peso da 4° pessoa: 346\n",
      "Qual o peso da 5° pessoa: 4124\n",
      "O MAIOR peso lido foi: 4124.0 \n",
      "O MENOR peso lido foi: 123.0Kg.\n"
     ]
    }
   ],
   "source": [
    "maior = 0\n",
    "menor = 0\n",
    "for c in range(1, 6):\n",
    "    peso = float(input('Qual o peso da {}° pessoa: '.format(c)))\n",
    "    if c == 1:\n",
    "        maior = peso\n",
    "        menor = peso\n",
    "        \n",
    "    if peso > maior:\n",
    "        maior = peso\n",
    "    if peso < menor:\n",
    "        menor = peso\n",
    "\n",
    "print('O MAIOR peso lido foi: {}Kg. \\nO MENOR peso lido foi: {}Kg.'.format(maior, menor))"
   ]
  },
  {
   "cell_type": "code",
   "execution_count": null,
   "id": "968e9ce1",
   "metadata": {},
   "outputs": [],
   "source": []
  }
 ],
 "metadata": {
  "kernelspec": {
   "display_name": "Python 3 (ipykernel)",
   "language": "python",
   "name": "python3"
  },
  "language_info": {
   "codemirror_mode": {
    "name": "ipython",
    "version": 3
   },
   "file_extension": ".py",
   "mimetype": "text/x-python",
   "name": "python",
   "nbconvert_exporter": "python",
   "pygments_lexer": "ipython3",
   "version": "3.9.7"
  }
 },
 "nbformat": 4,
 "nbformat_minor": 5
}

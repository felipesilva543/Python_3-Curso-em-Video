{
 "cells": [
  {
   "cell_type": "markdown",
   "id": "5c044732",
   "metadata": {},
   "source": [
    "Crie um programa que leia dois valores e mostre um menu na tela:\n",
    "\n",
    "[ 1 ] somar\n",
    "\n",
    "[ 2 ] multiplicar\n",
    "\n",
    "[ 3 ] maior\n",
    "\n",
    "[ 4 ] novos números\n",
    "\n",
    "[ 5 ] sair do programa\n",
    "\n",
    "Seu programa deverá realizar a operação solicitada em cada caso."
   ]
  },
  {
   "cell_type": "code",
   "execution_count": 10,
   "id": "f627ae0b",
   "metadata": {},
   "outputs": [
    {
     "name": "stdout",
     "output_type": "stream",
     "text": [
      "Digite o primeiro valor: 3\n",
      "Digite o segundo valor: 4\n",
      "\n",
      "        **** MENU ****\n",
      "        [1] SOMAR \n",
      "        [2] MULTIPLICAR\n",
      "        [3] MAIOR\n",
      "        [4] NOVOS NÚMEROS\n",
      "        [5] SAIR DO PROGRAMA\n",
      "Opção: 7\n",
      "OPÇÃO INVÁLIDA, TENTE NOVAMENTE!\n",
      "\n",
      "        **** MENU ****\n",
      "        [1] SOMAR \n",
      "        [2] MULTIPLICAR\n",
      "        [3] MAIOR\n",
      "        [4] NOVOS NÚMEROS\n",
      "        [5] SAIR DO PROGRAMA\n",
      "Opção: 5\n",
      "FINALIZANDO O PROGRAMRA, ATÉ MAIS!\n"
     ]
    }
   ],
   "source": [
    "menu = \"\"\"\n",
    "        **** MENU ****\n",
    "        [1] SOMAR \n",
    "        [2] MULTIPLICAR\n",
    "        [3] MAIOR\n",
    "        [4] NOVOS NÚMEROS\n",
    "        [5] SAIR DO PROGRAMA\"\"\"\n",
    "\n",
    "num1 = float(input('Digite o primeiro valor: '))\n",
    "num2 = float(input('Digite o segundo valor: '))\n",
    "op = -1\n",
    "while op != 5:\n",
    "    print(menu)\n",
    "    op = int(input('Opção: '))\n",
    "    if op == 1:\n",
    "        print('A soma de {} e {} é: {}'.format(num1, num2, num1+num2))\n",
    "    elif op == 2:\n",
    "        print('A multiplicação de {} e {} é: {}'.format(num1, num2, num1*num2))\n",
    "    elif op == 3:\n",
    "        print('O  maior número entre {} e {} é: {}'.format(num1, num2, num1)) if num1 > num2 else print('O maior número entre {} e {} é: {}'.format(num1, num2, num2))\n",
    "    elif op == 4:\n",
    "        num1 = float(input('Digite o primeiro valor: '))\n",
    "        num2 = float(input('Digite o segundo valor: '))\n",
    "    elif op == 5:\n",
    "        print('FINALIZANDO O PROGRAMRA, ATÉ MAIS!')\n",
    "    else:\n",
    "        print('OPÇÃO INVÁLIDA, TENTE NOVAMENTE!')"
   ]
  },
  {
   "cell_type": "code",
   "execution_count": null,
   "id": "f7099889",
   "metadata": {},
   "outputs": [],
   "source": []
  }
 ],
 "metadata": {
  "kernelspec": {
   "display_name": "Python 3 (ipykernel)",
   "language": "python",
   "name": "python3"
  },
  "language_info": {
   "codemirror_mode": {
    "name": "ipython",
    "version": 3
   },
   "file_extension": ".py",
   "mimetype": "text/x-python",
   "name": "python",
   "nbconvert_exporter": "python",
   "pygments_lexer": "ipython3",
   "version": "3.9.7"
  }
 },
 "nbformat": 4,
 "nbformat_minor": 5
}

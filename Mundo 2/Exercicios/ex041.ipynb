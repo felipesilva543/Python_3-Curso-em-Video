{
 "cells": [
  {
   "cell_type": "markdown",
   "id": "a624320a",
   "metadata": {},
   "source": [
    "A Confederação Nacional de Natação precisa de um programa que leia o ano de nascimento de um atleta e mostre sua categoria, de acordo com a idade:\n",
    "\n",
    "– Até 9 anos: MIRIM\n",
    "\n",
    "– Até 14 anos: INFANTIL\n",
    "\n",
    "– Até 19 anos: JÚNIOR\n",
    "\n",
    "– Até 25 anos: SÊNIOR\n",
    "\n",
    "– Acima de 25 anos: MASTER"
   ]
  },
  {
   "cell_type": "code",
   "execution_count": 11,
   "id": "80c71d91",
   "metadata": {},
   "outputs": [
    {
     "name": "stdout",
     "output_type": "stream",
     "text": [
      "Digite o ano de nascimento: 1996\n",
      "Sua idade é 26, vc esta na Categoria MASTER.\n"
     ]
    }
   ],
   "source": [
    "from datetime import date\n",
    "ano = int(input('Digite o ano de nascimento: '))\n",
    "atual = date.today().year\n",
    "idade = atual - ano\n",
    "\n",
    "print('Sua idade é {}, vc esta na'.format(idade), end=' ')\n",
    "\n",
    "if idade <= 9:\n",
    "    print('Categoria MIRIM.')\n",
    "elif idade <= 14:\n",
    "    print('Categoria INFANTIL.')\n",
    "elif idade <= 19:\n",
    "    print('Categoria JÚNIOR.')\n",
    "elif idade <= 25:\n",
    "    print('Categoria SÊNIOR.')\n",
    "else:\n",
    "    print('Categoria MASTER.')"
   ]
  },
  {
   "cell_type": "code",
   "execution_count": null,
   "id": "44957db6",
   "metadata": {},
   "outputs": [],
   "source": []
  }
 ],
 "metadata": {
  "kernelspec": {
   "display_name": "Python 3 (ipykernel)",
   "language": "python",
   "name": "python3"
  },
  "language_info": {
   "codemirror_mode": {
    "name": "ipython",
    "version": 3
   },
   "file_extension": ".py",
   "mimetype": "text/x-python",
   "name": "python",
   "nbconvert_exporter": "python",
   "pygments_lexer": "ipython3",
   "version": "3.9.7"
  }
 },
 "nbformat": 4,
 "nbformat_minor": 5
}

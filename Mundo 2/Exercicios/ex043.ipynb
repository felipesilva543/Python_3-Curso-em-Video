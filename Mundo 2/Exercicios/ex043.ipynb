{
 "cells": [
  {
   "cell_type": "markdown",
   "id": "13380bf4",
   "metadata": {},
   "source": [
    "Desenvolva uma lógica que leia o peso e a altura de uma pessoa, calcule seu Índice de Massa Corporal (IMC) e mostre seu status, de acordo com a tabela abaixo:\n",
    "\n",
    "– IMC abaixo de 18,5: Abaixo do Peso\n",
    "\n",
    "– Entre 18,5 e 25: Peso Ideal\n",
    "\n",
    "– 25 até 30: Sobrepeso\n",
    "\n",
    "– 30 até 40: Obesidade\n",
    "\n",
    "– Acima de 40: Obesidade Mórbida"
   ]
  },
  {
   "cell_type": "code",
   "execution_count": 12,
   "id": "0be6b1bc",
   "metadata": {},
   "outputs": [
    {
     "name": "stdout",
     "output_type": "stream",
     "text": [
      "Digite seu peso: 93.3\n",
      "Digite a sua altura (m): 1.81\n",
      "Seu IMC é: 28.48! Sobrepeso!\n"
     ]
    }
   ],
   "source": [
    "peso = float(input('Digite seu peso: '))\n",
    "altura = float(input('Digite a sua altura (m): '))\n",
    "\n",
    "imc = peso/(altura**2)\n",
    "print('Seu IMC é: {:.2f}!'.format(imc), end=\" \")\n",
    "\n",
    "if imc < 18.5:\n",
    "    print('Abaixo do peso!')\n",
    "elif imc < 25:\n",
    "    print('Peso Ideal!')\n",
    "elif imc <= 30:\n",
    "    print('Sobrepeso!')\n",
    "elif imc <= 40:\n",
    "    print('Obesidade!')\n",
    "else:\n",
    "    print('Obesidade Mórbida!')\n"
   ]
  },
  {
   "cell_type": "code",
   "execution_count": null,
   "id": "5d8ebac6",
   "metadata": {},
   "outputs": [],
   "source": []
  }
 ],
 "metadata": {
  "kernelspec": {
   "display_name": "Python 3 (ipykernel)",
   "language": "python",
   "name": "python3"
  },
  "language_info": {
   "codemirror_mode": {
    "name": "ipython",
    "version": 3
   },
   "file_extension": ".py",
   "mimetype": "text/x-python",
   "name": "python",
   "nbconvert_exporter": "python",
   "pygments_lexer": "ipython3",
   "version": "3.9.7"
  }
 },
 "nbformat": 4,
 "nbformat_minor": 5
}

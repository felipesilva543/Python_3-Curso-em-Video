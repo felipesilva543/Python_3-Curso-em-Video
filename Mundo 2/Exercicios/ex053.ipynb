{
 "cells": [
  {
   "cell_type": "markdown",
   "id": "99278a30",
   "metadata": {},
   "source": [
    "Crie um programa que leia uma frase qualquer e diga se ela é um palíndromo, desconsiderando os espaços. Exemplos de palíndromos:\n",
    "\n",
    "APOS A SOPA, A SACADA DA CASA, A TORRE DA DERROTA, O LOBO AMA O BOLO, ANOTARAM A DATA DA MARATONA."
   ]
  },
  {
   "cell_type": "code",
   "execution_count": 38,
   "id": "e4fe078c",
   "metadata": {},
   "outputs": [
    {
     "name": "stdout",
     "output_type": "stream",
     "text": [
      "Qual a palavra: qwe    qweqwe     \n",
      "Não palindromo!\n"
     ]
    }
   ],
   "source": [
    "p = input('Qual a palavra: ').lower().strip()\n",
    "tam = len(p)\n",
    "se = True\n",
    "pa = ''\n",
    "\n",
    "# Desconsiderando espaços 1\n",
    "for i in range(0, tam):\n",
    "    if(p[i] != ' '):\n",
    "        pa += p[i]\n",
    "\n",
    "tam2 = len(pa)\n",
    "\n",
    "for c in range(0, tam2-1):\n",
    "    if pa[c] == pa[(tam2-1)-c]:\n",
    "        if(c == (tam2-1)-c):\n",
    "            se = True\n",
    "    else:\n",
    "        se = False\n",
    "        \n",
    "if(se):\n",
    "    print('Palindromo!')\n",
    "else:\n",
    "    print('Não palindromo!')"
   ]
  },
  {
   "cell_type": "code",
   "execution_count": 46,
   "id": "38abb043",
   "metadata": {},
   "outputs": [
    {
     "name": "stdout",
     "output_type": "stream",
     "text": [
      "Palavra: Felipe\n",
      "Não palindromo!\n"
     ]
    }
   ],
   "source": [
    "# RESOLUÇÃO EXERCICIO\n",
    "\n",
    "# Desconsiderando espaços 2\n",
    "frase = input('Palavra: ').strip().lower()\n",
    "palavras = frase.split()\n",
    "junto = ''.join(palavras)\n",
    "inverso = ''\n",
    "\n",
    "for c in range(len(junto)-1, -1, -1):\n",
    "    inverso += junto[c]\n",
    "\n",
    "if junto == inverso:\n",
    "    print('Palindromo!')\n",
    "else:\n",
    "    print('Não palindromo!')\n"
   ]
  },
  {
   "cell_type": "markdown",
   "id": "80f6c0f5",
   "metadata": {},
   "source": [
    "# Para inverter uma palavra com fatiamento de STRING"
   ]
  },
  {
   "cell_type": "code",
   "execution_count": 49,
   "id": "e36458f6",
   "metadata": {},
   "outputs": [
    {
     "name": "stdout",
     "output_type": "stream",
     "text": [
      "etset\n"
     ]
    }
   ],
   "source": [
    "palavra = 'Teste'.lower()\n",
    "inverso = palavra[::-1]\n",
    "print(inverso)"
   ]
  },
  {
   "cell_type": "code",
   "execution_count": null,
   "id": "41822356",
   "metadata": {},
   "outputs": [],
   "source": []
  }
 ],
 "metadata": {
  "kernelspec": {
   "display_name": "Python 3 (ipykernel)",
   "language": "python",
   "name": "python3"
  },
  "language_info": {
   "codemirror_mode": {
    "name": "ipython",
    "version": 3
   },
   "file_extension": ".py",
   "mimetype": "text/x-python",
   "name": "python",
   "nbconvert_exporter": "python",
   "pygments_lexer": "ipython3",
   "version": "3.9.7"
  }
 },
 "nbformat": 4,
 "nbformat_minor": 5
}

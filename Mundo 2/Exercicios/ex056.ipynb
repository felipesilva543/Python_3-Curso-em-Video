{
 "cells": [
  {
   "cell_type": "markdown",
   "id": "a333b796",
   "metadata": {},
   "source": [
    "Desenvolva um programa que leia o nome, idade e sexo de 4 pessoas. No final do programa, mostre: a média de idade do grupo, qual é o nome do homem mais velho e quantas mulheres têm menos de 20 anos."
   ]
  },
  {
   "cell_type": "code",
   "execution_count": 22,
   "id": "c85c0cbb",
   "metadata": {},
   "outputs": [
    {
     "name": "stdout",
     "output_type": "stream",
     "text": [
      "Nome da 1 pessoa: Felipe\n",
      "Idade da 1 pessoa: 100\n",
      "Sexo da 1 pessoa: m\n",
      "Nome da 2 pessoa: fa\n",
      "Idade da 2 pessoa: 35\n",
      "Sexo da 2 pessoa: m\n",
      "Nome da 3 pessoa: Iago\n",
      "Idade da 3 pessoa: 21\n",
      "Sexo da 3 pessoa: m\n",
      "Nome da 4 pessoa: Junin\n",
      "Idade da 4 pessoa: 5\n",
      "Sexo da 4 pessoa: m\n",
      "A média de idades é: 40.25 anos.\n",
      "O homem mais velho é: Felipe.\n",
      "0 mulheres tem menos de 20 anos.\n",
      "Felipe tem 100 anos e é do sexo M.\n",
      "fa tem 35 anos e é do sexo M.\n",
      "Iago tem 21 anos e é do sexo M.\n",
      "Junin tem 5 anos e é do sexo M.\n"
     ]
    }
   ],
   "source": [
    "nome = ['']*4\n",
    "idade = [0]*4\n",
    "sexo = ['']*4\n",
    "\n",
    "for n in range(0,4):\n",
    "    nome[n] = str(input('Nome da {} pessoa: '.format(n+1)))\n",
    "    idade[n] = int(input('Idade da {} pessoa: '.format(n+1)))\n",
    "    sexo[n] = str(input('Sexo da {} pessoa: '.format(n+1))).upper()\n",
    "\n",
    "soma = 0\n",
    "for c in range(0, 4):\n",
    "    soma += idade[c]\n",
    "print('A média de idades é: {} anos.'.format(soma/4))\n",
    "\n",
    "hmaisvelho = 0\n",
    "pos = 0\n",
    "for h in range(0, 4):\n",
    "    if sexo[h] == 'M':\n",
    "        if idade[h] > hmaisvelho:\n",
    "            pos = h\n",
    "            hmaisvelho = idade[h]\n",
    "print('O homem mais velho é: {}.'.format(nome[pos]))\n",
    "    \n",
    "cont = 0\n",
    "for m in range(0, 4):\n",
    "    if sexo[m] == 'F':\n",
    "        if idade[m] < 20:\n",
    "            cont += 1\n",
    "print('{} mulheres tem menos de 20 anos.'.format(cont))\n",
    "\n",
    "for t in range(0,4):\n",
    "    print('{} tem {} anos e é do sexo {}.'.format(nome[t], idade[t], sexo[t]))\n",
    "    "
   ]
  },
  {
   "cell_type": "code",
   "execution_count": null,
   "id": "36b87157",
   "metadata": {},
   "outputs": [],
   "source": []
  }
 ],
 "metadata": {
  "kernelspec": {
   "display_name": "Python 3 (ipykernel)",
   "language": "python",
   "name": "python3"
  },
  "language_info": {
   "codemirror_mode": {
    "name": "ipython",
    "version": 3
   },
   "file_extension": ".py",
   "mimetype": "text/x-python",
   "name": "python",
   "nbconvert_exporter": "python",
   "pygments_lexer": "ipython3",
   "version": "3.9.7"
  }
 },
 "nbformat": 4,
 "nbformat_minor": 5
}

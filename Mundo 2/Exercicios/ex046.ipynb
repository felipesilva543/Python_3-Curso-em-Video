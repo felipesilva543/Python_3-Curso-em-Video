{
 "cells": [
  {
   "cell_type": "markdown",
   "id": "38881434",
   "metadata": {},
   "source": [
    "Faça um programa que mostre na tela uma contagem regressiva para o estouro de fogos de artifício, indo de 10 até 0, com uma pausa de 1 segundo entre eles."
   ]
  },
  {
   "cell_type": "code",
   "execution_count": 3,
   "id": "2a0b6a5b",
   "metadata": {},
   "outputs": [
    {
     "name": "stdout",
     "output_type": "stream",
     "text": [
      "====================\n",
      "CONTAGEM REGRESSIVA\n",
      "====================\n",
      "10\n",
      "9\n",
      "8\n",
      "7\n",
      "6\n",
      "5\n",
      "4\n",
      "3\n",
      "2\n",
      "1\n",
      "0\n",
      "Imagine aqui vários fogos!\n"
     ]
    }
   ],
   "source": [
    "from time import sleep\n",
    "\n",
    "print('='*20)\n",
    "print('CONTAGEM REGRESSIVA')\n",
    "print('='*20)\n",
    "\n",
    "for c in range(10,-1, -1):\n",
    "    print(c)\n",
    "    sleep(1)\n",
    "print('Imagine aqui vários fogos!')"
   ]
  },
  {
   "cell_type": "code",
   "execution_count": null,
   "id": "b7188c31",
   "metadata": {},
   "outputs": [],
   "source": []
  }
 ],
 "metadata": {
  "kernelspec": {
   "display_name": "Python 3 (ipykernel)",
   "language": "python",
   "name": "python3"
  },
  "language_info": {
   "codemirror_mode": {
    "name": "ipython",
    "version": 3
   },
   "file_extension": ".py",
   "mimetype": "text/x-python",
   "name": "python",
   "nbconvert_exporter": "python",
   "pygments_lexer": "ipython3",
   "version": "3.9.7"
  }
 },
 "nbformat": 4,
 "nbformat_minor": 5
}

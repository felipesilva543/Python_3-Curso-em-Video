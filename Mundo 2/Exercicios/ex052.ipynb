{
 "cells": [
  {
   "cell_type": "markdown",
   "id": "71470df6",
   "metadata": {},
   "source": [
    "Faça um programa que leia um número inteiro e diga se ele é ou não um número primo."
   ]
  },
  {
   "cell_type": "code",
   "execution_count": 69,
   "id": "f90adc3d",
   "metadata": {},
   "outputs": [
    {
     "name": "stdout",
     "output_type": "stream",
     "text": [
      "Numero: 5\n",
      "\n",
      "O número 5 é PRIMO!\n"
     ]
    }
   ],
   "source": [
    "n = int(input('Numero: '))\n",
    "cont = 0\n",
    "met = n//2\n",
    "for c in range(1, met+1):\n",
    "    if (n%c) == 0:\n",
    "        cont += 1\n",
    "if n == 1:\n",
    "    print('\\nO número {} NÃO é PRIMO!'.format(n))\n",
    "else:\n",
    "    if cont > 1:\n",
    "        print('\\nO número {} NÃO é PRIMO!'.format(n))\n",
    "    else:\n",
    "        print('\\nO número {} é PRIMO!'.format(n))\n"
   ]
  },
  {
   "cell_type": "code",
   "execution_count": null,
   "id": "d3181f69",
   "metadata": {},
   "outputs": [],
   "source": []
  }
 ],
 "metadata": {
  "kernelspec": {
   "display_name": "Python 3 (ipykernel)",
   "language": "python",
   "name": "python3"
  },
  "language_info": {
   "codemirror_mode": {
    "name": "ipython",
    "version": 3
   },
   "file_extension": ".py",
   "mimetype": "text/x-python",
   "name": "python",
   "nbconvert_exporter": "python",
   "pygments_lexer": "ipython3",
   "version": "3.9.7"
  }
 },
 "nbformat": 4,
 "nbformat_minor": 5
}

{
 "cells": [
  {
   "cell_type": "markdown",
   "id": "811fdda8",
   "metadata": {},
   "source": [
    "Faça um programa que leia um número qualquer e mostre o seu fatorial. Exemplo:\n",
    "\n",
    "5! = 5 x 4 x 3 x 2 x 1 = 120"
   ]
  },
  {
   "cell_type": "code",
   "execution_count": 43,
   "id": "06714b23",
   "metadata": {},
   "outputs": [
    {
     "name": "stdout",
     "output_type": "stream",
     "text": [
      "Digite um valor: 6\n",
      "6! = 720.\n"
     ]
    }
   ],
   "source": [
    "n = int(input('Digite um valor: '))\n",
    "fato = 1\n",
    "aux = n\n",
    "while aux > 0:\n",
    "    fato *= aux\n",
    "    aux -= 1\n",
    "print('{}! = {}.'.format(n, fato))"
   ]
  },
  {
   "cell_type": "code",
   "execution_count": 31,
   "id": "fda57f26",
   "metadata": {},
   "outputs": [
    {
     "name": "stdout",
     "output_type": "stream",
     "text": [
      "Digite um valor: 6\n",
      ">> 6\n",
      ">> 6\n",
      ">> 6\n",
      ">> 6\n",
      ">> 6\n",
      ">> 6\n",
      "Fatorial de 6 = 720\n"
     ]
    }
   ],
   "source": [
    "n = int(input('Digite um valor: '))\n",
    "fato = 1\n",
    "aux = n\n",
    "\n",
    "for c in range(aux, 0, -1):\n",
    "    fato *= c\n",
    "    \n",
    "print('Fatorial de {} = {}'.format(n, fato))"
   ]
  },
  {
   "cell_type": "code",
   "execution_count": null,
   "id": "8e0f5a0d",
   "metadata": {},
   "outputs": [],
   "source": []
  }
 ],
 "metadata": {
  "kernelspec": {
   "display_name": "Python 3 (ipykernel)",
   "language": "python",
   "name": "python3"
  },
  "language_info": {
   "codemirror_mode": {
    "name": "ipython",
    "version": 3
   },
   "file_extension": ".py",
   "mimetype": "text/x-python",
   "name": "python",
   "nbconvert_exporter": "python",
   "pygments_lexer": "ipython3",
   "version": "3.9.7"
  }
 },
 "nbformat": 4,
 "nbformat_minor": 5
}

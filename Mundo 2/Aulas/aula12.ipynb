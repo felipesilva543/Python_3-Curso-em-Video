{
 "cells": [
  {
   "cell_type": "markdown",
   "id": "927d95ab",
   "metadata": {},
   "source": [
    "# Condições Alinhadas"
   ]
  },
  {
   "cell_type": "markdown",
   "id": "7052d29c",
   "metadata": {},
   "source": [
    "#### if \\<condicao>:\n",
    "    <comandos>\n",
    "#### elif \\<condicao>:\n",
    "    <comandos>\n",
    "#### else:\n",
    "    <comandos> "
   ]
  },
  {
   "cell_type": "code",
   "execution_count": 15,
   "id": "42b2950f",
   "metadata": {},
   "outputs": [
    {
     "name": "stdout",
     "output_type": "stream",
     "text": [
      "Digite sem nome: francisco\n",
      "Seu nome é bem popular!\n",
      "Tenha um bom dia, Francisco!\n"
     ]
    }
   ],
   "source": [
    "nome = input('Digite sem nome: ').title()\n",
    "if nome == 'Felipe':\n",
    "    print('Que belo nome!')\n",
    "elif nome == 'Pedro' or nome == 'Maria' or nome == 'Francisco':\n",
    "    print('Seu nome é bem popular!')\n",
    "elif nome in \"Ana Paula Brena Leticia\":\n",
    "    print('Que belo nome feminino!')\n",
    "else:\n",
    "    print('Que nome normal!')\n",
    "print('Tenha um bom dia, {}!'.format(nome))"
   ]
  },
  {
   "cell_type": "code",
   "execution_count": null,
   "id": "983587f2",
   "metadata": {},
   "outputs": [],
   "source": []
  }
 ],
 "metadata": {
  "kernelspec": {
   "display_name": "Python 3 (ipykernel)",
   "language": "python",
   "name": "python3"
  },
  "language_info": {
   "codemirror_mode": {
    "name": "ipython",
    "version": 3
   },
   "file_extension": ".py",
   "mimetype": "text/x-python",
   "name": "python",
   "nbconvert_exporter": "python",
   "pygments_lexer": "ipython3",
   "version": "3.9.7"
  }
 },
 "nbformat": 4,
 "nbformat_minor": 5
}

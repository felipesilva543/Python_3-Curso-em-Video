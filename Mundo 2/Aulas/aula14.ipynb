{
 "cells": [
  {
   "cell_type": "markdown",
   "id": "c1af9db7",
   "metadata": {},
   "source": [
    "# While\n",
    "\n",
    "c=1 while c !=10:\n",
    "\n",
    "print(c)\n",
    "\n",
    "c+=1\n",
    "\n",
    "print(‘Acabou’)"
   ]
  },
  {
   "cell_type": "code",
   "execution_count": 1,
   "id": "8fd32222",
   "metadata": {},
   "outputs": [
    {
     "name": "stdout",
     "output_type": "stream",
     "text": [
      "1 2 3 4 5 6 7 8 9 \n",
      "Fim\n"
     ]
    }
   ],
   "source": [
    "for c in range(1, 10):\n",
    "    print(c, end =' ')\n",
    "print('\\nFim')\n",
    "    "
   ]
  },
  {
   "cell_type": "code",
   "execution_count": 2,
   "id": "04a503a4",
   "metadata": {},
   "outputs": [
    {
     "name": "stdout",
     "output_type": "stream",
     "text": [
      "1 2 3 4 5 6 7 8 9 \n",
      "Fim\n"
     ]
    }
   ],
   "source": [
    "c = 1\n",
    "while c < 10:\n",
    "    print(c, end=' ')\n",
    "    c += 1\n",
    "print('\\nFim')"
   ]
  },
  {
   "cell_type": "code",
   "execution_count": 3,
   "id": "a53b5c6e",
   "metadata": {},
   "outputs": [
    {
     "name": "stdout",
     "output_type": "stream",
     "text": [
      "Digite um valor: 2\n",
      "Digite um valor: 3\n",
      "Digite um valor: 4\n",
      "Digite um valor: 5\n",
      "Digite um valor: 1\n",
      "Digite um valor: 2\n",
      "Digite um valor: 5\n",
      "Digite um valor: 6\n",
      "Digite um valor: 7\n",
      "Digite um valor: 8\n",
      "Digite um valor: 0\n"
     ]
    }
   ],
   "source": [
    "n = 1\n",
    "while n != 0:\n",
    "    n = int(input('Digite um valor: '))"
   ]
  },
  {
   "cell_type": "code",
   "execution_count": 5,
   "id": "d555c6b2",
   "metadata": {},
   "outputs": [
    {
     "name": "stdout",
     "output_type": "stream",
     "text": [
      "Digite um valor: 2\n",
      "Digite um valor: 3\n",
      "Digite um valor: 4\n",
      "Digite um valor: 5\n",
      "Digite um valor: 6\n",
      "Digite um valor: 7\n",
      "Digite um valor: 0\n",
      "Você digitou 3 números impares e 3 números pares!\n"
     ]
    }
   ],
   "source": [
    "n = 1\n",
    "impar = par = 0\n",
    "while n != 0:\n",
    "    n = int(input('Digite um valor: '))\n",
    "    if n != 0:\n",
    "        if n % 2 == 0:\n",
    "            par += 1\n",
    "        else:\n",
    "            impar += 1\n",
    "print('Você digitou {} números impares e {} números pares!'.format(impar, par))"
   ]
  },
  {
   "cell_type": "code",
   "execution_count": null,
   "id": "70a4f847",
   "metadata": {},
   "outputs": [],
   "source": []
  }
 ],
 "metadata": {
  "kernelspec": {
   "display_name": "Python 3 (ipykernel)",
   "language": "python",
   "name": "python3"
  },
  "language_info": {
   "codemirror_mode": {
    "name": "ipython",
    "version": 3
   },
   "file_extension": ".py",
   "mimetype": "text/x-python",
   "name": "python",
   "nbconvert_exporter": "python",
   "pygments_lexer": "ipython3",
   "version": "3.9.7"
  }
 },
 "nbformat": 4,
 "nbformat_minor": 5
}

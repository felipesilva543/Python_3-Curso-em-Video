{
 "cells": [
  {
   "cell_type": "markdown",
   "id": "5def7eaf",
   "metadata": {},
   "source": [
    "# INTERRONPENDO UM WHILE\n",
    "\n",
    "breck"
   ]
  },
  {
   "cell_type": "code",
   "execution_count": 1,
   "id": "d8eac96e",
   "metadata": {},
   "outputs": [
    {
     "name": "stdout",
     "output_type": "stream",
     "text": [
      "Digite um valor [999 para sair]: 2\n",
      "Digite um valor [999 para sair]: 1\n",
      "Digite um valor [999 para sair]: 3\n",
      "Digite um valor [999 para sair]: 4\n",
      "Digite um valor [999 para sair]: 999\n",
      "A soma dos valores é 10.\n"
     ]
    }
   ],
   "source": [
    "s = 0\n",
    "while True:\n",
    "    n = int(input('Digite um valor [999 para sair]: '))\n",
    "    if n == 999:\n",
    "        break\n",
    "    s += n\n",
    "print('A soma dos valores é {}.'.format(s))"
   ]
  },
  {
   "cell_type": "markdown",
   "id": "00a54e53",
   "metadata": {},
   "source": [
    "# FSTRING"
   ]
  },
  {
   "cell_type": "code",
   "execution_count": 3,
   "id": "e02c269a",
   "metadata": {},
   "outputs": [
    {
     "name": "stdout",
     "output_type": "stream",
     "text": [
      "Digite um valor [999 para sair]: 2\n",
      "Digite um valor [999 para sair]: 3\n",
      "Digite um valor [999 para sair]: 1123\n",
      "Digite um valor [999 para sair]: 4\n",
      "Digite um valor [999 para sair]: 4\n",
      "Digite um valor [999 para sair]: 23\n",
      "Digite um valor [999 para sair]: 123\n",
      "Digite um valor [999 para sair]: 999\n",
      "A soma dos valores é 1282.\n"
     ]
    }
   ],
   "source": [
    "s = 0\n",
    "while True:\n",
    "    n = int(input('Digite um valor [999 para sair]: '))\n",
    "    if n == 999:\n",
    "        break\n",
    "    s += n\n",
    "print(f'A soma dos valores é {s}.')"
   ]
  },
  {
   "cell_type": "code",
   "execution_count": 10,
   "id": "cec1869c",
   "metadata": {},
   "outputs": [
    {
     "name": "stdout",
     "output_type": "stream",
     "text": [
      "O Felipe tem 25 anos e ganha R$999.\n",
      "O -------Felipe------- tem 25 anos e ganha R$999.00.\n",
      "O --------------Felipe tem 25 anos e ganha R$999.00.\n",
      "O Felipe-------------- tem 25 anos e ganha R$999.00.\n"
     ]
    }
   ],
   "source": [
    "nome = 'Felipe'\n",
    "idade = 25\n",
    "salario = 999\n",
    "\n",
    "print(f'O {nome} tem {idade} anos e ganha R${salario}.')\n",
    "print(f'O {nome:-^20} tem {idade} anos e ganha R${salario:.2f}.')\n",
    "print(f'O {nome:->20} tem {idade} anos e ganha R${salario:.2f}.')\n",
    "print(f'O {nome:-<20} tem {idade} anos e ganha R${salario:.2f}.')"
   ]
  },
  {
   "cell_type": "code",
   "execution_count": null,
   "id": "8d2645dd",
   "metadata": {},
   "outputs": [],
   "source": []
  }
 ],
 "metadata": {
  "kernelspec": {
   "display_name": "Python 3 (ipykernel)",
   "language": "python",
   "name": "python3"
  },
  "language_info": {
   "codemirror_mode": {
    "name": "ipython",
    "version": 3
   },
   "file_extension": ".py",
   "mimetype": "text/x-python",
   "name": "python",
   "nbconvert_exporter": "python",
   "pygments_lexer": "ipython3",
   "version": "3.9.7"
  }
 },
 "nbformat": 4,
 "nbformat_minor": 5
}

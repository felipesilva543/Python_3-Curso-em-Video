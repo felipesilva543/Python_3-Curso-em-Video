{
 "cells": [
  {
   "cell_type": "markdown",
   "id": "da62b393",
   "metadata": {},
   "source": [
    "Crie um programa que gerencie o aproveitamento de um jogador de futebol. O programa vai ler o nome do jogador e quantas partidas ele jogou. Depois vai ler a quantidade de gols feitos em cada partida. No final, tudo isso será guardado em um dicionário, incluindo o total de gols feitos durante o campeonato."
   ]
  },
  {
   "cell_type": "code",
   "execution_count": 14,
   "id": "774508b6",
   "metadata": {},
   "outputs": [
    {
     "name": "stdout",
     "output_type": "stream",
     "text": [
      "Nome do Jogador: Felipe\n",
      "Número de partidas: 4\n",
      "Numero de gols na 1° partida: 1\n",
      "Numero de gols na 2° partida: 2\n",
      "Numero de gols na 3° partida: 3\n",
      "Numero de gols na 4° partida: 4\n",
      "=-=-=-=-=-=-=-=-=-=-=-=-=-=-=-=-=-=-=-=-=-=-=-=-=-=-=-=-=-=-\n",
      "nome = Felipe\n",
      "nPartidas = 4\n",
      "golsPartidas = [1, 2, 3, 4]\n",
      "totGols = 10\n",
      "=-=-=-=-=-=-=-=-=-=-=-=-=-=-=-=-=-=-=-=-=-=-=-=-=-=-=-=-=-=-\n",
      "O jogador Felipe fez 10 gols em 4 jogos:\n",
      "  => No jogo 1 ele fez: 1 Gol.\n",
      "  => No jogo 2 ele fez: 2 Gol.\n",
      "  => No jogo 3 ele fez: 3 Gol.\n",
      "  => No jogo 4 ele fez: 4 Gol.\n"
     ]
    }
   ],
   "source": [
    "aproveitamento = dict()\n",
    "\n",
    "aproveitamento['nome'] = str(input('Nome do Jogador: '))\n",
    "aproveitamento['nPartidas'] = int(input('Número de partidas: '))\n",
    "\n",
    "gols = list()\n",
    "totgols = 0\n",
    "for i in range(0, aproveitamento['nPartidas']):\n",
    "    gols.append(int(input(f'Numero de gols na {i+1}° partida: ')))\n",
    "    totgols += gols[i]\n",
    "\n",
    "aproveitamento['golsPartidas'] = gols[:]\n",
    "aproveitamento['totGols'] = totgols\n",
    "\n",
    "print('=-' * 30)\n",
    "for k, v in aproveitamento.items():\n",
    "    print(f'{k} = {v}')\n",
    "    \n",
    "print('=-' * 30)    \n",
    "print(f'O jogador {aproveitamento[\"nome\"]} fez {aproveitamento[\"totGols\"]} gols em {aproveitamento[\"nPartidas\"]} jogos:')\n",
    "for n, c in enumerate(aproveitamento['golsPartidas']):\n",
    "    print(f'  => No jogo {n+1} ele fez: {c} Gol.')"
   ]
  },
  {
   "cell_type": "code",
   "execution_count": 2,
   "id": "9bbb4846",
   "metadata": {},
   "outputs": [
    {
     "name": "stdout",
     "output_type": "stream",
     "text": [
      "{'nome': 'Felipe', 'nPartidas': 4, 'goldsPartidas': [2, 0, 1, 4], 'totGols': 7}\n"
     ]
    }
   ],
   "source": [
    "print(aproveitamento)"
   ]
  },
  {
   "cell_type": "code",
   "execution_count": 7,
   "id": "25cf150f",
   "metadata": {},
   "outputs": [
    {
     "name": "stdout",
     "output_type": "stream",
     "text": [
      "0\n"
     ]
    }
   ],
   "source": [
    "print(aproveitamento['golsPartidas'][1])"
   ]
  },
  {
   "cell_type": "code",
   "execution_count": 15,
   "id": "debf6cb3",
   "metadata": {},
   "outputs": [
    {
     "name": "stdout",
     "output_type": "stream",
     "text": [
      "{'nome': 'Felipe', 'nPartidas': 4, 'golsPartidas': [1, 2, 3, 4], 'totGols': 10}\n"
     ]
    }
   ],
   "source": [
    "print(aproveitamento)"
   ]
  },
  {
   "cell_type": "code",
   "execution_count": null,
   "id": "1bdbeb49",
   "metadata": {},
   "outputs": [],
   "source": []
  }
 ],
 "metadata": {
  "kernelspec": {
   "display_name": "Python 3 (ipykernel)",
   "language": "python",
   "name": "python3"
  },
  "language_info": {
   "codemirror_mode": {
    "name": "ipython",
    "version": 3
   },
   "file_extension": ".py",
   "mimetype": "text/x-python",
   "name": "python",
   "nbconvert_exporter": "python",
   "pygments_lexer": "ipython3",
   "version": "3.9.7"
  }
 },
 "nbformat": 4,
 "nbformat_minor": 5
}

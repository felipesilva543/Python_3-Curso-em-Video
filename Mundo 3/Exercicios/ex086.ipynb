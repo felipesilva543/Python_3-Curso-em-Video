{
 "cells": [
  {
   "cell_type": "markdown",
   "id": "ea5b3ec5",
   "metadata": {},
   "source": [
    "Crie um programa que declare uma matriz de dimensão 3×3 e preencha com valores lidos pelo teclado. No final, mostre a matriz na tela, com a formatação correta."
   ]
  },
  {
   "cell_type": "code",
   "execution_count": 8,
   "id": "582d40b7",
   "metadata": {},
   "outputs": [
    {
     "name": "stdout",
     "output_type": "stream",
     "text": [
      "Digite um valor: 1\n",
      "Digite um valor: 234\n",
      "Digite um valor: 432\n",
      "Digite um valor: 5567\n",
      "Digite um valor: 234\n",
      "Digite um valor: 53\n",
      "Digite um valor: 4\n",
      "Digite um valor: 2345\n",
      "Digite um valor: 52345\n",
      "-=-=-=-=-=-=-=-=-=-=-=-=-=-=-=-=-=-=-=-=-=-=-=-=-=-=-=-=-=-=\n",
      "[ 1  ] [234 ] [432 ]\n",
      "[5567] [234 ] [ 53 ]\n",
      "[ 4  ] [2345] [52345]\n"
     ]
    }
   ],
   "source": [
    "matriz = [[],[],[]]\n",
    "\n",
    "for i in range(0, 9):\n",
    "    n = int(input('Digite um valor: '))\n",
    "    if i < 3:\n",
    "        matriz[0].append(n)\n",
    "    elif 3 <= i < 6:\n",
    "        matriz[1].append(n)\n",
    "    else:\n",
    "        matriz[2].append(n)\n",
    "\n",
    "print('-=' * 30)\n",
    "for c in matriz:\n",
    "    print(f'[{c[0]:^4}] [{c[1]:^4}] [{c[2]:^4}]')"
   ]
  },
  {
   "cell_type": "code",
   "execution_count": 13,
   "id": "e3250517",
   "metadata": {},
   "outputs": [
    {
     "name": "stdout",
     "output_type": "stream",
     "text": [
      "Digite um valor [0, 0]: 1\n",
      "Digite um valor [0, 1]: 2\n",
      "Digite um valor [0, 2]: 3\n",
      "Digite um valor [1, 0]: 4\n",
      "Digite um valor [1, 1]: 5\n",
      "Digite um valor [1, 2]: 6\n",
      "Digite um valor [2, 0]: 7\n",
      "Digite um valor [2, 1]: 8\n",
      "Digite um valor [2, 2]: 9\n",
      "-=-=-=-=-=-=-=-=-=-=-=-=-=-=-=-=-=-=-=-=-=-=-=-=-=-=-=-=-=-=\n",
      "[ 1  ] [ 2  ] [ 3  ]\n",
      "[ 4  ] [ 5  ] [ 6  ]\n",
      "[ 7  ] [ 8  ] [ 9  ]\n"
     ]
    }
   ],
   "source": [
    "mat = [[0, 0, 0], [0, 0, 0], [0, 0, 0]]\n",
    "for l in range(0, 3):\n",
    "    for c in range(0, 3):\n",
    "        mat[l][c] = int(input(f'Digite um valor [{l}, {c}]: '))\n",
    "        \n",
    "print('-=' * 30)\n",
    "for c in mat:\n",
    "    print(f'[{c[0]:^4}] [{c[1]:^4}] [{c[2]:^4}]')"
   ]
  },
  {
   "cell_type": "markdown",
   "id": "ff7f4644",
   "metadata": {},
   "source": [
    "## "
   ]
  }
 ],
 "metadata": {
  "kernelspec": {
   "display_name": "Python 3 (ipykernel)",
   "language": "python",
   "name": "python3"
  },
  "language_info": {
   "codemirror_mode": {
    "name": "ipython",
    "version": 3
   },
   "file_extension": ".py",
   "mimetype": "text/x-python",
   "name": "python",
   "nbconvert_exporter": "python",
   "pygments_lexer": "ipython3",
   "version": "3.9.7"
  }
 },
 "nbformat": 4,
 "nbformat_minor": 5
}

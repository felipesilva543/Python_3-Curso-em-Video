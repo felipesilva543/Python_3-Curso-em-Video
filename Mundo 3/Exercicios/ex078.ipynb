{
 "cells": [
  {
   "cell_type": "markdown",
   "id": "a5fa1ab7",
   "metadata": {},
   "source": [
    "Faça um programa que leia 5 valores numéricos e guarde-os em uma lista. No final, mostre qual foi o maior e o menor valor digitado e as suas respectivas posições na lista."
   ]
  },
  {
   "cell_type": "code",
   "execution_count": 5,
   "id": "9e2146dc",
   "metadata": {},
   "outputs": [
    {
     "name": "stdout",
     "output_type": "stream",
     "text": [
      "Digite o 1 valor: 1\n",
      "Digite o 2 valor: 4\n",
      "Digite o 3 valor: 1\n",
      "Digite o 4 valor: 2\n",
      "Digite o 5 valor: 4\n",
      "O maior númeor na lista é 4 e apareceu nas posições: 2 5 \n",
      "O menor númeor na lista é 1 e apareceu nas posições: 1 3 "
     ]
    }
   ],
   "source": [
    "lista = list()\n",
    "for i in range(0, 5):\n",
    "    lista.append(int(input(f'Digite o {i+1} valor: ')))\n",
    "maior = max(lista)\n",
    "menor = min(lista)\n",
    "print(f'O maior númeor na lista é {maior} e apareceu nas posições: ', end='')\n",
    "for pos, ma in enumerate(lista):\n",
    "    if ma == maior:\n",
    "        print(f'{pos+1}', end=' ')\n",
    "print(f'\\nO menor númeor na lista é {menor} e apareceu nas posições: ', end='')\n",
    "for pos, me in enumerate(lista):\n",
    "    if me == menor:\n",
    "        print(f'{pos+1}', end=' ')\n",
    "        "
   ]
  }
 ],
 "metadata": {
  "kernelspec": {
   "display_name": "Python 3 (ipykernel)",
   "language": "python",
   "name": "python3"
  },
  "language_info": {
   "codemirror_mode": {
    "name": "ipython",
    "version": 3
   },
   "file_extension": ".py",
   "mimetype": "text/x-python",
   "name": "python",
   "nbconvert_exporter": "python",
   "pygments_lexer": "ipython3",
   "version": "3.9.7"
  }
 },
 "nbformat": 4,
 "nbformat_minor": 5
}

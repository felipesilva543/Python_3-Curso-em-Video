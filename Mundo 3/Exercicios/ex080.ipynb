{
 "cells": [
  {
   "cell_type": "markdown",
   "id": "a1961e20",
   "metadata": {},
   "source": [
    "Crie um programa onde o usuário possa digitar cinco valores numéricos e cadastre-os em uma lista, já na posição correta de inserção (sem usar o sort()). No final, mostre a lista ordenada na tela."
   ]
  },
  {
   "cell_type": "code",
   "execution_count": 73,
   "id": "ad4815a5",
   "metadata": {},
   "outputs": [
    {
     "name": "stdout",
     "output_type": "stream",
     "text": [
      "Digite um valor: 3\n",
      "Digite um valor: 4\n",
      "Digite um valor: 2\n",
      "Digite um valor: 76\n",
      "Digite um valor: 4\n",
      "Lista: [2, 3, 4, 4, 76]\n"
     ]
    }
   ],
   "source": [
    "# MINHA RESOLUÇÃO\n",
    "\n",
    "lista = []\n",
    "\n",
    "for c in range(0, 5):\n",
    "    n = int(input('Digite um valor: '))\n",
    "    if c == 0:\n",
    "        lista.append(n)\n",
    "    else:\n",
    "        for pos, i in enumerate(lista):\n",
    "            if n < i:\n",
    "                lista.insert(pos, n)\n",
    "                break\n",
    "            if n > lista[lista.index(max(lista))]:\n",
    "                lista.insert(lista.index(max(lista))+1, n)\n",
    "                break\n",
    "\n",
    "print(f'Lista: {lista}')"
   ]
  },
  {
   "cell_type": "code",
   "execution_count": 74,
   "id": "63d5e9d6",
   "metadata": {},
   "outputs": [
    {
     "name": "stdout",
     "output_type": "stream",
     "text": [
      "Digite um numero: 98\n",
      "Digite um numero: 2\n",
      "Digite um numero: 3\n",
      "Digite um numero: 46544\n",
      "Digite um numero: 34\n",
      "[2, 3, 34, 98, 46544]\n"
     ]
    }
   ],
   "source": [
    "# RESOLUÇÃO DA AULA\n",
    "\n",
    "li = list()\n",
    "\n",
    "for c in range(0, 5):\n",
    "    n = int(input('Digite um numero: '))\n",
    "    if c == 0 or n > li[-1]:\n",
    "        li.append(n)\n",
    "    else:\n",
    "        pos = 0\n",
    "        while pos < len(li):\n",
    "            if n <= li[pos]:\n",
    "                li.insert(pos, n)\n",
    "                break\n",
    "            pos += 1\n",
    "        \n",
    "        \n",
    "print(li)"
   ]
  },
  {
   "cell_type": "code",
   "execution_count": null,
   "id": "88ca645d",
   "metadata": {},
   "outputs": [],
   "source": []
  }
 ],
 "metadata": {
  "kernelspec": {
   "display_name": "Python 3 (ipykernel)",
   "language": "python",
   "name": "python3"
  },
  "language_info": {
   "codemirror_mode": {
    "name": "ipython",
    "version": 3
   },
   "file_extension": ".py",
   "mimetype": "text/x-python",
   "name": "python",
   "nbconvert_exporter": "python",
   "pygments_lexer": "ipython3",
   "version": "3.9.7"
  }
 },
 "nbformat": 4,
 "nbformat_minor": 5
}

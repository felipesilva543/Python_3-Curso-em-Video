{
 "cells": [
  {
   "cell_type": "markdown",
   "id": "c5a502b0",
   "metadata": {},
   "source": [
    "Dentro do pacote utilidadesCeV que criamos no desafio 111, temos um módulo chamado dado. Crie uma função chamada leiaDinheiro() que seja capaz de funcionar como a função imputa(), mas com uma validação de dados para aceitar apenas valores que seja monetários."
   ]
  },
  {
   "cell_type": "code",
   "execution_count": 3,
   "id": "53d35928",
   "metadata": {},
   "outputs": [
    {
     "name": "stdout",
     "output_type": "stream",
     "text": [
      "Digite um valor: R$   124    \n",
      "---------------------------------\n",
      "         RESUMO VALOR         \n",
      "---------------------------------\n",
      "Dobro: \t\t\tR$248,00\n",
      "Metade \t\t\tR$62,00\n",
      "Aumento de 20%: \tR$148,80\n",
      "Diminuição de 10%: \tR$111,60\n",
      "---------------------------------\n"
     ]
    }
   ],
   "source": [
    "from utilidades import moeda\n",
    "from utilidades import dado\n",
    "\n",
    "num = dado.leia_dinheiro('Digite um valor: R$')\n",
    "\n",
    "moeda.resumo(num, 20, 10)\n",
    "\n"
   ]
  },
  {
   "cell_type": "code",
   "execution_count": null,
   "id": "cfab5a50",
   "metadata": {},
   "outputs": [],
   "source": []
  }
 ],
 "metadata": {
  "kernelspec": {
   "display_name": "Python 3 (ipykernel)",
   "language": "python",
   "name": "python3"
  },
  "language_info": {
   "codemirror_mode": {
    "name": "ipython",
    "version": 3
   },
   "file_extension": ".py",
   "mimetype": "text/x-python",
   "name": "python",
   "nbconvert_exporter": "python",
   "pygments_lexer": "ipython3",
   "version": "3.9.7"
  }
 },
 "nbformat": 4,
 "nbformat_minor": 5
}

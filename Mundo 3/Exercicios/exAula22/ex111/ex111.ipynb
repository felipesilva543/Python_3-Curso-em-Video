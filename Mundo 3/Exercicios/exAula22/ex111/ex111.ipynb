{
 "cells": [
  {
   "cell_type": "markdown",
   "id": "c5a502b0",
   "metadata": {},
   "source": [
    "Crie um pacote chamado utilidadesCeV que tenha dois módulos internos chamados moeda e dado. Transfira todas as funções utilizadas nos desafios 107, 108 e 109 para o primeiro pacote e mantenha tudo funcionando."
   ]
  },
  {
   "cell_type": "code",
   "execution_count": 5,
   "id": "53d35928",
   "metadata": {},
   "outputs": [
    {
     "name": "stdout",
     "output_type": "stream",
     "text": [
      "Digite um Valor: R$20.6\n",
      "---------------------------------\n",
      "         RESUMO VALOR         \n",
      "---------------------------------\n",
      "Dobro: \t\t\tR$41,20\n",
      "Metade \t\t\tR$10,30\n",
      "Aumento de 20%: \tR$24,72\n",
      "Diminuição de 10%: \tR$18,54\n",
      "---------------------------------\n"
     ]
    }
   ],
   "source": [
    "from utilidades import moeda\n",
    "from utilidades import dado\n",
    "\n",
    "num = float(input('Digite um Valor: R$'))\n",
    "moeda.resumo(num, 20, 10)\n"
   ]
  },
  {
   "cell_type": "code",
   "execution_count": null,
   "id": "c4b3ffe3",
   "metadata": {},
   "outputs": [],
   "source": []
  }
 ],
 "metadata": {
  "kernelspec": {
   "display_name": "Python 3 (ipykernel)",
   "language": "python",
   "name": "python3"
  },
  "language_info": {
   "codemirror_mode": {
    "name": "ipython",
    "version": 3
   },
   "file_extension": ".py",
   "mimetype": "text/x-python",
   "name": "python",
   "nbconvert_exporter": "python",
   "pygments_lexer": "ipython3",
   "version": "3.9.7"
  }
 },
 "nbformat": 4,
 "nbformat_minor": 5
}

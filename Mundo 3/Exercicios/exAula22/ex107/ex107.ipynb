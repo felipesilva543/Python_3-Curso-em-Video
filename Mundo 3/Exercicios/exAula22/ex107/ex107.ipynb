{
 "cells": [
  {
   "cell_type": "markdown",
   "id": "64f6fd01",
   "metadata": {},
   "source": [
    "Crie um módulo chamado moeda.py que tenha as funções incorporadas aumentar(), diminuir(), dobro() e metade(). Faça também um programa que importe esse módulo e use algumas dessas funções."
   ]
  },
  {
   "cell_type": "code",
   "execution_count": 1,
   "id": "4ad7fa4c",
   "metadata": {},
   "outputs": [
    {
     "name": "stdout",
     "output_type": "stream",
     "text": [
      "Digite um valor: R$100\n",
      "O dobro de 100 é 200\n",
      "A metade de 100 é 50.0\n",
      "Com um aumento de 20%: 100 fica 120.0\n",
      "Com a diminuição de 15%: 100 fica 85.0\n"
     ]
    }
   ],
   "source": [
    "import moeda\n",
    "\n",
    "num = float(input('Digite um valor: R$'))\n",
    "print(f'O dobro de {num} é {moeda.dobro(num)}')\n",
    "print(f'A metade de {num} é {moeda.metade(num)}')\n",
    "print(f'Com um aumento de 20%: {num} fica {moeda.aumentar(num, 20)}')\n",
    "print(f'Com a diminuição de 15%: {num} fica {moeda.diminuir(num, 15)}')"
   ]
  },
  {
   "cell_type": "code",
   "execution_count": null,
   "id": "75fe4c14",
   "metadata": {},
   "outputs": [],
   "source": []
  },
  {
   "cell_type": "code",
   "execution_count": null,
   "id": "8e79f9f1",
   "metadata": {},
   "outputs": [],
   "source": []
  }
 ],
 "metadata": {
  "kernelspec": {
   "display_name": "Python 3 (ipykernel)",
   "language": "python",
   "name": "python3"
  },
  "language_info": {
   "codemirror_mode": {
    "name": "ipython",
    "version": 3
   },
   "file_extension": ".py",
   "mimetype": "text/x-python",
   "name": "python",
   "nbconvert_exporter": "python",
   "pygments_lexer": "ipython3",
   "version": "3.9.7"
  }
 },
 "nbformat": 4,
 "nbformat_minor": 5
}

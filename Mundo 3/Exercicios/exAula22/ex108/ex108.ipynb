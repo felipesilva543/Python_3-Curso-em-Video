{
 "cells": [
  {
   "cell_type": "markdown",
   "id": "5fb4d869",
   "metadata": {},
   "source": [
    "Adapte o código do desafio #107, criando uma função adicional chamada moeda() que consiga mostrar os números como um valor monetário formatado."
   ]
  },
  {
   "cell_type": "code",
   "execution_count": 2,
   "id": "56e62483",
   "metadata": {},
   "outputs": [
    {
     "name": "stdout",
     "output_type": "stream",
     "text": [
      "Digite um valor: R$100\n",
      "O dobro de R$100,00 é R$200,00\n",
      "A metade de R$100,00 é R$50,00\n",
      "Com um aumento de 20%: R$100,00 fica R$120,00\n",
      "Com a diminuição de 15%: R$100,00 fica R$85,00\n"
     ]
    }
   ],
   "source": [
    "import moeda\n",
    "\n",
    "num = float(input('Digite um valor: R$'))\n",
    "print(f'O dobro de {moeda.moeda(num)} é {moeda.moeda(moeda.dobro(num))}')\n",
    "print(f'A metade de {moeda.moeda(num)} é {moeda.moeda(moeda.metade(num))}')\n",
    "print(f'Com um aumento de 20%: {moeda.moeda(num)} fica {moeda.moeda(moeda.aumentar(num, 20))}')\n",
    "print(f'Com a diminuição de 15%: {moeda.moeda(num)} fica {moeda.moeda(moeda.diminuir(num, 15))}')"
   ]
  },
  {
   "cell_type": "code",
   "execution_count": null,
   "id": "7613b76d",
   "metadata": {},
   "outputs": [],
   "source": []
  }
 ],
 "metadata": {
  "kernelspec": {
   "display_name": "Python 3 (ipykernel)",
   "language": "python",
   "name": "python3"
  },
  "language_info": {
   "codemirror_mode": {
    "name": "ipython",
    "version": 3
   },
   "file_extension": ".py",
   "mimetype": "text/x-python",
   "name": "python",
   "nbconvert_exporter": "python",
   "pygments_lexer": "ipython3",
   "version": "3.9.7"
  }
 },
 "nbformat": 4,
 "nbformat_minor": 5
}

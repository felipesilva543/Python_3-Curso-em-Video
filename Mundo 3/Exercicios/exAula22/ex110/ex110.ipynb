{
 "cells": [
  {
   "cell_type": "markdown",
   "id": "c5a502b0",
   "metadata": {},
   "source": [
    "Adicione o módulo moeda.py criado nos desafios anteriores, uma função chamada resumo(), que mostre na tela algumas informações geradas pelas funções que já temos no módulo criado até aqui."
   ]
  },
  {
   "cell_type": "code",
   "execution_count": 4,
   "id": "53d35928",
   "metadata": {},
   "outputs": [
    {
     "name": "stdout",
     "output_type": "stream",
     "text": [
      "Digite um Valor: R$100\n",
      "---------------------------------\n",
      "         RESUMO VALOR         \n",
      "---------------------------------\n",
      "Dobro: \t\t\tR$200,00\n",
      "Metade \t\t\tR$50,00\n",
      "Aumento de 20%: \tR$120,00\n",
      "Diminuição de 10%: \tR$90,00\n",
      "---------------------------------\n"
     ]
    }
   ],
   "source": [
    "import moeda\n",
    "\n",
    "num = float(input('Digite um Valor: R$'))\n",
    "moeda.resumo(num, 20, 10)\n"
   ]
  },
  {
   "cell_type": "code",
   "execution_count": null,
   "id": "c4b3ffe3",
   "metadata": {},
   "outputs": [],
   "source": []
  }
 ],
 "metadata": {
  "kernelspec": {
   "display_name": "Python 3 (ipykernel)",
   "language": "python",
   "name": "python3"
  },
  "language_info": {
   "codemirror_mode": {
    "name": "ipython",
    "version": 3
   },
   "file_extension": ".py",
   "mimetype": "text/x-python",
   "name": "python",
   "nbconvert_exporter": "python",
   "pygments_lexer": "ipython3",
   "version": "3.9.7"
  }
 },
 "nbformat": 4,
 "nbformat_minor": 5
}

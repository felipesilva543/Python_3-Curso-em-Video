{
 "cells": [
  {
   "cell_type": "markdown",
   "id": "c5a502b0",
   "metadata": {},
   "source": [
    "Modifique as funções que form criadas no desafio 107 para que elas aceitem um parâmetro a mais, informando se o valor retornado por elas vai ser ou não formatado pela função moeda(), desenvolvida no desafio 108."
   ]
  },
  {
   "cell_type": "code",
   "execution_count": 7,
   "id": "53d35928",
   "metadata": {},
   "outputs": [
    {
     "name": "stdout",
     "output_type": "stream",
     "text": [
      "Digite um valor: R$100\n",
      "O dobro de R$100,00 é R$200,00\n",
      "A metade de R$100,00 é R$50,00\n",
      "Com um aumento de 20%: R$100,00 fica R$120,00\n",
      "Com a diminuição de 15%: R$100,00 fica R$85,00\n"
     ]
    }
   ],
   "source": [
    "import moeda\n",
    "\n",
    "num = float(input('Digite um valor: R$'))\n",
    "print(f'O dobro de {moeda.moeda(num)} é {moeda.dobro(num, True)}')\n",
    "print(f'A metade de {moeda.moeda(num)} é {moeda.metade(num, True)}')\n",
    "print(f'Com um aumento de 20%: {moeda.moeda(num)} fica {moeda.aumentar(num, 20, True)}')\n",
    "print(f'Com a diminuição de 15%: {moeda.moeda(num)} fica {moeda.diminuir(num, 15, True)}')"
   ]
  },
  {
   "cell_type": "code",
   "execution_count": null,
   "id": "4606be52",
   "metadata": {},
   "outputs": [],
   "source": []
  }
 ],
 "metadata": {
  "kernelspec": {
   "display_name": "Python 3 (ipykernel)",
   "language": "python",
   "name": "python3"
  },
  "language_info": {
   "codemirror_mode": {
    "name": "ipython",
    "version": 3
   },
   "file_extension": ".py",
   "mimetype": "text/x-python",
   "name": "python",
   "nbconvert_exporter": "python",
   "pygments_lexer": "ipython3",
   "version": "3.9.7"
  }
 },
 "nbformat": 4,
 "nbformat_minor": 5
}

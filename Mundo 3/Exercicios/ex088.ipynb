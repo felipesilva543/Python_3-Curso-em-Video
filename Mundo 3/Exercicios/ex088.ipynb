{
 "cells": [
  {
   "cell_type": "markdown",
   "id": "8bac64b2",
   "metadata": {},
   "source": [
    "Faça um programa que ajude um jogador da MEGA SENA a criar palpites.O programa vai perguntar quantos jogos serão gerados e vai sortear 6 números entre 1 e 60 para cada jogo, cadastrando tudo em uma lista composta."
   ]
  },
  {
   "cell_type": "code",
   "execution_count": 22,
   "id": "77aafac0",
   "metadata": {},
   "outputs": [
    {
     "name": "stdout",
     "output_type": "stream",
     "text": [
      "Quantos jogos deseja gerar: 3\n",
      "-=-=-=-=-=-=-=-=-=-=-=-=-=-=-=-=-=-=-=-=\n",
      "JOGO NÚMERO 1: [5, 16, 35, 36, 47, 50]\n",
      "JOGO NÚMERO 2: [9, 17, 18, 23, 35, 37]\n",
      "JOGO NÚMERO 3: [15, 20, 30, 37, 57, 58]\n",
      "-=-=-=-=-=-=-= BOA SORTE! =-=-=-=-=-=-=-\n"
     ]
    }
   ],
   "source": [
    "from time import sleep\n",
    "from random import randint\n",
    "\n",
    "jogos = []\n",
    "totJogos = int(input('Quantos jogos deseja gerar: '))\n",
    "for i in range(0, totJogos):\n",
    "    # Gerando 6 números sem repetir e armazenando em uma lista \n",
    "    cont = 0\n",
    "    lista = list()\n",
    "    while True:\n",
    "        num = randint(1, 60)\n",
    "        if num not in lista:\n",
    "            lista.append(num)\n",
    "            cont += 1\n",
    "        if cont >= 6:\n",
    "            break\n",
    "    # Fim geração dos númeors\n",
    "    lista.sort()\n",
    "    jogos.append(lista[:])\n",
    "    \n",
    "print('-='*20)\n",
    "for c in range(0, totJogos):\n",
    "    print(f'JOGO NÚMERO {c+1}:', end=' ')\n",
    "    print(jogos[c])\n",
    "    sleep(1)\n",
    "    \n",
    "print('-='*7, 'BOA SORTE!', '=-'*7)\n"
   ]
  },
  {
   "cell_type": "code",
   "execution_count": null,
   "id": "cd8ffc06",
   "metadata": {},
   "outputs": [],
   "source": []
  }
 ],
 "metadata": {
  "kernelspec": {
   "display_name": "Python 3 (ipykernel)",
   "language": "python",
   "name": "python3"
  },
  "language_info": {
   "codemirror_mode": {
    "name": "ipython",
    "version": 3
   },
   "file_extension": ".py",
   "mimetype": "text/x-python",
   "name": "python",
   "nbconvert_exporter": "python",
   "pygments_lexer": "ipython3",
   "version": "3.9.7"
  }
 },
 "nbformat": 4,
 "nbformat_minor": 5
}

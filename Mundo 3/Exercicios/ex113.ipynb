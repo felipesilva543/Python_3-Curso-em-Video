{
 "cells": [
  {
   "cell_type": "markdown",
   "id": "b6fa6f2a",
   "metadata": {},
   "source": [
    "Reescreva a função leiaInt() que fizemos no desafio 104, incluindo agora a possibilidade da digitação de um número de tipo inválido. Aproveite e crie também uma função leiaFloat() com a mesma funcionalidade."
   ]
  },
  {
   "cell_type": "code",
   "execution_count": 14,
   "id": "c24602dc",
   "metadata": {},
   "outputs": [],
   "source": [
    "def leiaInt(msg):\n",
    "    while True:\n",
    "        try:\n",
    "            n = input(msg)\n",
    "            if n.isdecimal():\n",
    "                return n\n",
    "        except KeyboardInterrupt:\n",
    "            print('\\033[31mERRO! O usuário não digitou os valores.\\033[m')\n",
    "            return 0\n",
    "        else:\n",
    "            print('\\033[31mERRO! Entrada inválida, digite um número INTEIRO.\\033[m')\n",
    "            \n",
    "def leiaFloat(msg):\n",
    "    while True:\n",
    "        try:\n",
    "            n = input(msg)\n",
    "            if not n.isalpha():\n",
    "                n = float(n)\n",
    "                return n\n",
    "        except KeyboardInterrupt:\n",
    "            print('\\033[31mERRO! O usuário não digitou os valores.\\033[m')\n",
    "            return 0\n",
    "        else:\n",
    "            print('\\033[31mERRO! Entrada inválida, digite um número REAL.\\033[m')\n"
   ]
  },
  {
   "cell_type": "code",
   "execution_count": 15,
   "id": "4eb3e4a2",
   "metadata": {},
   "outputs": [
    {
     "name": "stdout",
     "output_type": "stream",
     "text": [
      "Inteiro: cert\n",
      "\u001b[31mERRO! Entrada inválida, digite um número INTEIRO.\u001b[m\n",
      "Inteiro: 2\n",
      "Real: fe\n",
      "\u001b[31mERRO! Entrada inválida, digite um número REAL.\u001b[m\n",
      "Real: dw\n",
      "\u001b[31mERRO! Entrada inválida, digite um número REAL.\u001b[m\n",
      "Real: 2\n",
      "Você digitou o número inteiro 2, e o número real 2.0\n"
     ]
    }
   ],
   "source": [
    "inteiro = leiaInt('Inteiro: ')\n",
    "real = leiaFloat('Real: ')\n",
    "print(f'Você digitou o número inteiro {inteiro}, e o número real {real}')"
   ]
  },
  {
   "cell_type": "markdown",
   "id": "25ce8e64",
   "metadata": {},
   "source": [
    "# RESOLUÇÃO AULA"
   ]
  },
  {
   "cell_type": "code",
   "execution_count": 30,
   "id": "4b70e9d1",
   "metadata": {},
   "outputs": [],
   "source": [
    "def lerInt(msg):\n",
    "    while True:\n",
    "        try:\n",
    "            n = int(input(msg))\n",
    "        except (TypeError, ValueError):\n",
    "            print('ERRO! Digite um valor INTEIRO valido.')\n",
    "            continue\n",
    "        except KeyboardInterrupt:\n",
    "            print('Usuário interrompeu o sistema')\n",
    "            return 0\n",
    "        else:\n",
    "            return n\n",
    "        \n",
    "def lerFloat(msg):\n",
    "    while True:\n",
    "        try:\n",
    "            n = float(input(msg))\n",
    "        except (TypeError, ValueError):\n",
    "            print('ERRO! Digite um valor REAL valido.')\n",
    "            continue\n",
    "        except KeyboardInterrupt:\n",
    "            print('Usuário interrompeu o sistema')\n",
    "            return 0\n",
    "        else:\n",
    "            return n"
   ]
  },
  {
   "cell_type": "code",
   "execution_count": 32,
   "id": "e4820f03",
   "metadata": {},
   "outputs": [
    {
     "name": "stdout",
     "output_type": "stream",
     "text": [
      "Inteiro:      9\n",
      "Real:     4,2\n",
      "ERRO! Digite um valor REAL valido.\n",
      "Real:    4.2\n",
      "Você digitou o número inteiro 9\n",
      "Você digitou o número real 4.2\n"
     ]
    }
   ],
   "source": [
    "n = lerInt('Inteiro: ')\n",
    "r = lerFloat('Real: ')\n",
    "print(f'Valor inteiro digitado foi {n}')\n",
    "print(f'Valor real digitado foi {r}')"
   ]
  },
  {
   "cell_type": "code",
   "execution_count": null,
   "id": "e64abfd5",
   "metadata": {},
   "outputs": [],
   "source": []
  }
 ],
 "metadata": {
  "kernelspec": {
   "display_name": "Python 3 (ipykernel)",
   "language": "python",
   "name": "python3"
  },
  "language_info": {
   "codemirror_mode": {
    "name": "ipython",
    "version": 3
   },
   "file_extension": ".py",
   "mimetype": "text/x-python",
   "name": "python",
   "nbconvert_exporter": "python",
   "pygments_lexer": "ipython3",
   "version": "3.9.7"
  }
 },
 "nbformat": 4,
 "nbformat_minor": 5
}

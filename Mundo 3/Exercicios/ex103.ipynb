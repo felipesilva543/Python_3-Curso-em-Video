{
 "cells": [
  {
   "cell_type": "markdown",
   "id": "93126af2",
   "metadata": {},
   "source": [
    "Faça um programa que tenha uma função chamada ficha(), que receba dois parâmetros opcionais: o nome de um jogador e quantos gols ele marcou. O programa deverá ser capaz de mostrar a ficha do jogador, mesmo que algum dado não tenha sido informado corretamente."
   ]
  },
  {
   "cell_type": "code",
   "execution_count": 46,
   "id": "b3f7d75b",
   "metadata": {},
   "outputs": [
    {
     "name": "stdout",
     "output_type": "stream",
     "text": [
      "Nome do jogador:     \n",
      "Total de gols: tres\n",
      "O jogador <desconhecido>, fez 0 gols.\n"
     ]
    }
   ],
   "source": [
    "def ficha(nome='<desconhecido>', gols=0):\n",
    "    print(f'O jogador {nome}, fez {gols} gols.')\n",
    "    \n",
    "# Programa Principal\n",
    "nome = input('Nome do jogador: ')\n",
    "n = input('Total de gols: ')\n",
    "\n",
    "if n.isnumeric():\n",
    "    n = int(n)\n",
    "else:\n",
    "    n = 0\n",
    "    \n",
    "if nome.strip():\n",
    "    ficha(nome, n)\n",
    "else:\n",
    "    ficha(gols=n)\n",
    "    "
   ]
  },
  {
   "cell_type": "code",
   "execution_count": 3,
   "id": "330ef26e",
   "metadata": {},
   "outputs": [
    {
     "name": "stdout",
     "output_type": "stream",
     "text": [
      "Help on function ficha in module __main__:\n",
      "\n",
      "ficha(nome='<desconhecido>', gols=0)\n",
      "\n"
     ]
    }
   ],
   "source": [
    "help(ficha)"
   ]
  },
  {
   "cell_type": "code",
   "execution_count": null,
   "id": "9b0ee4be",
   "metadata": {},
   "outputs": [],
   "source": []
  }
 ],
 "metadata": {
  "kernelspec": {
   "display_name": "Python 3 (ipykernel)",
   "language": "python",
   "name": "python3"
  },
  "language_info": {
   "codemirror_mode": {
    "name": "ipython",
    "version": 3
   },
   "file_extension": ".py",
   "mimetype": "text/x-python",
   "name": "python",
   "nbconvert_exporter": "python",
   "pygments_lexer": "ipython3",
   "version": "3.9.7"
  }
 },
 "nbformat": 4,
 "nbformat_minor": 5
}

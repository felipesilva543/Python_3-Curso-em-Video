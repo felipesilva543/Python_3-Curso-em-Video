{
 "cells": [
  {
   "cell_type": "markdown",
   "id": "b92971da",
   "metadata": {},
   "source": [
    "Faça um programa que tenha uma função chamada maior(), que receba vários parâmetros com valores inteiros. Seu programa tem que analisar todos os valores e dizer qual deles é o maior."
   ]
  },
  {
   "cell_type": "code",
   "execution_count": 16,
   "id": "7c8d7df7",
   "metadata": {},
   "outputs": [
    {
     "name": "stdout",
     "output_type": "stream",
     "text": [
      "------------------------------\n",
      "  Analisando os valores: \n",
      "2 3 4 5 6 7 8 9 0 \n",
      "Foram informados 9 valores...\n",
      "O maior valor é 9.\n",
      "------------------------------\n",
      "  Analisando os valores: \n",
      "24 0 3 1 3 4 5 6 7 8 3 4 6 436 4 56 \n",
      "Foram informados 16 valores...\n",
      "O maior valor é 436.\n",
      "------------------------------\n",
      "  Analisando os valores: \n",
      "Não foi informado nenhum valor!\n"
     ]
    }
   ],
   "source": [
    "from time import sleep\n",
    "def maior(* valores):\n",
    "    print('-' * 30)\n",
    "    print('  Analisando os valores: ')\n",
    "    if len(valores) == 0:\n",
    "        print('Não foi informado nenhum valor!')\n",
    "    else:\n",
    "        p = valores[0]\n",
    "        for c in valores:\n",
    "            sleep(0.3)\n",
    "            print(c, end=' ')\n",
    "            if p < c:\n",
    "                p = c\n",
    "        print(f'\\nForam informados {len(valores)} valores...')\n",
    "        sleep(0.3)\n",
    "        print(f'O maior valor é {p}.')\n",
    "    \n",
    "maior(2, 3, 4, 5, 6, 7, 8, 9, 0)\n",
    "maior(24, 0, 3, 1,3 ,4, 5, 6, 7, 8,3, 4, 6, 436,4, 56)\n",
    "maior()"
   ]
  },
  {
   "cell_type": "code",
   "execution_count": null,
   "id": "88da9ee3",
   "metadata": {},
   "outputs": [],
   "source": []
  }
 ],
 "metadata": {
  "kernelspec": {
   "display_name": "Python 3 (ipykernel)",
   "language": "python",
   "name": "python3"
  },
  "language_info": {
   "codemirror_mode": {
    "name": "ipython",
    "version": 3
   },
   "file_extension": ".py",
   "mimetype": "text/x-python",
   "name": "python",
   "nbconvert_exporter": "python",
   "pygments_lexer": "ipython3",
   "version": "3.9.7"
  }
 },
 "nbformat": 4,
 "nbformat_minor": 5
}

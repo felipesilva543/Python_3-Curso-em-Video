{
 "cells": [
  {
   "cell_type": "markdown",
   "id": "b44a4aff",
   "metadata": {},
   "source": [
    "Crie um programa onde 4 jogadores joguem um dado e tenham resultados aleatórios. Guarde esses resultados em um dicionário em Python. No final, coloque esse dicionário em ordem, sabendo que o vencedor tirou o maior número no dado."
   ]
  },
  {
   "cell_type": "code",
   "execution_count": 53,
   "id": "fcd58501",
   "metadata": {},
   "outputs": [
    {
     "name": "stdout",
     "output_type": "stream",
     "text": [
      "O J1 tirou 2.\n",
      "O J2 tirou 1.\n",
      "O J3 tirou 2.\n",
      "O J4 tirou 6.\n",
      "-=-=-=-=-=-=-=-=-=-=\n",
      "Ranking de jogadores: \n",
      "1° Lugar: J4 com 6.\n",
      "2° Lugar: J1 com 2.\n",
      "3° Lugar: J3 com 2.\n",
      "4° Lugar: J2 com 1.\n",
      "-=-=-=-=-=-=-=-=-=-=\n"
     ]
    }
   ],
   "source": [
    "from random import randint\n",
    "from time import sleep\n",
    "jogadas = dict()\n",
    "jogadas['J1'] = randint(1, 6)\n",
    "jogadas['J2'] = randint(1, 6)\n",
    "jogadas['J3'] = randint(1, 6)\n",
    "jogadas['J4'] = randint(1, 6)\n",
    "\n",
    "for k, v in jogadas.items():\n",
    "    print(f'O {k} tirou {v}.')\n",
    "    sleep(1)\n",
    "print('-='*10)\n",
    "# IMPRIMIR DICIONARIO ORDENADO\n",
    "print('Ranking de jogadores: ')\n",
    "cont = 1\n",
    "for j in sorted(jogadas, key = jogadas.get, reverse=True):\n",
    "    print(f'{cont}° Lugar: {j} com {jogadas[j]}.')\n",
    "    cont += 1\n",
    "print('-='*10)\n",
    "\n"
   ]
  },
  {
   "cell_type": "code",
   "execution_count": 44,
   "id": "89d783ad",
   "metadata": {},
   "outputs": [
    {
     "name": "stdout",
     "output_type": "stream",
     "text": [
      "['J1', 'J2', 'J3', 'J4']\n"
     ]
    }
   ],
   "source": [
    "keys = [key for key in jogadas] # separar as keys\n",
    "print(keys)"
   ]
  },
  {
   "cell_type": "code",
   "execution_count": 51,
   "id": "c8226127",
   "metadata": {},
   "outputs": [
    {
     "name": "stdout",
     "output_type": "stream",
     "text": [
      "[('J2', 5), ('J3', 3), ('J1', 2), ('J4', 2)]\n"
     ]
    }
   ],
   "source": [
    "from operator import itemgetter # para ordenar usando a localização da cahva que quero\n",
    "ranking = list()\n",
    "ranking = sorted(jogadas.items(), key=itemgetter(1), reverse=True) # itemgetter(1) vai ordenar pela chave 1 no caso o resultado do J1\n",
    "print(ranking)"
   ]
  },
  {
   "cell_type": "code",
   "execution_count": 52,
   "id": "4ec731e1",
   "metadata": {},
   "outputs": [
    {
     "data": {
      "text/plain": [
       "5"
      ]
     },
     "execution_count": 52,
     "metadata": {},
     "output_type": "execute_result"
    }
   ],
   "source": [
    "ranking[0][1]"
   ]
  },
  {
   "cell_type": "code",
   "execution_count": null,
   "id": "a2bfc020",
   "metadata": {},
   "outputs": [],
   "source": []
  }
 ],
 "metadata": {
  "kernelspec": {
   "display_name": "Python 3 (ipykernel)",
   "language": "python",
   "name": "python3"
  },
  "language_info": {
   "codemirror_mode": {
    "name": "ipython",
    "version": 3
   },
   "file_extension": ".py",
   "mimetype": "text/x-python",
   "name": "python",
   "nbconvert_exporter": "python",
   "pygments_lexer": "ipython3",
   "version": "3.9.7"
  }
 },
 "nbformat": 4,
 "nbformat_minor": 5
}

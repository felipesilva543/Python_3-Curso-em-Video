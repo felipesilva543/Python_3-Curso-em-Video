{
 "cells": [
  {
   "cell_type": "markdown",
   "id": "ea4a0596",
   "metadata": {},
   "source": [
    "Crie um programa que vai gerar cinco números aleatórios e colocar em uma tupla. Depois disso, mostre a listagem de números gerados e também indique o menor e o maior valor que estão na tupla."
   ]
  },
  {
   "cell_type": "code",
   "execution_count": 28,
   "id": "32baa100",
   "metadata": {},
   "outputs": [
    {
     "name": "stdout",
     "output_type": "stream",
     "text": [
      "Foram sorteados os números: 8 0 4 7 7 \n",
      "O maior número foi 8.\n",
      "-> O maior número foi 8.\n",
      "O menor número foi 0.\n",
      "-> O menor número foi 0.\n"
     ]
    }
   ],
   "source": [
    "from random import randint\n",
    "lista = (randint(0, 9), randint(0, 9), randint(0, 9), randint(0, 9), randint(0, 9))\n",
    "maior = menor = 0\n",
    "\n",
    "for c in range(0, len(lista)):\n",
    "    if c == 0:\n",
    "        maior = menor = lista[c]\n",
    "    else:\n",
    "        if lista[c] > maior:\n",
    "            maior = lista[c]\n",
    "        if lista[c] < menor:\n",
    "            menor = lista[c]\n",
    "print('Foram sorteados os números: ', end='')\n",
    "for c in lista:\n",
    "    print(c, end=' ')\n",
    "print(f'\\nO maior número foi {maior}.')\n",
    "print(f'-> O maior número foi {max(lista)}.') # max()\n",
    "print(f'O menor número foi {menor}.')\n",
    "print(f'-> O menor número foi {min(lista)}.') # min()"
   ]
  },
  {
   "cell_type": "code",
   "execution_count": null,
   "id": "7aa816e5",
   "metadata": {},
   "outputs": [],
   "source": []
  }
 ],
 "metadata": {
  "kernelspec": {
   "display_name": "Python 3 (ipykernel)",
   "language": "python",
   "name": "python3"
  },
  "language_info": {
   "codemirror_mode": {
    "name": "ipython",
    "version": 3
   },
   "file_extension": ".py",
   "mimetype": "text/x-python",
   "name": "python",
   "nbconvert_exporter": "python",
   "pygments_lexer": "ipython3",
   "version": "3.9.7"
  }
 },
 "nbformat": 4,
 "nbformat_minor": 5
}

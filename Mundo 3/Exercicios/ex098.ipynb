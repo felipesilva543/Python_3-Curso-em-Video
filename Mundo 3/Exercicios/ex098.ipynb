{
 "cells": [
  {
   "cell_type": "markdown",
   "id": "ab475353",
   "metadata": {},
   "source": [
    "Faça um programa que tenha uma função chamada contador(), que receba três parâmetros: início, fim e passo. Seu programa tem que realizar três contagens através da função criada:\n",
    "\n",
    "a) de 1 até 10, de 1 em 1\n",
    "\n",
    "b) de 10 até 0, de 2 em 2\n",
    "\n",
    "c) uma contagem personalizada"
   ]
  },
  {
   "cell_type": "code",
   "execution_count": 53,
   "id": "5c5723aa",
   "metadata": {},
   "outputs": [
    {
     "name": "stdout",
     "output_type": "stream",
     "text": [
      "A) De 1 até 10, de 1 em 1:\n",
      " 1 2 3 4 5 6 7 8 9 10\n",
      "B) De 10 até 0, de 2 em 2:\n",
      " 10 8 6 4 2 0\n",
      "C) Contagem personalizada:\n",
      "Inicio: 10\n",
      "Fim: -10\n",
      "Passo: -2\n",
      " 10 8 6 4 2 0 -2 -4 -6 -8 -10"
     ]
    }
   ],
   "source": [
    "from time import sleep\n",
    "def contador(ini, fim, passo):\n",
    "    if passo < 0:\n",
    "        passo *= -1\n",
    "    if passo == 0:\n",
    "        passo = 1\n",
    "    \n",
    "    if ini < fim:\n",
    "        cont = ini\n",
    "        while cont <= fim:\n",
    "            sleep(0.3)\n",
    "            print(f' {cont}', end='')\n",
    "            cont += passo\n",
    "    else:\n",
    "        cont = ini\n",
    "        while fim <= cont:\n",
    "            sleep(0.3)\n",
    "            print(f' {cont}', end='')\n",
    "            cont -= passo\n",
    "\n",
    "\n",
    "print('A) De 1 até 10, de 1 em 1:')\n",
    "contador(1, 10, 1)\n",
    "print('\\nB) De 10 até 0, de 2 em 2:')\n",
    "contador(10, 0, -2)\n",
    "print('\\nC) Contagem personalizada:')\n",
    "i = int(input('Inicio: '))\n",
    "f = int(input('Fim: '))\n",
    "p = int(input('Passo: '))\n",
    "contador(i, f, p)"
   ]
  },
  {
   "cell_type": "code",
   "execution_count": null,
   "id": "14b37875",
   "metadata": {},
   "outputs": [],
   "source": []
  }
 ],
 "metadata": {
  "kernelspec": {
   "display_name": "Python 3 (ipykernel)",
   "language": "python",
   "name": "python3"
  },
  "language_info": {
   "codemirror_mode": {
    "name": "ipython",
    "version": 3
   },
   "file_extension": ".py",
   "mimetype": "text/x-python",
   "name": "python",
   "nbconvert_exporter": "python",
   "pygments_lexer": "ipython3",
   "version": "3.9.7"
  }
 },
 "nbformat": 4,
 "nbformat_minor": 5
}

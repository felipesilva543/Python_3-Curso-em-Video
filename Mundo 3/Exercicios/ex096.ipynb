{
 "cells": [
  {
   "cell_type": "markdown",
   "id": "738f6c68",
   "metadata": {},
   "source": [
    "Faça um programa que tenha uma função chamada área(), que receba as dimensões de um terreno retangular (largura e comprimento) e mostre a área do terreno."
   ]
  },
  {
   "cell_type": "code",
   "execution_count": 4,
   "id": "e4bb572e",
   "metadata": {},
   "outputs": [
    {
     "name": "stdout",
     "output_type": "stream",
     "text": [
      "Controle de terreno \n",
      "--------------------\n",
      "Qual o comprimento : 4\n",
      "Qual a largura: 5\n",
      "A área de um terreno de 4.0x5.0 é igual á: 20.0m²\n",
      "Qual o comprimento : 23\n",
      "Qual a largura: 5\n",
      "A área de um terreno de 23.0x5.0 é igual á: 115.0m²\n",
      "Qual o comprimento : 32\n",
      "Qual a largura: 45\n",
      "A área de um terreno de 32.0x45.0 é igual á: 1440.0m²\n"
     ]
    }
   ],
   "source": [
    "def cabeçalho():\n",
    "    print(f'{\"Controle de terreno\":^20}')\n",
    "    print('-' * 20)\n",
    "\n",
    "    \n",
    "def area(a, b):\n",
    "    ar = a * b\n",
    "    print(f'A área de um terreno de {a}x{b} é igual á: {ar}m²')\n",
    "\n",
    "cabeçalho()\n",
    "com = float(input('Qual o comprimento : '))\n",
    "la = float(input('Qual a largura: '))\n",
    "area(com, la)\n",
    "\n",
    "com = float(input('Qual o comprimento : '))\n",
    "la = float(input('Qual a largura: '))\n",
    "area(com, la)\n",
    "\n",
    "\n",
    "com = float(input('Qual o comprimento : '))\n",
    "la = float(input('Qual a largura: '))\n",
    "area(com, la)\n"
   ]
  },
  {
   "cell_type": "code",
   "execution_count": null,
   "id": "9063474b",
   "metadata": {},
   "outputs": [],
   "source": []
  }
 ],
 "metadata": {
  "kernelspec": {
   "display_name": "Python 3 (ipykernel)",
   "language": "python",
   "name": "python3"
  },
  "language_info": {
   "codemirror_mode": {
    "name": "ipython",
    "version": 3
   },
   "file_extension": ".py",
   "mimetype": "text/x-python",
   "name": "python",
   "nbconvert_exporter": "python",
   "pygments_lexer": "ipython3",
   "version": "3.9.7"
  }
 },
 "nbformat": 4,
 "nbformat_minor": 5
}

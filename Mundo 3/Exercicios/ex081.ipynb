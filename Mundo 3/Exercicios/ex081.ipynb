{
 "cells": [
  {
   "cell_type": "markdown",
   "id": "f961add1",
   "metadata": {},
   "source": [
    "Crie um programa que vai ler vários números e colocar em uma lista.\n",
    "\n",
    "Depois disso, mostre:                                                                                                           \n",
    "\n",
    "A) Quantos números foram digitados.                                                                                             \n",
    "\n",
    "B) A lista de valores, ordenada de forma decrescente.                                                                           \n",
    "\n",
    "C) Se o valor 5 foi digitado e está ou não na lista."
   ]
  },
  {
   "cell_type": "code",
   "execution_count": 16,
   "id": "b4cdb6af",
   "metadata": {},
   "outputs": [
    {
     "name": "stdout",
     "output_type": "stream",
     "text": [
      "Digite um número: 2\n",
      "Deseja incluir mais um número [S/N]: s\n",
      "Digite um número: 3\n",
      "Deseja incluir mais um número [S/N]: s\n",
      "Digite um número: 5\n",
      "Deseja incluir mais um número [S/N]: s\n",
      "Digite um número: 6\n",
      "Deseja incluir mais um número [S/N]: n\n",
      "A) Foram digitados 4 números!\n",
      "B) Lista Decres: [6, 5, 3, 2]\n",
      "C) O número 5 foi digitado e está na lista!\n"
     ]
    }
   ],
   "source": [
    "lista = list()\n",
    "\n",
    "while True:\n",
    "    lista.append(int(input('Digite um número: ')))\n",
    "    op = input('Deseja incluir mais um número [S/N]: ')\n",
    "    if op in 'Nn':\n",
    "        break\n",
    "        \n",
    "print(f'A) Foram digitados {len(lista)} números!')\n",
    "lista.sort(reverse=True)\n",
    "print(f'B) Lista Decres: {lista}')\n",
    "if 5 in lista:\n",
    "    print('C) O número 5 foi digitado e está na lista!')\n",
    "else:\n",
    "    print('C) O número 5 não foi digitado!')\n",
    "        "
   ]
  },
  {
   "cell_type": "code",
   "execution_count": null,
   "id": "91e73371",
   "metadata": {},
   "outputs": [],
   "source": []
  }
 ],
 "metadata": {
  "kernelspec": {
   "display_name": "Python 3 (ipykernel)",
   "language": "python",
   "name": "python3"
  },
  "language_info": {
   "codemirror_mode": {
    "name": "ipython",
    "version": 3
   },
   "file_extension": ".py",
   "mimetype": "text/x-python",
   "name": "python",
   "nbconvert_exporter": "python",
   "pygments_lexer": "ipython3",
   "version": "3.9.7"
  }
 },
 "nbformat": 4,
 "nbformat_minor": 5
}

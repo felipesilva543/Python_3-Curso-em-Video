{
 "cells": [
  {
   "cell_type": "markdown",
   "id": "b0080fda",
   "metadata": {},
   "source": [
    "Faça um programa que leia nome e média de um aluno, guardando também a situação em um dicionário. No final, mostre o conteúdo da estrutura na tela."
   ]
  },
  {
   "cell_type": "code",
   "execution_count": 9,
   "id": "1d333087",
   "metadata": {},
   "outputs": [
    {
     "name": "stdout",
     "output_type": "stream",
     "text": [
      "Nome do Aluno:Felipe\n",
      "Qual a média do aluno: 8.4\n",
      "O aluno Felipe obteve a média 8.4 e está Aprovado.\n"
     ]
    }
   ],
   "source": [
    "aluno = {}\n",
    "\n",
    "aluno['Nome'] = str(input('Nome do Aluno: '))\n",
    "aluno['Media'] = float(input('Qual a média do aluno: '))\n",
    "\n",
    "if aluno['Media'] >= 7:\n",
    "    aluno['Situ'] = 'Aprovado'\n",
    "else:\n",
    "    aluno['Situ'] = 'Reprovado'\n",
    "    \n",
    "print(f'O aluno {aluno[\"Nome\"]} obteve a média {aluno[\"Media\"]} e está {aluno[\"Situ\"]}.')"
   ]
  },
  {
   "cell_type": "code",
   "execution_count": 10,
   "id": "5f7ac531",
   "metadata": {},
   "outputs": [
    {
     "name": "stdout",
     "output_type": "stream",
     "text": [
      "- Nome = Felipe\n",
      "- Media = 8.4\n",
      "- Situ = Aprovado\n"
     ]
    }
   ],
   "source": [
    "for k, v in aluno.items():\n",
    "    print(f'- {k} = {v}')"
   ]
  },
  {
   "cell_type": "code",
   "execution_count": null,
   "id": "94987aba",
   "metadata": {},
   "outputs": [],
   "source": []
  }
 ],
 "metadata": {
  "kernelspec": {
   "display_name": "Python 3 (ipykernel)",
   "language": "python",
   "name": "python3"
  },
  "language_info": {
   "codemirror_mode": {
    "name": "ipython",
    "version": 3
   },
   "file_extension": ".py",
   "mimetype": "text/x-python",
   "name": "python",
   "nbconvert_exporter": "python",
   "pygments_lexer": "ipython3",
   "version": "3.9.7"
  }
 },
 "nbformat": 4,
 "nbformat_minor": 5
}

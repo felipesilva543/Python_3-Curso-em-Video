{
 "cells": [
  {
   "cell_type": "markdown",
   "id": "83e12f7d",
   "metadata": {},
   "source": [
    "Aprimore o desafio anterior, mostrando no final:\n",
    "\n",
    "A) A soma de todos os valores pares digitados.\n",
    "\n",
    "B) A soma dos valores da terceira coluna.\n",
    "\n",
    "C) O maior valor da segunda linha."
   ]
  },
  {
   "cell_type": "code",
   "execution_count": 8,
   "id": "72475864",
   "metadata": {},
   "outputs": [
    {
     "name": "stdout",
     "output_type": "stream",
     "text": [
      "Digite um valor [0, 0]: 1\n",
      "Digite um valor [0, 1]: 2\n",
      "Digite um valor [0, 2]: 3\n",
      "Digite um valor [1, 0]: 4\n",
      "Digite um valor [1, 1]: 5\n",
      "Digite um valor [1, 2]: 6\n",
      "Digite um valor [2, 0]: 7\n",
      "Digite um valor [2, 1]: 8\n",
      "Digite um valor [2, 2]: 9\n",
      "-=-=-=-=-=-=-=-=-=-=\n",
      "[ 1  ] [ 2  ] [ 3  ]\n",
      "[ 4  ] [ 5  ] [ 6  ]\n",
      "[ 7  ] [ 8  ] [ 9  ]\n",
      "-=-=-=-=-=-=-=-=-=-=\n",
      "A) Soma dos pares: 20\n",
      "B) Soma dos valores da terceira coluna: 18\n",
      "C) Marior valor da segunda linha: 6\n"
     ]
    }
   ],
   "source": [
    "mat = [[0, 0, 0], [0, 0, 0], [0, 0, 0]]\n",
    "for l in range(0, 3):\n",
    "    for c in range(0, 3):\n",
    "        mat[l][c] = int(input(f'Digite um valor [{l}, {c}]: '))\n",
    "        \n",
    "print('-=' * 10)\n",
    "for c in mat:\n",
    "    print(f'[{c[0]:^4}] [{c[1]:^4}] [{c[2]:^4}]')\n",
    "    \n",
    "print('-='*10)\n",
    "totPar = 0\n",
    "for linha in mat:\n",
    "    for item in linha:\n",
    "        if item % 2 == 0:\n",
    "            totPar += item\n",
    "print(f'A) Soma dos pares: {totPar}')\n",
    "soma3Coluna = 0\n",
    "for lin in mat:\n",
    "    soma3Coluna += lin[2]\n",
    "print(f'B) Soma dos valores da terceira coluna: {soma3Coluna}')\n",
    "maior = max(mat[1])\n",
    "print(f'C) Marior valor da segunda linha: {maior}')"
   ]
  },
  {
   "cell_type": "code",
   "execution_count": null,
   "id": "039c567a",
   "metadata": {},
   "outputs": [],
   "source": []
  }
 ],
 "metadata": {
  "kernelspec": {
   "display_name": "Python 3 (ipykernel)",
   "language": "python",
   "name": "python3"
  },
  "language_info": {
   "codemirror_mode": {
    "name": "ipython",
    "version": 3
   },
   "file_extension": ".py",
   "mimetype": "text/x-python",
   "name": "python",
   "nbconvert_exporter": "python",
   "pygments_lexer": "ipython3",
   "version": "3.9.7"
  }
 },
 "nbformat": 4,
 "nbformat_minor": 5
}

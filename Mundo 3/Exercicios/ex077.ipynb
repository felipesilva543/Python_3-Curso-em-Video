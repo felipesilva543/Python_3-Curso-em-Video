{
 "cells": [
  {
   "cell_type": "markdown",
   "id": "dbb759fa",
   "metadata": {},
   "source": [
    "Crie um programa que tenha uma tupla com várias palavras (não usar acentos). Depois disso, você deve mostrar, para cada palavra, quais são as suas vogais."
   ]
  },
  {
   "cell_type": "code",
   "execution_count": 7,
   "id": "a530b043",
   "metadata": {},
   "outputs": [
    {
     "name": "stdout",
     "output_type": "stream",
     "text": [
      "\n",
      "Na palavra SABIA tem as vogais: a i a \n",
      "Na palavra NOTEBOOK tem as vogais: o e o o \n",
      "Na palavra FELIPE tem as vogais: e i e \n",
      "Na palavra BRENA tem as vogais: e a \n",
      "Na palavra LAPIS tem as vogais: a i \n",
      "Na palavra ORNITORRINCO tem as vogais: O i o i o \n",
      "Na palavra MOUSE tem as vogais: o u e \n",
      "Na palavra TECLADO tem as vogais: e a o \n",
      "Na palavra ALDENEIDE tem as vogais: A e e i e "
     ]
    }
   ],
   "source": [
    "pal = ('Sabia', 'Notebook', 'Felipe', 'Brena', 'Lapis', 'Ornitorrinco', 'Mouse', 'Teclado', 'Aldeneide')\n",
    "\n",
    "for i in pal:\n",
    "    print(f'\\nNa palavra {i.upper()} tem as vogais: ', end='')\n",
    "    for c in range(0, len(i)):\n",
    "        if i[c] in 'aeiouAEIOU':\n",
    "            print(i[c], end=' ')\n"
   ]
  },
  {
   "cell_type": "code",
   "execution_count": null,
   "id": "20acf8cf",
   "metadata": {},
   "outputs": [],
   "source": []
  }
 ],
 "metadata": {
  "kernelspec": {
   "display_name": "Python 3 (ipykernel)",
   "language": "python",
   "name": "python3"
  },
  "language_info": {
   "codemirror_mode": {
    "name": "ipython",
    "version": 3
   },
   "file_extension": ".py",
   "mimetype": "text/x-python",
   "name": "python",
   "nbconvert_exporter": "python",
   "pygments_lexer": "ipython3",
   "version": "3.9.7"
  }
 },
 "nbformat": 4,
 "nbformat_minor": 5
}

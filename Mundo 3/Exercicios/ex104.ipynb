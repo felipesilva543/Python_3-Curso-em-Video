{
 "cells": [
  {
   "cell_type": "markdown",
   "id": "ab64c16c",
   "metadata": {},
   "source": [
    "Crie um programa que tenha a função leiaInt(), que vai funcionar de forma semelhante ‘a função input() do Python, só que fazendo a validação para aceitar apenas um valor numérico. Ex: n = leiaInt(‘Digite um n: ‘)"
   ]
  },
  {
   "cell_type": "code",
   "execution_count": 35,
   "id": "a566f145",
   "metadata": {},
   "outputs": [
    {
     "name": "stdout",
     "output_type": "stream",
     "text": [
      "Digite um número: F\n",
      "\u001b[31mERRO! Valor não inteiro!\u001b[m\n",
      "Digite um número: 2\n",
      "Você acabou de digitar o número 2.\n"
     ]
    }
   ],
   "source": [
    "def leiaInt(msg):\n",
    "    while True:\n",
    "        n = input(msg)\n",
    "        if n.isdecimal():\n",
    "            return n\n",
    "        else:\n",
    "            print('\\033[31mERRO! Valor não inteiro!\\033[m')\n",
    "    \n",
    "    \n",
    "num = leiaInt('Digite um número: ')\n",
    "print(f'Você acabou de digitar o número {num}.')"
   ]
  },
  {
   "cell_type": "code",
   "execution_count": 7,
   "id": "90600abf",
   "metadata": {},
   "outputs": [
    {
     "name": "stdout",
     "output_type": "stream",
     "text": [
      "True\n"
     ]
    }
   ],
   "source": [
    "x = 10\n",
    "print(type(x) == int) "
   ]
  },
  {
   "cell_type": "code",
   "execution_count": null,
   "id": "7f977cef",
   "metadata": {},
   "outputs": [],
   "source": []
  }
 ],
 "metadata": {
  "kernelspec": {
   "display_name": "Python 3 (ipykernel)",
   "language": "python",
   "name": "python3"
  },
  "language_info": {
   "codemirror_mode": {
    "name": "ipython",
    "version": 3
   },
   "file_extension": ".py",
   "mimetype": "text/x-python",
   "name": "python",
   "nbconvert_exporter": "python",
   "pygments_lexer": "ipython3",
   "version": "3.9.7"
  }
 },
 "nbformat": 4,
 "nbformat_minor": 5
}

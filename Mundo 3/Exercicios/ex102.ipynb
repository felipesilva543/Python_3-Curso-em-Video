{
 "cells": [
  {
   "cell_type": "markdown",
   "id": "c6f43ee2",
   "metadata": {},
   "source": [
    "Crie um programa que tenha uma função fatorial() que receba dois parâmetros: o primeiro que indique o número a calcular e outro chamado show, que será um valor lógico (opcional) indicando se será mostrado ou não na tela o processo de cálculo do fatorial."
   ]
  },
  {
   "cell_type": "code",
   "execution_count": 59,
   "id": "ba414230",
   "metadata": {},
   "outputs": [
    {
     "name": "stdout",
     "output_type": "stream",
     "text": [
      "Número: 5\n",
      "Mostrar valores? [Y/N] r\n",
      "Mostrar valores? [Y/N] t\n",
      "Mostrar valores? [Y/N] w\n",
      "Mostrar valores? [Y/N] s\n",
      "Mostrar valores? [Y/N] d\n",
      "Mostrar valores? [Y/N] y\n",
      "-------------------------\n",
      "5 x 4 x 3 x 2 x 1 = 120\n"
     ]
    }
   ],
   "source": [
    "def fatorial(num=1, show=False):\n",
    "    \"\"\"\n",
    "    -> Faz o fatorial de um número.\n",
    "    :param num: Número para fazer o fatorial\n",
    "    :param show: Para mostrar ou não o calculo do fatorial\n",
    "    :return: O fatorial do número\n",
    "    \"\"\"\n",
    "    print('-'*25)\n",
    "    fat = 1\n",
    "    for c in range(num, 0, -1):\n",
    "        fat *= c\n",
    "        if show:\n",
    "            print(c, end='')\n",
    "            if c > 1:\n",
    "                  print(' x ', end='')\n",
    "            else:\n",
    "                  print(' = ', end='')\n",
    "    return fat\n",
    "\n",
    "# Programa principal\n",
    "n = int(input('Número: '))\n",
    "\n",
    "while True:\n",
    "    resp = str(input('Mostrar valores? [Y/N] ')).upper()\n",
    "    if resp in 'YN':\n",
    "        break\n",
    "\n",
    "show = False\n",
    "if resp == 'Y':\n",
    "    show = True\n",
    "\n",
    "print(fatorial(n, show))"
   ]
  },
  {
   "cell_type": "code",
   "execution_count": 54,
   "id": "1a51b985",
   "metadata": {},
   "outputs": [
    {
     "name": "stdout",
     "output_type": "stream",
     "text": [
      "Help on function fatorial in module __main__:\n",
      "\n",
      "fatorial(num=1, show=False)\n",
      "    -> Faz o fatorial de um número.\n",
      "    :param num: Número para fazer o fatorial\n",
      "    :param show: Para mostrar ou não o calculo do fatorial\n",
      "    :return: Retorna o fatorial do número\n",
      "\n"
     ]
    }
   ],
   "source": [
    "help(fatorial)"
   ]
  },
  {
   "cell_type": "code",
   "execution_count": null,
   "id": "1587779f",
   "metadata": {},
   "outputs": [],
   "source": []
  }
 ],
 "metadata": {
  "kernelspec": {
   "display_name": "Python 3 (ipykernel)",
   "language": "python",
   "name": "python3"
  },
  "language_info": {
   "codemirror_mode": {
    "name": "ipython",
    "version": 3
   },
   "file_extension": ".py",
   "mimetype": "text/x-python",
   "name": "python",
   "nbconvert_exporter": "python",
   "pygments_lexer": "ipython3",
   "version": "3.9.7"
  }
 },
 "nbformat": 4,
 "nbformat_minor": 5
}

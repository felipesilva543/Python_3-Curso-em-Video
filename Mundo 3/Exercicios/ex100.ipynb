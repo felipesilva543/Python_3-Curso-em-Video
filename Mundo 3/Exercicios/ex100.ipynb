{
 "cells": [
  {
   "cell_type": "markdown",
   "id": "896b9934",
   "metadata": {},
   "source": [
    "Faça um programa que tenha uma lista chamada números e duas funções chamadas sorteia() e somaPar(). A primeira função vai sortear 5 números e vai colocá-los dentro da lista e a segunda função vai mostrar a soma entre todos os valores pares sorteados pela função anterior."
   ]
  },
  {
   "cell_type": "code",
   "execution_count": 41,
   "id": "5bde84cf",
   "metadata": {},
   "outputs": [
    {
     "name": "stdout",
     "output_type": "stream",
     "text": [
      "Números sorteados: [77, 48, 98, 12, 50, 35, 53, 49]\n",
      "A soma dos números pares em [77, 48, 98, 12, 50, 35, 53, 49] é 208.\n"
     ]
    }
   ],
   "source": [
    "from random import randint\n",
    "def sorteia(lst):\n",
    "    for i in range(0, len(lst)):\n",
    "        lst[i] = randint(0, 100)\n",
    "    \n",
    "def somaPar(lst):\n",
    "    s = 0\n",
    "    for n in lst:\n",
    "        if n % 2 == 0:\n",
    "            s += n\n",
    "    print(f'A soma dos números pares em {lst} é {s}.')\n",
    "    \n",
    "    \n",
    "# PROGRAMA PRINCIPAL\n",
    "numeros = [0, 0, 0, 0, 0, 0, 0, 0]\n",
    "\n",
    "print('Números sorteados: ', end='')\n",
    "sorteia(numeros)\n",
    "print(numeros)\n",
    "somaPar(numeros)\n"
   ]
  },
  {
   "cell_type": "markdown",
   "id": "461c647b",
   "metadata": {},
   "source": [
    "### Extra: Pergunta ao usuário quantos números devem ser sorteados"
   ]
  },
  {
   "cell_type": "code",
   "execution_count": 44,
   "id": "9cf26f43",
   "metadata": {},
   "outputs": [
    {
     "name": "stdout",
     "output_type": "stream",
     "text": [
      "Quantos números deve ser sorteado: 42\n",
      "Números sorteados: [2, 3, 7, 4, 4, 5, 7, 2, 10, 7, 6, 8, 5, 1, 9, 1, 9, 8, 9, 5, 5, 2, 10, 9, 9, 10, 1, 2, 7, 1, 1, 2, 7, 1, 5, 6, 2, 4, 2, 5, 8, 6]\n",
      "A soma dos números pares em [2, 3, 7, 4, 4, 5, 7, 2, 10, 7, 6, 8, 5, 1, 9, 1, 9, 8, 9, 5, 5, 2, 10, 9, 9, 10, 1, 2, 7, 1, 1, 2, 7, 1, 5, 6, 2, 4, 2, 5, 8, 6] é 98.\n"
     ]
    }
   ],
   "source": [
    "from random import randint\n",
    "def sorteia(lst, tam):\n",
    "    for i in range(0, tam):\n",
    "        lst.append(randint(1,10))\n",
    "    \n",
    "def somaPar(lst):\n",
    "    s = 0\n",
    "    for n in lst:\n",
    "        if n % 2 == 0:\n",
    "            s += n\n",
    "    print(f'A soma dos números pares em {lst} é {s}.')\n",
    "    \n",
    "    \n",
    "# PROGRAMA PRINCIPAL\n",
    "numeros = list()\n",
    "tam = int(input('Quantos números deve ser sorteado: '))\n",
    "\n",
    "print('Números sorteados: ', end='')\n",
    "sorteia(numeros, tam)\n",
    "print(numeros)\n",
    "somaPar(numeros)\n"
   ]
  },
  {
   "cell_type": "code",
   "execution_count": null,
   "id": "b3fb019e",
   "metadata": {},
   "outputs": [],
   "source": []
  }
 ],
 "metadata": {
  "kernelspec": {
   "display_name": "Python 3 (ipykernel)",
   "language": "python",
   "name": "python3"
  },
  "language_info": {
   "codemirror_mode": {
    "name": "ipython",
    "version": 3
   },
   "file_extension": ".py",
   "mimetype": "text/x-python",
   "name": "python",
   "nbconvert_exporter": "python",
   "pygments_lexer": "ipython3",
   "version": "3.9.7"
  }
 },
 "nbformat": 4,
 "nbformat_minor": 5
}

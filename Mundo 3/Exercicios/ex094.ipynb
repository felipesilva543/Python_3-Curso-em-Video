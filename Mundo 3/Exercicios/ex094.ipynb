{
 "cells": [
  {
   "cell_type": "markdown",
   "id": "81863ca7",
   "metadata": {},
   "source": [
    "Crie um programa que leia nome, sexo e idade de várias pessoas, guardando os dados de cada pessoa em um dicionário e todos os dicionários em uma lista. No final, mostre:\n",
    "\n",
    "A) Quantas pessoas foram cadastradas \n",
    "\n",
    "B) A média de idade\n",
    "\n",
    "C) Uma lista com as mulheres\n",
    "\n",
    "D) Uma lista de pessoas com idade acima da média"
   ]
  },
  {
   "cell_type": "code",
   "execution_count": 13,
   "id": "9cb756c5",
   "metadata": {},
   "outputs": [
    {
     "name": "stdout",
     "output_type": "stream",
     "text": [
      "Nome: Felipe\n",
      "Idade: 24\n",
      "Sexo [M/F]: M\n",
      "Deseja continuar [S/N]? s\n",
      "Nome: Maira\n",
      "Idade: 30\n",
      "Sexo [M/F]: f\n",
      "Deseja continuar [S/N]? Julia\n",
      "Nome: 28\n",
      "Idade: 28\n",
      "Sexo [M/F]: f\n",
      "Deseja continuar [S/N]? n\n",
      "-=-=-=-=-=-=-=-=-=-=-=-=-=-=-=-=-=-=-=-=-=-=-=-=-=-=-=-=-=-=\n",
      "[{'nome': 'Felipe', 'idade': 24, 'sexo': 'M'}, {'nome': 'Maira', 'idade': 30, 'sexo': 'f'}, {'nome': '28', 'idade': 28, 'sexo': 'f'}]\n",
      "A) Total de pessoas cadastradas: 3\n",
      "B) A média de idades é: 27.33\n",
      "C) As mulheres cadastradas foram: [Maira] [28] \n",
      "D) As pessoas com idade acima de 27.33 são:\n",
      "Maira com 30 anos.\n",
      "28 com 28 anos.\n"
     ]
    }
   ],
   "source": [
    "pessoa = dict()\n",
    "grupo = list()\n",
    "\n",
    "while True:\n",
    "    pessoa['nome'] = input('Nome: ')\n",
    "    pessoa['idade'] = int(input('Idade: '))\n",
    "    pessoa['sexo'] = input('Sexo [M/F]: ')\n",
    "    \n",
    "    grupo.append(pessoa.copy())\n",
    "    \n",
    "    op = input('Deseja continuar [S/N]? ')\n",
    "    if op in 'nN':\n",
    "        break\n",
    "print('-=' * 30)\n",
    "print(grupo)\n",
    "print(f'A) Total de pessoas cadastradas: {len(grupo)}')\n",
    "\n",
    "medIdade = 0\n",
    "for p in grupo:\n",
    "    medIdade += p['idade']\n",
    "medIdade /= len(grupo)\n",
    "print(f'B) A média de idades é: {medIdade:.2f}')\n",
    "\n",
    "print('C) As mulheres cadastradas foram: ', end='')\n",
    "for m in grupo:\n",
    "    if m['sexo'] in 'fF':\n",
    "        print(f'[{m[\"nome\"]}]', end=' ')\n",
    "print()\n",
    "print(f'D) As pessoas com idade acima de {medIdade:.2f} são:')\n",
    "for p in grupo:\n",
    "    if p['idade'] > medIdade:\n",
    "        print(f'{p[\"nome\"]} com {p[\"idade\"]} anos.')"
   ]
  },
  {
   "cell_type": "code",
   "execution_count": null,
   "id": "7b70e673",
   "metadata": {},
   "outputs": [],
   "source": []
  }
 ],
 "metadata": {
  "kernelspec": {
   "display_name": "Python 3 (ipykernel)",
   "language": "python",
   "name": "python3"
  },
  "language_info": {
   "codemirror_mode": {
    "name": "ipython",
    "version": 3
   },
   "file_extension": ".py",
   "mimetype": "text/x-python",
   "name": "python",
   "nbconvert_exporter": "python",
   "pygments_lexer": "ipython3",
   "version": "3.9.7"
  }
 },
 "nbformat": 4,
 "nbformat_minor": 5
}

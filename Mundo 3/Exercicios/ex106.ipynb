{
 "cells": [
  {
   "cell_type": "markdown",
   "id": "9ca9f985",
   "metadata": {},
   "source": [
    "Faça um mini-sistema que utilize o Interactive Help do Python. O usuário vai digitar o comando e o manual vai aparecer. Quando o usuário digitar a palavra ‘FIM’, o programa se encerrará. Importante: use cores."
   ]
  },
  {
   "cell_type": "code",
   "execution_count": 4,
   "id": "0b515786",
   "metadata": {},
   "outputs": [
    {
     "name": "stdout",
     "output_type": "stream",
     "text": [
      "\u001b[31m~\u001b[31m~\u001b[31m~\u001b[31m~\u001b[31m~\u001b[31m~\u001b[31m~\u001b[31m~\u001b[31m~\u001b[31m~\u001b[31m~\u001b[31m~\u001b[31m~\u001b[31m~\u001b[31m~\u001b[31m~\u001b[31m~\u001b[31m~\u001b[31m~\u001b[31m~\u001b[31m~\u001b[31m~\u001b[31m~\u001b[31m~\u001b[31m~\u001b[31m~\u001b[31m~\u001b[31m~\u001b[31m~\u001b[31m~\u001b[31m~\u001b[31m~\u001b[31m~\n",
      "  MINI-SISTEMA INTERACTIVE HELP\n",
      "~~~~~~~~~~~~~~~~~~~~~~~~~~~~~~~~~\n",
      "\u001b[m\n",
      "Qual comando deseja especionar? [\"fim\" para sair]len\n",
      "\u001b[31m~\u001b[31m~\u001b[31m~\u001b[31m~\u001b[31m~\u001b[31m~\u001b[31m~\u001b[31m~\u001b[31m~\u001b[31m~\u001b[31m~\u001b[31m~\u001b[31m~\u001b[31m~\u001b[31m~\u001b[31m~\u001b[31m~\u001b[31m~\u001b[31m~\u001b[31m~\u001b[31m~\u001b[31m~\u001b[31m~\u001b[31m~\n",
      "  INFORMAÇÕES DE 'len'\n",
      "~~~~~~~~~~~~~~~~~~~~~~~~\n",
      "\u001b[m\n",
      "\u001b[32m\n",
      "Help on built-in function len in module builtins:\n",
      "\n",
      "len(obj, /)\n",
      "    Return the number of items in a container.\n",
      "\n",
      "\u001b[m\n",
      "\u001b[31m~\u001b[31m~\u001b[31m~\u001b[31m~\u001b[31m~\u001b[31m~\u001b[31m~\u001b[31m~\u001b[31m~\u001b[31m~\u001b[31m~\u001b[31m~\u001b[31m~\u001b[31m~\u001b[31m~\u001b[31m~\u001b[31m~\u001b[31m~\u001b[31m~\u001b[31m~\u001b[31m~\u001b[31m~\u001b[31m~\u001b[31m~\u001b[31m~\u001b[31m~\u001b[31m~\u001b[31m~\u001b[31m~\u001b[31m~\u001b[31m~\u001b[31m~\u001b[31m~\n",
      "  MINI-SISTEMA INTERACTIVE HELP\n",
      "~~~~~~~~~~~~~~~~~~~~~~~~~~~~~~~~~\n",
      "\u001b[m\n",
      "Qual comando deseja especionar? [\"fim\" para sair]fim\n",
      "\u001b[31m~\u001b[31m~\u001b[31m~\u001b[31m~\u001b[31m~\u001b[31m~\u001b[31m~\u001b[31m~\u001b[31m~\u001b[31m~\u001b[31m~\u001b[31m~\u001b[31m~\u001b[31m~\u001b[31m~\u001b[31m~\u001b[31m~\u001b[31m~\u001b[31m~\u001b[31m~\u001b[31m~\u001b[31m~\n",
      "  SISTEMA FINALIZADO\n",
      "~~~~~~~~~~~~~~~~~~~~~~\n",
      "\u001b[m\n"
     ]
    }
   ],
   "source": [
    "def cabeca(txt):\n",
    "    tam = len(txt) + 4\n",
    "    print(\"\\033[31m~\" * tam)\n",
    "    print(f'  {txt}')\n",
    "    print(\"~\" * tam)\n",
    "    print('\\033[m')\n",
    "    \n",
    "def sis(txt):\n",
    "    if txt.lower() == 'fim':\n",
    "        return False\n",
    "    cabeca(f'INFORMAÇÕES DE \\'{txt.lower()}\\'')\n",
    "    print('\\033[32m')\n",
    "    help(txt)\n",
    "    print('\\033[m')\n",
    "    return True\n",
    "\n",
    "\n",
    "while True:\n",
    "    cabeca('MINI-SISTEMA INTERACTIVE HELP')\n",
    "    msg = input('Qual comando deseja especionar? [\"fim\" para sair]')\n",
    "    info = sis(msg)\n",
    "    if info == False:\n",
    "        cabeca('SISTEMA FINALIZADO')\n",
    "        break"
   ]
  },
  {
   "cell_type": "code",
   "execution_count": null,
   "id": "87463a6f",
   "metadata": {},
   "outputs": [],
   "source": []
  }
 ],
 "metadata": {
  "kernelspec": {
   "display_name": "Python 3 (ipykernel)",
   "language": "python",
   "name": "python3"
  },
  "language_info": {
   "codemirror_mode": {
    "name": "ipython",
    "version": 3
   },
   "file_extension": ".py",
   "mimetype": "text/x-python",
   "name": "python",
   "nbconvert_exporter": "python",
   "pygments_lexer": "ipython3",
   "version": "3.9.7"
  }
 },
 "nbformat": 4,
 "nbformat_minor": 5
}

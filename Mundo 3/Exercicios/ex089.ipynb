{
 "cells": [
  {
   "cell_type": "markdown",
   "id": "754e0ad7",
   "metadata": {},
   "source": [
    "Crie um programa que leia nome e duas notas de vários alunos e guarde tudo em uma lista composta. No final, mostre um boletim contendo a média de cada um e permita que o usuário possa mostrar as notas de cada aluno individualmente."
   ]
  },
  {
   "cell_type": "code",
   "execution_count": 47,
   "id": "97e66b37",
   "metadata": {},
   "outputs": [
    {
     "name": "stdout",
     "output_type": "stream",
     "text": [
      "Nome:Felipe\n",
      "Nota 1: 10\n",
      "Nota 2: 9\n",
      "Deseja continuar [S/N]: n\n",
      "-=-=-=  BOLETIM ESCOLAR  =-=-=-\n",
      "N°  NOME                 MEDIA\n",
      "0   Felipe                9.5\n",
      "-=-=-=-=-=-=-=-=-=-=-=-=-=-=-=\n",
      "Deseja ver a nota de qual aluno [999 - para sair]: 0\n",
      "------------------------------------------------------------\n",
      "O aluno Felipe obteve as notas: [10.0, 9.0]\n",
      "------------------------------------------------------------\n",
      "Deseja ver a nota de qual aluno [999 - para sair]: 1\n",
      "Deseja ver a nota de qual aluno [999 - para sair]: 2\n",
      "Deseja ver a nota de qual aluno [999 - para sair]: 3\n",
      "Deseja ver a nota de qual aluno [999 - para sair]: 0\n",
      "------------------------------------------------------------\n",
      "O aluno Felipe obteve as notas: [10.0, 9.0]\n",
      "------------------------------------------------------------\n",
      "Deseja ver a nota de qual aluno [999 - para sair]: 000\n",
      "------------------------------------------------------------\n",
      "O aluno Felipe obteve as notas: [10.0, 9.0]\n",
      "------------------------------------------------------------\n",
      "Deseja ver a nota de qual aluno [999 - para sair]: 999\n",
      "FINALIZANDO PROGRAMA -> **ATÉ LOGO**\n"
     ]
    }
   ],
   "source": [
    "boletim = []\n",
    "while True:\n",
    "    nome = str(input('Nome:'))\n",
    "    n1 = float(input('Nota 1: '))\n",
    "    n2 = float(input('Nota 2: '))\n",
    "    notas = [n1, n2]\n",
    "    media = (n1+n2)/2\n",
    "    aluno = [nome, notas, media]\n",
    "    \n",
    "    boletim.append(aluno)\n",
    "    op = input('Deseja continuar [S/N]: ')\n",
    "    if op in 'nN':\n",
    "        break\n",
    "    \n",
    "nometex = 'NOME'\n",
    "mediatex = 'MEDIA'\n",
    "print('-='*3, ' BOLETIM ESCOLAR ', '=-'*3)\n",
    "print(f'N°  {nometex:<10} {mediatex:>15}')\n",
    "for a in boletim:\n",
    "    print(f'{boletim.index(a):<4}{a[0]:<10}{a[2]:>15}')\n",
    "print('-='*15)\n",
    "\n",
    "while True:\n",
    "    num = int(input('Deseja ver a nota de qual aluno [999 - para sair]: '))\n",
    "    if num == 999:\n",
    "        break\n",
    "    elif num < len(boletim):\n",
    "        print('-'*60)\n",
    "        print(f'O aluno {boletim[num][0]} obteve as notas: {boletim[num][1]}')\n",
    "        print('-'*60)\n",
    "\n",
    "print('FINALIZANDO PROGRAMA -> **ATÉ LOGO**')"
   ]
  },
  {
   "cell_type": "code",
   "execution_count": 44,
   "id": "37bc48d3",
   "metadata": {},
   "outputs": [
    {
     "name": "stdout",
     "output_type": "stream",
     "text": [
      "N°  NOME           MÉDIA\n"
     ]
    }
   ],
   "source": [
    "print(f'{\"N°\":<4}{\"NOME\":<10}{\"MÉDIA\":>10}')"
   ]
  },
  {
   "cell_type": "code",
   "execution_count": null,
   "id": "b854e31a",
   "metadata": {},
   "outputs": [],
   "source": []
  }
 ],
 "metadata": {
  "kernelspec": {
   "display_name": "Python 3 (ipykernel)",
   "language": "python",
   "name": "python3"
  },
  "language_info": {
   "codemirror_mode": {
    "name": "ipython",
    "version": 3
   },
   "file_extension": ".py",
   "mimetype": "text/x-python",
   "name": "python",
   "nbconvert_exporter": "python",
   "pygments_lexer": "ipython3",
   "version": "3.9.7"
  }
 },
 "nbformat": 4,
 "nbformat_minor": 5
}

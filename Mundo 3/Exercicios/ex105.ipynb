{
 "cells": [
  {
   "cell_type": "markdown",
   "id": "65179d53",
   "metadata": {},
   "source": [
    "Faça um programa que tenha uma função notas() que pode receber várias notas de alunos e vai retornar um dicionário com as seguintes informações:\n",
    "\n",
    "– Quantidade de notas\n",
    "\n",
    "– A maior nota\n",
    "\n",
    "– A menor nota\n",
    "\n",
    "– A média da turma\n",
    "\n",
    "– A situação (opcional)"
   ]
  },
  {
   "cell_type": "code",
   "execution_count": 15,
   "id": "1f02cff1",
   "metadata": {},
   "outputs": [
    {
     "name": "stdout",
     "output_type": "stream",
     "text": [
      "{'QtdNotas': 3, 'Maior': 10, 'Menor': 3, 'Media': 6.333333333333333, 'Situação': 'Razoável'}\n"
     ]
    }
   ],
   "source": [
    "def notas(*num, situ=False):\n",
    "    \"\"\"\n",
    "    -> Analisa notas de vários alunos\n",
    "    :param num: recebe várias notas de alunos\n",
    "    :param situ: valor opcional, indica se deve adicionar ou não a situação\n",
    "    :return: dicionário com varias informações e a situação da turma\n",
    "    \"\"\"\n",
    "    dic = dict()\n",
    "    totNotas = len(num)\n",
    "    maior = menor = media = soma = 0\n",
    "    op = ''\n",
    "    cont = 0\n",
    "    while cont < totNotas:\n",
    "        soma += num[cont]\n",
    "        if cont == 0:\n",
    "            maior = menor = num[cont]\n",
    "        else:\n",
    "            if maior < num[cont]:\n",
    "                maior = num[cont]\n",
    "            if menor > num[cont]:\n",
    "                menor = num[cont]\n",
    "        cont += 1\n",
    "    media = soma/totNotas\n",
    "    dic['QtdNotas'] = totNotas\n",
    "    dic['Maior'] = maior\n",
    "    dic['Menor'] = menor\n",
    "    dic['Media'] = media\n",
    "    \n",
    "    if situ:\n",
    "        if media < 6:\n",
    "            dic['Situação'] = 'Ruim'\n",
    "        elif 6 <= media < 7:\n",
    "            dic['Situação'] = 'Razoável'\n",
    "        else:\n",
    "            dic['Situação'] = 'Boa'\n",
    "    return dic\n",
    "            \n",
    "resp = notas(3, 6, 10, situ=True)\n",
    "print(resp)"
   ]
  },
  {
   "cell_type": "code",
   "execution_count": 16,
   "id": "a2810809",
   "metadata": {},
   "outputs": [
    {
     "name": "stdout",
     "output_type": "stream",
     "text": [
      "Help on function notas in module __main__:\n",
      "\n",
      "notas(*num, situ=False)\n",
      "    -> Analisa notas de vários alunos\n",
      "    :param num: recebe várias notas de alunos\n",
      "    :param situ: valor opcional, indica se deve adicionar ou não a situação\n",
      "    :return: dicionário com varias informações e a situação da turma\n",
      "\n"
     ]
    }
   ],
   "source": [
    "help(notas)"
   ]
  },
  {
   "cell_type": "code",
   "execution_count": 18,
   "id": "0125ac3c",
   "metadata": {},
   "outputs": [
    {
     "data": {
      "text/plain": [
       "{'QtdNotas': 5, 'Maior': 8, 'Menor': 2, 'Media': 5.6}"
      ]
     },
     "execution_count": 18,
     "metadata": {},
     "output_type": "execute_result"
    }
   ],
   "source": [
    "def notas(*num, situ=False):\n",
    "    \"\"\"\n",
    "    -> Analisa notas de vários alunos\n",
    "    :param num: recebe várias notas de alunos\n",
    "    :param situ: valor opcional, indica se deve adicionar ou não a situação\n",
    "    :return: dicionário com varias informações e a situação da turma\n",
    "    \"\"\"\n",
    "    dic = dict()\n",
    "    dic['QtdNotas'] = len(num)\n",
    "    dic['Maior'] = max(num)\n",
    "    dic['Menor'] = min(num)\n",
    "    dic['Media'] = sum(num)/len(num)\n",
    "    \n",
    "    if situ:\n",
    "        if dic['Media'] < 6:\n",
    "            dic['Situação'] = 'Ruim'\n",
    "        elif 5 <= dic['Media'] < 7:\n",
    "            dic['Situação'] = 'Razoável'\n",
    "        else:\n",
    "            dic['Situação'] = 'Boa'\n",
    "    return dic\n",
    "\n",
    "notas(2, 5, 6, 7, 8)"
   ]
  },
  {
   "cell_type": "code",
   "execution_count": null,
   "id": "8c731207",
   "metadata": {},
   "outputs": [],
   "source": []
  }
 ],
 "metadata": {
  "kernelspec": {
   "display_name": "Python 3 (ipykernel)",
   "language": "python",
   "name": "python3"
  },
  "language_info": {
   "codemirror_mode": {
    "name": "ipython",
    "version": 3
   },
   "file_extension": ".py",
   "mimetype": "text/x-python",
   "name": "python",
   "nbconvert_exporter": "python",
   "pygments_lexer": "ipython3",
   "version": "3.9.7"
  }
 },
 "nbformat": 4,
 "nbformat_minor": 5
}

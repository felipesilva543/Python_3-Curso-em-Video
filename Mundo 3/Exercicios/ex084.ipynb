{
 "cells": [
  {
   "cell_type": "markdown",
   "id": "aefafd4d",
   "metadata": {},
   "source": [
    "Faça um programa que leia nome e peso de várias pessoas, guardando tudo em uma lista. No final, mostre:\n",
    "\n",
    "A) Quantas pessoas foram cadastradas.\n",
    "\n",
    "B) Uma listagem com as pessoas mais pesadas.\n",
    "\n",
    "C) Uma listagem com as pessoas mais leves."
   ]
  },
  {
   "cell_type": "code",
   "execution_count": 25,
   "id": "f1a7cb6d",
   "metadata": {},
   "outputs": [
    {
     "name": "stdout",
     "output_type": "stream",
     "text": [
      "Nome: Felipe\n",
      "Peso: 100\n",
      "Deseja continuar [S/N]: s\n",
      "Nome: Aldeneide\n",
      "Peso: 65\n",
      "Deseja continuar [S/N]: s\n",
      "Nome: Brena\n",
      "Peso: 65\n",
      "Deseja continuar [S/N]: s\n",
      "Nome: Joao\n",
      "Peso: 100\n",
      "Deseja continuar [S/N]: s\n",
      "Nome: Paulo\n",
      "Peso: 70\n",
      "Deseja continuar [S/N]: n\n",
      "========================================\n",
      "Foram cadastradas 5 pessoas.\n",
      "O menor peso é 65.00Kg e são as pessoas: [Aldeneide][Brena]\n",
      "O maior peso é 100.00Kg e são as pessoas: [Felipe][Joao]\n"
     ]
    }
   ],
   "source": [
    "pessoas = list()\n",
    "dado = list()\n",
    "totNomes = leve = pesado = 0\n",
    "\n",
    "while True:\n",
    "    dado.append(str(input('Nome: ')))\n",
    "    dado.append(int(input('Peso: ')))\n",
    "    totNomes += 1\n",
    "    if totNomes == 1:\n",
    "        leve = pesado = dado[1]\n",
    "    else:\n",
    "        if dado[1] < leve:\n",
    "            leve = dado[1]\n",
    "        elif dado[1] > pesado:\n",
    "            pesado = dado[1]\n",
    "    pessoas.append(dado[:])\n",
    "    dado.clear()\n",
    "    op = input('Deseja continuar [S/N]: ')\n",
    "    if op in 'nN':\n",
    "        break\n",
    "\n",
    "print('='*40)\n",
    "print(f'Foram cadastradas {totNomes} pessoas.')\n",
    "print(f'O menor peso é {leve:.2f}Kg e são as pessoas:', end=' ')\n",
    "for p in pessoas:\n",
    "    if p[1] == leve:\n",
    "        print(f'[{p[0]}]', end='')\n",
    "print(f'\\nO maior peso é {pesado:.2f}Kg e são as pessoas:', end=' ')\n",
    "for p in pessoas:\n",
    "    if p[1] == pesado:\n",
    "        print(f'[{p[0]}]', end='')\n",
    "\n",
    "print()"
   ]
  },
  {
   "cell_type": "code",
   "execution_count": null,
   "id": "b6e7c3b9",
   "metadata": {},
   "outputs": [],
   "source": []
  }
 ],
 "metadata": {
  "kernelspec": {
   "display_name": "Python 3 (ipykernel)",
   "language": "python",
   "name": "python3"
  },
  "language_info": {
   "codemirror_mode": {
    "name": "ipython",
    "version": 3
   },
   "file_extension": ".py",
   "mimetype": "text/x-python",
   "name": "python",
   "nbconvert_exporter": "python",
   "pygments_lexer": "ipython3",
   "version": "3.9.7"
  }
 },
 "nbformat": 4,
 "nbformat_minor": 5
}

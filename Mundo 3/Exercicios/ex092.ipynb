{
 "cells": [
  {
   "cell_type": "markdown",
   "id": "fda399f2",
   "metadata": {},
   "source": [
    "Crie um programa que leia nome, ano de nascimento e carteira de trabalho e cadastre-o (com idade) em um dicionário. Se por acaso a CTPS for diferente de ZERO, o dicionário receberá também o ano de contratação e o salário. Calcule e acrescente, além da idade, com quantos anos a pessoa vai se aposentar."
   ]
  },
  {
   "cell_type": "code",
   "execution_count": 10,
   "id": "559dc691",
   "metadata": {},
   "outputs": [
    {
     "name": "stdout",
     "output_type": "stream",
     "text": [
      "Nome: Felipe\n",
      "Ano de Nascimento: 2000\n",
      "N° carteira de trabalho [0 se não tiver]: 1234\n",
      "Ano de contratação: 2020\n",
      "Salário: 4\n",
      "=-=-=-=-=-=-=-=-=-=-=-=-=-=-=-=-=-=-=-=-\n",
      "Nome = Felipe\n",
      "Idade = 22\n",
      "ctps = 1234\n",
      "Contratação = 2020\n",
      "Salário = 4.0\n",
      "Aposentadoria = 2055\n",
      "IdadeApos = 57\n"
     ]
    }
   ],
   "source": [
    "from datetime import date\n",
    "funcionario = dict()\n",
    "nome = str(input('Nome: '))\n",
    "ano = int(input('Ano de Nascimento: '))\n",
    "ctps = int(input('N° carteira de trabalho [0 se não tiver]: '))\n",
    "\n",
    "funcionario['Nome'] = nome\n",
    "funcionario['Idade'] = date.today().year - ano\n",
    "funcionario['ctps'] = ctps\n",
    "\n",
    "if ctps != 0:\n",
    "    contratacao = int(input('Ano de contratação: '))\n",
    "    funcionario['Contratação'] = contratacao\n",
    "    salario = float(input('Salário: '))\n",
    "    funcionario['Salário'] = salario\n",
    "    funcionario['Aposentadoria'] = contratacao + 35\n",
    "    funcionario['IdadeApos'] = funcionario['Idade'] + 35\n",
    "\n",
    "print('=-' * 20)\n",
    "\n",
    "for k, v in funcionario.items():\n",
    "    print(f'{k} = {v}')"
   ]
  },
  {
   "cell_type": "code",
   "execution_count": null,
   "id": "2e544deb",
   "metadata": {},
   "outputs": [],
   "source": []
  }
 ],
 "metadata": {
  "kernelspec": {
   "display_name": "Python 3 (ipykernel)",
   "language": "python",
   "name": "python3"
  },
  "language_info": {
   "codemirror_mode": {
    "name": "ipython",
    "version": 3
   },
   "file_extension": ".py",
   "mimetype": "text/x-python",
   "name": "python",
   "nbconvert_exporter": "python",
   "pygments_lexer": "ipython3",
   "version": "3.9.7"
  }
 },
 "nbformat": 4,
 "nbformat_minor": 5
}

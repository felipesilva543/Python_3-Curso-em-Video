{
 "cells": [
  {
   "cell_type": "markdown",
   "id": "f2d08b03",
   "metadata": {},
   "source": [
    "Crie um programa que tenha uma tupla única com nomes de produtos e seus respectivos preços, na sequência. No final, mostre uma listagem de preços, organizando os dados em forma tabular."
   ]
  },
  {
   "cell_type": "code",
   "execution_count": 49,
   "id": "534687f6",
   "metadata": {},
   "outputs": [
    {
     "name": "stdout",
     "output_type": "stream",
     "text": [
      "============================\n",
      "     Lista de Produtos      \n",
      "============================\n",
      "Feijão..............R$  5.50\n",
      "Arroz...............R$  6.00\n",
      "Peito de Frango.....R$ 10.90\n",
      "Macarrão............R$  4.75\n",
      "Iorgute.............R$  9.99\n",
      "============================\n"
     ]
    }
   ],
   "source": [
    "prod = ('Feijão', 5.5, 'Arroz', 6.0, 'Peito de Frango', 10.9, 'Macarrão', 4.75, 'Iorgute', 9.99)\n",
    "\n",
    "print('='*28)\n",
    "print(f'{\"Lista de Produtos\":^28}')\n",
    "print('='*28)\n",
    "\n",
    "for pos, c in enumerate(prod):\n",
    "    if pos % 2 == 0:\n",
    "        print(f'{c:.<20}R${prod[pos+1]:>6.2f}')\n",
    "print('='*28)"
   ]
  },
  {
   "cell_type": "code",
   "execution_count": null,
   "id": "9160ca7d",
   "metadata": {},
   "outputs": [],
   "source": []
  }
 ],
 "metadata": {
  "kernelspec": {
   "display_name": "Python 3 (ipykernel)",
   "language": "python",
   "name": "python3"
  },
  "language_info": {
   "codemirror_mode": {
    "name": "ipython",
    "version": 3
   },
   "file_extension": ".py",
   "mimetype": "text/x-python",
   "name": "python",
   "nbconvert_exporter": "python",
   "pygments_lexer": "ipython3",
   "version": "3.9.7"
  }
 },
 "nbformat": 4,
 "nbformat_minor": 5
}

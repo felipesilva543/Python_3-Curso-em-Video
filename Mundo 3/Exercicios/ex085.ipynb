{
 "cells": [
  {
   "cell_type": "markdown",
   "id": "8cfc79f4",
   "metadata": {},
   "source": [
    "Crie um programa onde o usuário possa digitar sete valores numéricos e cadastre-os em uma lista única que mantenha separados os valores pares e ímpares. No final, mostre os valores pares e ímpares em ordem crescente."
   ]
  },
  {
   "cell_type": "code",
   "execution_count": 10,
   "id": "26453feb",
   "metadata": {},
   "outputs": [
    {
     "name": "stdout",
     "output_type": "stream",
     "text": [
      "Digite o 1° número: 3\n",
      "Digite o 2° número: 4\n",
      "Digite o 3° número: 8\n",
      "Digite o 4° número: 6\n",
      "Digite o 5° número: 5\n",
      "Digite o 6° número: 4\n",
      "Digite o 7° número: 8\n",
      "-=-=-=-=-=-=-=-=-=-=-=-=-=-=-=-=-=-=-=-=-=-=-=-=-=-=-=-=-=-=\n",
      "O valores pares são: [4, 4, 6, 8, 8]\n",
      "O valores impares são: [3, 5]\n"
     ]
    }
   ],
   "source": [
    "numeros = [[],[]]\n",
    "for i in range(1, 8):\n",
    "    n = int(input(f'Digite o {i}° número: '))\n",
    "    if n % 2 == 0:\n",
    "        numeros[0].append(n)\n",
    "    else:\n",
    "        numeros[1].append(n)\n",
    "    \n",
    "print('-='*30)\n",
    "numeros[0].sort()\n",
    "numeros[1].sort()\n",
    "print(f'O valores pares são: {numeros[0]}')\n",
    "print(f'O valores impares são: {numeros[1]}')\n"
   ]
  },
  {
   "cell_type": "code",
   "execution_count": null,
   "id": "4b19d208",
   "metadata": {},
   "outputs": [],
   "source": []
  }
 ],
 "metadata": {
  "kernelspec": {
   "display_name": "Python 3 (ipykernel)",
   "language": "python",
   "name": "python3"
  },
  "language_info": {
   "codemirror_mode": {
    "name": "ipython",
    "version": 3
   },
   "file_extension": ".py",
   "mimetype": "text/x-python",
   "name": "python",
   "nbconvert_exporter": "python",
   "pygments_lexer": "ipython3",
   "version": "3.9.7"
  }
 },
 "nbformat": 4,
 "nbformat_minor": 5
}

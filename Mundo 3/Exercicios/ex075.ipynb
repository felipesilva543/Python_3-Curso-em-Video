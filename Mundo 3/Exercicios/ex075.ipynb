{
 "cells": [
  {
   "cell_type": "markdown",
   "id": "873b5c56",
   "metadata": {},
   "source": [
    "Desenvolva um programa que leia quatro valores pelo teclado e guarde-os em uma tupla. No final, mostre:\n",
    "\n",
    "A) Quantas vezes apareceu o valor 9.\n",
    "\n",
    "B) Em que posição foi digitado o primeiro valor 3.\n",
    "\n",
    "C) Quais foram os números pares."
   ]
  },
  {
   "cell_type": "code",
   "execution_count": 22,
   "id": "508e5ddc",
   "metadata": {},
   "outputs": [
    {
     "name": "stdout",
     "output_type": "stream",
     "text": [
      "Digite um número: 2\n",
      "Digite um número: 3\n",
      "Digite um número: 4\n",
      "Digite um número: 9\n",
      "\n",
      "\n",
      "A) O número 9 apareceu 1 vezes.\n",
      "B) O primeiro valor 3 apareceu na posição 2.\n",
      "C) Os núemros pares digitados foram: 2 4 "
     ]
    }
   ],
   "source": [
    "num = (int(input('Digite um número: ')), int(input('Digite um número: ')), int(input('Digite um número: ')),\n",
    "    int(input('Digite um número: ')))\n",
    "\n",
    "print('\\n')\n",
    "print(f'A) O número 9 apareceu {num.count(9)} vezes.')\n",
    "\n",
    "if 3 in num:\n",
    "    print(f'B) O primeiro valor 3 apareceu na posição {num.index(3)+1}.')\n",
    "else:\n",
    "    print('B) O valor 3 não foi digitado!')\n",
    "    \n",
    "print('C) Os núemros pares digitados foram: ', end='')\n",
    "for i in num:\n",
    "    if i % 2 == 0:\n",
    "        print(i, end=' ')"
   ]
  },
  {
   "cell_type": "code",
   "execution_count": null,
   "id": "959e5a7b",
   "metadata": {},
   "outputs": [],
   "source": []
  }
 ],
 "metadata": {
  "kernelspec": {
   "display_name": "Python 3 (ipykernel)",
   "language": "python",
   "name": "python3"
  },
  "language_info": {
   "codemirror_mode": {
    "name": "ipython",
    "version": 3
   },
   "file_extension": ".py",
   "mimetype": "text/x-python",
   "name": "python",
   "nbconvert_exporter": "python",
   "pygments_lexer": "ipython3",
   "version": "3.9.7"
  }
 },
 "nbformat": 4,
 "nbformat_minor": 5
}

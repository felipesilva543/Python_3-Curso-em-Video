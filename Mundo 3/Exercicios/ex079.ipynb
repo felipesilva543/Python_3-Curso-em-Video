{
 "cells": [
  {
   "cell_type": "markdown",
   "id": "8f38f379",
   "metadata": {},
   "source": [
    "Crie um programa onde o usuário possa digitar vários valores numéricos e cadastre-os em uma lista. Caso o número já exista lá dentro, ele não será adicionado. No final, serão exibidos todos os valores únicos digitados, em ordem crescente."
   ]
  },
  {
   "cell_type": "code",
   "execution_count": 5,
   "id": "e14fe810",
   "metadata": {},
   "outputs": [
    {
     "name": "stdout",
     "output_type": "stream",
     "text": [
      "Digite um número [999 para sair]:1\n",
      "Digite um número [999 para sair]:7\n",
      "Digite um número [999 para sair]:8\n",
      "Digite um número [999 para sair]:2\n",
      "Digite um número [999 para sair]:3\n",
      "Digite um número [999 para sair]:4\n",
      "Digite um número [999 para sair]:5\n",
      "Digite um número [999 para sair]:56\n",
      "Digite um número [999 para sair]:2\n",
      "Digite um número [999 para sair]:2\n",
      "Digite um número [999 para sair]:3\n",
      "Digite um número [999 para sair]:4\n",
      "Digite um número [999 para sair]:5\n",
      "Digite um número [999 para sair]:2\n",
      "Digite um número [999 para sair]:5\n",
      "Digite um número [999 para sair]:6\n",
      "Digite um número [999 para sair]:6\n",
      "Digite um número [999 para sair]:7\n",
      "Digite um número [999 para sair]:8\n",
      "Digite um número [999 para sair]:9\n",
      "Digite um número [999 para sair]:999\n",
      "Os valores ÚNICOS digitados em orfem crescente foram: [1, 2, 3, 4, 5, 6, 7, 8, 9, 56].\n"
     ]
    }
   ],
   "source": [
    "lista = []\n",
    "op = 0\n",
    "while op != 999:\n",
    "    num =int(input('Digite um número [999 para sair]:'))\n",
    "    op = num\n",
    "    if op == 999:\n",
    "        break\n",
    "    if num not in lista:\n",
    "        lista.append(num)\n",
    "lista.sort()\n",
    "print(f'Os valores ÚNICOS digitados em orfem crescente foram: {lista}.')"
   ]
  },
  {
   "cell_type": "code",
   "execution_count": null,
   "id": "64cec268",
   "metadata": {},
   "outputs": [],
   "source": []
  }
 ],
 "metadata": {
  "kernelspec": {
   "display_name": "Python 3 (ipykernel)",
   "language": "python",
   "name": "python3"
  },
  "language_info": {
   "codemirror_mode": {
    "name": "ipython",
    "version": 3
   },
   "file_extension": ".py",
   "mimetype": "text/x-python",
   "name": "python",
   "nbconvert_exporter": "python",
   "pygments_lexer": "ipython3",
   "version": "3.9.7"
  }
 },
 "nbformat": 4,
 "nbformat_minor": 5
}

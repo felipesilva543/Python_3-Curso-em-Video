{
 "cells": [
  {
   "cell_type": "markdown",
   "id": "6377f757",
   "metadata": {},
   "source": [
    "Crie um programa onde o usuário digite uma expressão qualquer que use parênteses. Seu aplicativo deverá analisar se a expressão passada está com os parênteses abertos e fechados na ordem correta."
   ]
  },
  {
   "cell_type": "code",
   "execution_count": 7,
   "id": "e00f4672",
   "metadata": {},
   "outputs": [
    {
     "name": "stdout",
     "output_type": "stream",
     "text": [
      "Digite uma expressão qualquer: 2 + (4 - 2) * (2-1)\n",
      "2 + (4 - 2) * (2-1)\n",
      "Expressão correta!\n"
     ]
    }
   ],
   "source": [
    "exp = input('Digite uma expressão qualquer: ')\n",
    "print(exp)\n",
    "c1 = c2 = 0\n",
    "for c in exp:\n",
    "    if c == '(':\n",
    "        c1 += 1\n",
    "    elif c == ')':\n",
    "        c2 += 1\n",
    "if c1 == c2:\n",
    "    print('Expressão correta!')\n",
    "else:\n",
    "    print('Expressão Incorreta!')"
   ]
  },
  {
   "cell_type": "code",
   "execution_count": 11,
   "id": "b2037077",
   "metadata": {},
   "outputs": [
    {
     "name": "stdout",
     "output_type": "stream",
     "text": [
      "Digite uma expressão qualquer: (2 + (4 - 2) * (2-1)\n",
      "(2 + (4 - 2) * (2-1)\n",
      "Expressão Incorreta!\n"
     ]
    }
   ],
   "source": [
    "# RESOLUÇÃO USANDO LISTA\n",
    "exp = input('Digite uma expressão qualquer: ')\n",
    "print(exp)\n",
    "pilha = []\n",
    "\n",
    "for c in exp:\n",
    "    if c == '(':\n",
    "        pilha.append('(')\n",
    "    elif c == ')':\n",
    "        if len(pilha) > 0:\n",
    "            pilha.pop()\n",
    "        else:\n",
    "            pilha.append(')')\n",
    "            break\n",
    "        \n",
    "if len(pilha) == 0:\n",
    "    print('Expressão correta!')\n",
    "else:\n",
    "    print('Expressão Incorreta!')\n",
    "    \n",
    "    "
   ]
  },
  {
   "cell_type": "code",
   "execution_count": null,
   "id": "887e6e98",
   "metadata": {},
   "outputs": [],
   "source": []
  }
 ],
 "metadata": {
  "kernelspec": {
   "display_name": "Python 3 (ipykernel)",
   "language": "python",
   "name": "python3"
  },
  "language_info": {
   "codemirror_mode": {
    "name": "ipython",
    "version": 3
   },
   "file_extension": ".py",
   "mimetype": "text/x-python",
   "name": "python",
   "nbconvert_exporter": "python",
   "pygments_lexer": "ipython3",
   "version": "3.9.7"
  }
 },
 "nbformat": 4,
 "nbformat_minor": 5
}

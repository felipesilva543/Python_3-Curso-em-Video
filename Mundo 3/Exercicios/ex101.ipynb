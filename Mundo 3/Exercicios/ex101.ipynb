{
 "cells": [
  {
   "cell_type": "markdown",
   "id": "69294cf2",
   "metadata": {},
   "source": [
    "Crie um programa que tenha uma função chamada voto() que vai receber como parâmetro o ano de nascimento de uma pessoa, retornando um valor literal indicando se uma pessoa tem voto NEGADO, OPCIONAL e OBRIGATÓRIO nas eleições."
   ]
  },
  {
   "cell_type": "code",
   "execution_count": 20,
   "id": "212fd735",
   "metadata": {},
   "outputs": [
    {
     "name": "stdout",
     "output_type": "stream",
     "text": [
      "Digite seu ano de nascimento: 1900\n",
      "-----------------------------------\n",
      "Com 122 anos seu voto é OPCIONAL!\n"
     ]
    }
   ],
   "source": [
    "def voto(ano):\n",
    "    \"\"\"\n",
    "    -> Verifica a situação da pessoa em relação ao voto no BRASIL!\n",
    "    :param ano: Ano de nascimento da pessoa\n",
    "    :return: Situação da pessoa\n",
    "    \"\"\"\n",
    "    \n",
    "    from datetime import date\n",
    "    atual = date.today().year\n",
    "    idade = atual - ano\n",
    "    print('-'*35)\n",
    "    if idade < 16:\n",
    "        return f'Com {idade} anos seu voto é NEGADO!'\n",
    "    elif 16 <= idade < 18 or idade > 65:\n",
    "        return f'Com {idade} anos seu voto é OPCIONAL!'\n",
    "    else:\n",
    "        return f'Com {idade} anos seu voto é OBRIGATÓRIO!'\n",
    "    \n",
    "# Programa principal\n",
    "n = int(input('Digite seu ano de nascimento: '))\n",
    "print(voto(n))"
   ]
  },
  {
   "cell_type": "code",
   "execution_count": 21,
   "id": "e442af19",
   "metadata": {},
   "outputs": [
    {
     "name": "stdout",
     "output_type": "stream",
     "text": [
      "Help on function voto in module __main__:\n",
      "\n",
      "voto(ano)\n",
      "    -> Verifica a situação da pessoa em relação ao voto no BRASIL!\n",
      "    :param ano: Ano de nascimento da pessoa\n",
      "    :return: Situação da pessoa\n",
      "\n"
     ]
    }
   ],
   "source": [
    "help(voto)"
   ]
  },
  {
   "cell_type": "code",
   "execution_count": null,
   "id": "c6b914c5",
   "metadata": {},
   "outputs": [],
   "source": []
  }
 ],
 "metadata": {
  "kernelspec": {
   "display_name": "Python 3 (ipykernel)",
   "language": "python",
   "name": "python3"
  },
  "language_info": {
   "codemirror_mode": {
    "name": "ipython",
    "version": 3
   },
   "file_extension": ".py",
   "mimetype": "text/x-python",
   "name": "python",
   "nbconvert_exporter": "python",
   "pygments_lexer": "ipython3",
   "version": "3.9.7"
  }
 },
 "nbformat": 4,
 "nbformat_minor": 5
}

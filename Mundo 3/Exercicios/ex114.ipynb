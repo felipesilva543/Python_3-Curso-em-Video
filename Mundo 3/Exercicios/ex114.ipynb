{
 "cells": [
  {
   "cell_type": "markdown",
   "id": "bdd7f962",
   "metadata": {},
   "source": [
    "Crie um código em Python que teste se o site pudim está acessível pelo computador usado."
   ]
  },
  {
   "cell_type": "code",
   "execution_count": 6,
   "id": "b542aaef",
   "metadata": {},
   "outputs": [
    {
     "name": "stdout",
     "output_type": "stream",
     "text": [
      "Consegui acessar o site PUDIM com sucesso!\n",
      "<bound method HTTPResponse.read of <http.client.HTTPResponse object at 0x000001DEFF82FEB0>>\n"
     ]
    }
   ],
   "source": [
    "import urllib\n",
    "import urllib.request\n",
    "\n",
    "try:\n",
    "    site = urllib.request.urlopen('http://pudim.com.br')\n",
    "except:\n",
    "    print('Não podemos acessar o site do PUDIM! :(')\n",
    "else:\n",
    "    print('Consegui acessar o site PUDIM com sucesso!')\n",
    "    print(site.read)"
   ]
  },
  {
   "cell_type": "code",
   "execution_count": null,
   "id": "6d96acf9",
   "metadata": {},
   "outputs": [],
   "source": []
  }
 ],
 "metadata": {
  "kernelspec": {
   "display_name": "Python 3 (ipykernel)",
   "language": "python",
   "name": "python3"
  },
  "language_info": {
   "codemirror_mode": {
    "name": "ipython",
    "version": 3
   },
   "file_extension": ".py",
   "mimetype": "text/x-python",
   "name": "python",
   "nbconvert_exporter": "python",
   "pygments_lexer": "ipython3",
   "version": "3.9.7"
  }
 },
 "nbformat": 4,
 "nbformat_minor": 5
}

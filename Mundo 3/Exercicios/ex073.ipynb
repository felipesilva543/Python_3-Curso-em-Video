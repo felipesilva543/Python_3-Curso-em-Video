{
 "cells": [
  {
   "cell_type": "markdown",
   "id": "c36926a5",
   "metadata": {},
   "source": [
    "Crie uma tupla preenchida com os 20 primeiros colocados da Tabela do Campeonato Brasileiro de Futebol, na ordem de colocação. Depois mostre:\n",
    "\n",
    "a) Os 5 primeiros times.\n",
    "\n",
    "b) Os últimos 4 colocados.\n",
    "\n",
    "c) Times em ordem alfabética.\n",
    "\n",
    "d) Em que posição está o time da Juventude."
   ]
  },
  {
   "cell_type": "code",
   "execution_count": 10,
   "id": "55d4edac",
   "metadata": {},
   "outputs": [
    {
     "name": "stdout",
     "output_type": "stream",
     "text": [
      "20\n",
      "A) ('Corinthians', 'Santos', 'Avaí', 'América-MG', 'Bragantino')\n",
      "B) ('Ceará', 'Juventude', 'Atlético-GO', 'Fortaleza')\n",
      "B) ('Ceará', 'Juventude', 'Atlético-GO', 'Fortaleza')\n",
      "C) ['América-MG', 'Athletico-PR', 'Atlético-GO', 'Atlético-MG', 'Avaí', 'Botafogo', 'Bragantino', 'Ceará', 'Corinthians', 'Coritiba', 'Cuiabá', 'Flamengo', 'Fluminense', 'Fortaleza', 'Goiás', 'Internacional', 'Juventude', 'Palmeiras', 'Santos', 'São Paulo']\n",
      "D) 18\n"
     ]
    }
   ],
   "source": [
    "times = ('Corinthians', 'Santos', 'Avaí', 'América-MG', 'Bragantino', 'São Paulo', 'Atlético-MG',\n",
    "'Botafogo', 'Internacional', 'Coritiba', 'Cuiabá', 'Athletico-PR', 'Palmeiras', 'Flamengo',\n",
    "'Fluminense', 'Goiás', 'Ceará', 'Juventude', 'Atlético-GO', 'Fortaleza')\n",
    "\n",
    "print(len(times))\n",
    "print('A)', times[:5])\n",
    "print('B)', times[16:])\n",
    "print('B)', times[-4:])\n",
    "print('C)', sorted(times))\n",
    "print('D)', times.index('Juventude')+1)"
   ]
  },
  {
   "cell_type": "code",
   "execution_count": null,
   "id": "b6db040c",
   "metadata": {},
   "outputs": [],
   "source": []
  }
 ],
 "metadata": {
  "kernelspec": {
   "display_name": "Python 3 (ipykernel)",
   "language": "python",
   "name": "python3"
  },
  "language_info": {
   "codemirror_mode": {
    "name": "ipython",
    "version": 3
   },
   "file_extension": ".py",
   "mimetype": "text/x-python",
   "name": "python",
   "nbconvert_exporter": "python",
   "pygments_lexer": "ipython3",
   "version": "3.9.7"
  }
 },
 "nbformat": 4,
 "nbformat_minor": 5
}

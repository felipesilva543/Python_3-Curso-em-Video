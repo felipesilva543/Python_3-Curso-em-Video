{
 "cells": [
  {
   "cell_type": "markdown",
   "id": "5b7a2c2b",
   "metadata": {},
   "source": [
    "Crie um programa que vai ler vários números e colocar em uma lista. Depois disso, crie duas listas extras que vão conter apenas os valores pares e os valores ímpares digitados, respectivamente. Ao final, mostre o conteúdo das três listas geradas."
   ]
  },
  {
   "cell_type": "code",
   "execution_count": 10,
   "id": "9c8d2818",
   "metadata": {},
   "outputs": [
    {
     "name": "stdout",
     "output_type": "stream",
     "text": [
      "Digite um valor [0 para sair]:2\n",
      "Digite um valor [0 para sair]:3\n",
      "Digite um valor [0 para sair]:4\n",
      "Digite um valor [0 para sair]:5\n",
      "Digite um valor [0 para sair]:6\n",
      "Digite um valor [0 para sair]:7\n",
      "Digite um valor [0 para sair]:1\n",
      "Digite um valor [0 para sair]:23\n",
      "Digite um valor [0 para sair]:4\n",
      "Digite um valor [0 para sair]:12\n",
      "Digite um valor [0 para sair]:5\n",
      "Digite um valor [0 para sair]:5\n",
      "Digite um valor [0 para sair]:34\n",
      "Digite um valor [0 para sair]:46\n",
      "Digite um valor [0 para sair]:75\n",
      "Digite um valor [0 para sair]:0\n",
      "Lista: [2, 3, 4, 5, 6, 7, 1, 23, 4, 12, 5, 5, 34, 46, 75]\n",
      "Pares: [2, 4, 6, 4, 12, 34, 46]\n",
      "Impares: [3, 5, 7, 1, 23, 5, 5, 75]\n"
     ]
    }
   ],
   "source": [
    "lista = []\n",
    "\n",
    "while True:\n",
    "    op = int(input('Digite um valor [0 para sair]:'))\n",
    "    if op == 0:\n",
    "        break\n",
    "    lista.append(op)\n",
    "\n",
    "l2 = []\n",
    "l3 = []\n",
    "    \n",
    "for c in lista:\n",
    "    if c % 2 == 0:\n",
    "        l2.append(c)\n",
    "    else:\n",
    "        l3.append(c)\n",
    "        \n",
    "print(f'Lista: {lista}')\n",
    "print(f'Pares: {l2}')\n",
    "print(f'Impares: {l3}')"
   ]
  }
 ],
 "metadata": {
  "kernelspec": {
   "display_name": "Python 3 (ipykernel)",
   "language": "python",
   "name": "python3"
  },
  "language_info": {
   "codemirror_mode": {
    "name": "ipython",
    "version": 3
   },
   "file_extension": ".py",
   "mimetype": "text/x-python",
   "name": "python",
   "nbconvert_exporter": "python",
   "pygments_lexer": "ipython3",
   "version": "3.9.7"
  }
 },
 "nbformat": 4,
 "nbformat_minor": 5
}

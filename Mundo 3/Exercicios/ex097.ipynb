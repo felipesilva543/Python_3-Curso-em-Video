{
 "cells": [
  {
   "cell_type": "markdown",
   "id": "c23fcf4c",
   "metadata": {},
   "source": [
    "Faça um programa que tenha uma função chamada escreva(), que receba um texto qualquer como parâmetro e mostre uma mensagem com tamanho adaptável.                                  \n",
    "\n",
    "Ex: escreva(‘Olá, Mundo!’) Saída:                                                                                               \n",
    "    \n",
    "    ------------- \n",
    "     Olá, Mundo!\n",
    "    -------------"
   ]
  },
  {
   "cell_type": "code",
   "execution_count": 16,
   "id": "187f0259",
   "metadata": {},
   "outputs": [
    {
     "name": "stdout",
     "output_type": "stream",
     "text": [
      "Texto: Texto bem grande, bom mais ou menos\n",
      "---------------------------------------\n",
      "  Texto bem grande, bom mais ou menos\n",
      "---------------------------------------\n"
     ]
    }
   ],
   "source": [
    "def escreva(txt):\n",
    "    tam = len(txt) + 4\n",
    "    print('-' * (tam))\n",
    "    print(f'  {txt}')\n",
    "    print('-' * (tam))\n",
    "    \n",
    "\n",
    "escreva(input('Texto: '))\n"
   ]
  },
  {
   "cell_type": "code",
   "execution_count": null,
   "id": "4cea7885",
   "metadata": {},
   "outputs": [],
   "source": []
  }
 ],
 "metadata": {
  "kernelspec": {
   "display_name": "Python 3 (ipykernel)",
   "language": "python",
   "name": "python3"
  },
  "language_info": {
   "codemirror_mode": {
    "name": "ipython",
    "version": 3
   },
   "file_extension": ".py",
   "mimetype": "text/x-python",
   "name": "python",
   "nbconvert_exporter": "python",
   "pygments_lexer": "ipython3",
   "version": "3.9.7"
  }
 },
 "nbformat": 4,
 "nbformat_minor": 5
}

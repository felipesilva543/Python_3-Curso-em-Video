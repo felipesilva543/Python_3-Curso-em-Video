{
 "cells": [
  {
   "cell_type": "markdown",
   "id": "cb7af535",
   "metadata": {},
   "source": [
    "Aprimore o desafio 93 para que ele funcione com vários jogadores, incluindo um sistema de visualização de detalhes do aproveitamento de cada jogador."
   ]
  },
  {
   "cell_type": "code",
   "execution_count": 20,
   "id": "bdbbcd41",
   "metadata": {},
   "outputs": [
    {
     "name": "stdout",
     "output_type": "stream",
     "text": [
      "Nome do Jogador: Felipe\n",
      "Número de partidas: 3\n",
      "Numero de gols na 1° partida: 2\n",
      "Numero de gols na 2° partida: 1\n",
      "Numero de gols na 3° partida: 0\n",
      "Deseja continuar [S/N]: s\n",
      "Nome do Jogador: Joao\n",
      "Número de partidas: 2\n",
      "Numero de gols na 1° partida: 4\n",
      "Numero de gols na 2° partida: 2\n",
      "Deseja continuar [S/N]: n\n",
      "=-=-=-=-=-=-=-=-=-=-=-=-=-=-=-=-=-=-=-=-\n",
      "Cód.Nome      Gols           Total     \n",
      "----------------------------------------\n",
      "0   Felipe    [2, 1, 0]      3         \n",
      "1   Joao      [4, 2]         6         \n",
      "----------------------------------------\n",
      "Deseja ver dados de qual jogagor? (999 para sair): 0\n",
      "O jogador Felipe fez 3 gols em 3 jogos:\n",
      "  => No jogo 1 ele fez: 2 Gol.\n",
      "  => No jogo 2 ele fez: 1 Gol.\n",
      "  => No jogo 3 ele fez: 0 Gol.\n",
      "Deseja ver dados de qual jogagor? (999 para sair): 1\n",
      "O jogador Joao fez 6 gols em 2 jogos:\n",
      "  => No jogo 1 ele fez: 4 Gol.\n",
      "  => No jogo 2 ele fez: 2 Gol.\n",
      "Deseja ver dados de qual jogagor? (999 para sair): 999\n"
     ]
    }
   ],
   "source": [
    "aproveitamento = dict()\n",
    "time = list()\n",
    "\n",
    "while True:\n",
    "    aproveitamento['nome'] = str(input('Nome do Jogador: '))\n",
    "    aproveitamento['nPartidas'] = int(input('Número de partidas: '))\n",
    "    gols = list()\n",
    "    totgols = 0\n",
    "    for i in range(0, aproveitamento['nPartidas']):\n",
    "        gols.append(int(input(f'Numero de gols na {i+1}° partida: ')))\n",
    "        totgols += gols[i]\n",
    "    aproveitamento['golsPartidas'] = gols[:]\n",
    "    aproveitamento['totGols'] = totgols\n",
    "    time.append(aproveitamento.copy())\n",
    "    \n",
    "    while True:\n",
    "        resp = input('Deseja continuar [S/N]: ').upper()\n",
    "        if resp in 'SN':\n",
    "            break\n",
    "    if resp in 'Nn':\n",
    "        break\n",
    "\n",
    "print('=-' * 20)\n",
    "print(f'{\"Cód.\":<4}{\"Nome\":<10}{\"Gols\":<15}{\"Total\":<10}')\n",
    "print('-'*40)\n",
    "for n, j in enumerate(time):\n",
    "    print(f'{n:<4}{j[\"nome\"]:<10}{str(j[\"golsPartidas\"]):<15}{j[\"totGols\"]:<10}')\n",
    "print('-'*40)\n",
    "\n",
    "while True:\n",
    "    op = int(input('Deseja ver dados de qual jogagor? (999 para sair): '))\n",
    "    if op == 999:\n",
    "        break\n",
    "    c = time[op]\n",
    "    print(f'O jogador {c[\"nome\"]} fez {c[\"totGols\"]} gols em {c[\"nPartidas\"]} jogos:')\n",
    "    for n, j in enumerate(c['golsPartidas']):\n",
    "        print(f'  => No jogo {n+1} ele fez: {j} Gol.')\n",
    "        "
   ]
  },
  {
   "cell_type": "code",
   "execution_count": 7,
   "id": "366df679",
   "metadata": {},
   "outputs": [
    {
     "name": "stdout",
     "output_type": "stream",
     "text": [
      "Cód.      Nome      Gols     Total\n"
     ]
    }
   ],
   "source": [
    "print(f'{\"Cód.\":<4}{\"Nome\":>10}{\"Gols\":>10}{\"Total\":>10}')"
   ]
  },
  {
   "cell_type": "code",
   "execution_count": null,
   "id": "b0acfd7a",
   "metadata": {},
   "outputs": [],
   "source": []
  }
 ],
 "metadata": {
  "kernelspec": {
   "display_name": "Python 3 (ipykernel)",
   "language": "python",
   "name": "python3"
  },
  "language_info": {
   "codemirror_mode": {
    "name": "ipython",
    "version": 3
   },
   "file_extension": ".py",
   "mimetype": "text/x-python",
   "name": "python",
   "nbconvert_exporter": "python",
   "pygments_lexer": "ipython3",
   "version": "3.9.7"
  }
 },
 "nbformat": 4,
 "nbformat_minor": 5
}

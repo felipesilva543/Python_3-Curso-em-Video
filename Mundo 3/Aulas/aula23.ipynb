{
 "cells": [
  {
   "cell_type": "markdown",
   "id": "e708190c",
   "metadata": {},
   "source": [
    "# Tratamento de erro\n",
    "### Nessa aula, vamos ver como o Python permite tratar erros e criar respostas a essas exceções. Aprenda como usar a estrutura try except no Python de uma forma simples."
   ]
  },
  {
   "cell_type": "code",
   "execution_count": 14,
   "id": "3b6e9841",
   "metadata": {},
   "outputs": [
    {
     "name": "stdout",
     "output_type": "stream",
     "text": [
      "Numerador: 2\n",
      "Denominador: 3\n",
      "O resultado é 0.6666666666666666\n",
      "Volte sempre!\n"
     ]
    }
   ],
   "source": [
    "\n",
    "try: # Tente fazer isso\n",
    "    a = int(input('Numerador: '))\n",
    "    b = int(input('Denominador: '))\n",
    "    r = a / b   \n",
    "except: # Caso ocorra um erro, faça isso...\n",
    "    print('Infelizmente tivemos um erro!')\n",
    "else: # Caso não ocorra um erro, faça isso...\n",
    "    print(f'O resultado é {r}')\n",
    "finally: # Sempre vai acontecer\n",
    "    print('Volte sempre!')"
   ]
  },
  {
   "cell_type": "code",
   "execution_count": 15,
   "id": "0cc5df4e",
   "metadata": {},
   "outputs": [
    {
     "name": "stdout",
     "output_type": "stream",
     "text": [
      "Numerador: 3\n",
      "Denominador: 0\n",
      "Infelizmente tivemos um erro!\n",
      "O problema encontrado foi <class 'ZeroDivisionError'>\n",
      "Volte sempre!\n"
     ]
    }
   ],
   "source": [
    "\n",
    "try:\n",
    "    a = int(input('Numerador: '))\n",
    "    b = int(input('Denominador: '))\n",
    "    r = a / b   \n",
    "except Exception as error: # para guardar o tipo de erro e poder usar depois\n",
    "    print(f'Infelizmente tivemos um erro!\\nO problema encontrado foi {error.__class__}')\n",
    "else:\n",
    "    print(f'O resultado é {r}')\n",
    "finally:\n",
    "    print('Volte sempre!')"
   ]
  },
  {
   "cell_type": "code",
   "execution_count": 21,
   "id": "0fac43a7",
   "metadata": {},
   "outputs": [
    {
     "name": "stdout",
     "output_type": "stream",
     "text": [
      "Numerador: 2\n",
      "o usuário não informou os dados.\n",
      "Volte sempre!\n"
     ]
    }
   ],
   "source": [
    "# Varios except\n",
    "try:\n",
    "    a = int(input('Numerador: '))\n",
    "    b = int(input('Denominador: '))\n",
    "    r = a / b   \n",
    "except (TypeError, ValueError):\n",
    "    print('Problema com os tipos de dados informados!')\n",
    "except ZeroDivisionError:\n",
    "    print('Não podemos dividir por zero.')\n",
    "except KeyboardInterrupt:\n",
    "    print('o usuário não informou os dados.')\n",
    "except Exception as error:\n",
    "    print(f'A causa do erro encontrado foi {error.__cause__}')\n",
    "else:\n",
    "    print(f'O resultado é {r}')\n",
    "finally:\n",
    "    print('Volte sempre!')"
   ]
  },
  {
   "cell_type": "code",
   "execution_count": null,
   "id": "26c23052",
   "metadata": {},
   "outputs": [],
   "source": []
  }
 ],
 "metadata": {
  "kernelspec": {
   "display_name": "Python 3 (ipykernel)",
   "language": "python",
   "name": "python3"
  },
  "language_info": {
   "codemirror_mode": {
    "name": "ipython",
    "version": 3
   },
   "file_extension": ".py",
   "mimetype": "text/x-python",
   "name": "python",
   "nbconvert_exporter": "python",
   "pygments_lexer": "ipython3",
   "version": "3.9.7"
  }
 },
 "nbformat": 4,
 "nbformat_minor": 5
}

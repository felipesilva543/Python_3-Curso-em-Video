{
 "cells": [
  {
   "cell_type": "markdown",
   "id": "4f893ead",
   "metadata": {},
   "source": [
    "# Módulos e Pacotes"
   ]
  },
  {
   "cell_type": "code",
   "execution_count": 15,
   "id": "5eac369f",
   "metadata": {},
   "outputs": [
    {
     "name": "stdout",
     "output_type": "stream",
     "text": [
      "5\n"
     ]
    }
   ],
   "source": [
    "def teste(a, b=2):\n",
    "    \"\"\"\n",
    "    a: Primeiro Número\n",
    "    b: Segundo número, se não holver b = 2\n",
    "    return: A soma de A + B\n",
    "    \"\"\"\n",
    "    return a + b\n",
    "\n",
    "print(teste(3))"
   ]
  },
  {
   "cell_type": "code",
   "execution_count": 16,
   "id": "b01fd5ca",
   "metadata": {},
   "outputs": [
    {
     "name": "stdout",
     "output_type": "stream",
     "text": [
      "Help on function teste in module __main__:\n",
      "\n",
      "teste(a, b=2)\n",
      "    a: Primeiro Número\n",
      "    b: Segundo número, se não holver b = 2\n",
      "    return: A soma de A + B\n",
      "\n"
     ]
    }
   ],
   "source": [
    "help(teste)"
   ]
  },
  {
   "cell_type": "code",
   "execution_count": 3,
   "id": "536f8f37",
   "metadata": {},
   "outputs": [
    {
     "name": "stdout",
     "output_type": "stream",
     "text": [
      "Digite um número: 5\n",
      "O fatorial de 5 é 120.\n",
      "O dobro de 5 é 10.\n"
     ]
    }
   ],
   "source": [
    "import uteis\n",
    "num = int(input('Digite um número: '))\n",
    "fat = uteis.fatorial(num)\n",
    "print(f'O fatorial de {num} é {fat}.')\n",
    "print(f'O dobro de {num} é {uteis.dobro(num)}.')"
   ]
  },
  {
   "cell_type": "code",
   "execution_count": null,
   "id": "7dfab068",
   "metadata": {},
   "outputs": [],
   "source": []
  }
 ],
 "metadata": {
  "kernelspec": {
   "display_name": "Python 3 (ipykernel)",
   "language": "python",
   "name": "python3"
  },
  "language_info": {
   "codemirror_mode": {
    "name": "ipython",
    "version": 3
   },
   "file_extension": ".py",
   "mimetype": "text/x-python",
   "name": "python",
   "nbconvert_exporter": "python",
   "pygments_lexer": "ipython3",
   "version": "3.9.7"
  }
 },
 "nbformat": 4,
 "nbformat_minor": 5
}

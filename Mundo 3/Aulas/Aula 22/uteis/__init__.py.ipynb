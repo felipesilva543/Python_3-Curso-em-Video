{
 "cells": [
  {
   "cell_type": "code",
   "execution_count": null,
   "id": "653d848b",
   "metadata": {},
   "outputs": [],
   "source": [
    "def fatorial(n):\n",
    "    \"\"\"\n",
    "    -> Retorna o fatorial de um número\n",
    "    param n: Número para fazer o fatorial\n",
    "    return: Fatorial do numero n\n",
    "    \"\"\"\n",
    "    valor = 1\n",
    "    for c in range(1, n+1):\n",
    "        valor *= c\n",
    "    return valor\n",
    "\n",
    "def dobro(n):\n",
    "    return n*2\n",
    "\n",
    "def triplo(n):\n",
    "    return n*3"
   ]
  }
 ],
 "metadata": {
  "kernelspec": {
   "display_name": "Python 3 (ipykernel)",
   "language": "python",
   "name": "python3"
  },
  "language_info": {
   "codemirror_mode": {
    "name": "ipython",
    "version": 3
   },
   "file_extension": ".py",
   "mimetype": "text/x-python",
   "name": "python",
   "nbconvert_exporter": "python",
   "pygments_lexer": "ipython3",
   "version": "3.9.7"
  }
 },
 "nbformat": 4,
 "nbformat_minor": 5
}

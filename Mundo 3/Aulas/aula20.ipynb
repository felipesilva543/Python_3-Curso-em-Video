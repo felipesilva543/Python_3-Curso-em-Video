{
 "cells": [
  {
   "cell_type": "markdown",
   "id": "d3dae72c",
   "metadata": {},
   "source": [
    "# Funções em Python"
   ]
  },
  {
   "cell_type": "code",
   "execution_count": 22,
   "id": "6dd8f359",
   "metadata": {},
   "outputs": [],
   "source": [
    "def len():\n",
    "    print('-='*15)\n",
    "    "
   ]
  },
  {
   "cell_type": "code",
   "execution_count": 23,
   "id": "db922e91",
   "metadata": {},
   "outputs": [
    {
     "name": "stdout",
     "output_type": "stream",
     "text": [
      "-=-=-=-=-=-=-=-=-=-=-=-=-=-=-=\n"
     ]
    }
   ],
   "source": [
    "len()"
   ]
  },
  {
   "cell_type": "code",
   "execution_count": 24,
   "id": "d9d579bc",
   "metadata": {},
   "outputs": [],
   "source": [
    "def mostrarlinha(texto):\n",
    "    print('-='*15)\n",
    "    print(f\"{str(texto):^30}\")\n",
    "    print('-='*15)"
   ]
  },
  {
   "cell_type": "code",
   "execution_count": 26,
   "id": "03bf6f6e",
   "metadata": {},
   "outputs": [
    {
     "name": "stdout",
     "output_type": "stream",
     "text": [
      "-=-=-=-=-=-=-=-=-=-=-=-=-=-=-=\n",
      "            Felipe            \n",
      "-=-=-=-=-=-=-=-=-=-=-=-=-=-=-=\n"
     ]
    }
   ],
   "source": [
    "mostrarlinha('Felipe')"
   ]
  },
  {
   "cell_type": "code",
   "execution_count": 35,
   "id": "d1cab214",
   "metadata": {},
   "outputs": [
    {
     "name": "stdout",
     "output_type": "stream",
     "text": [
      "<class 'str'>\n",
      "<class 'int'>\n",
      "<class 'float'>\n"
     ]
    }
   ],
   "source": [
    "def teste(msg):\n",
    "    print(type(msg))\n",
    "    \n",
    "\n",
    "teste('Felipe')\n",
    "teste(24)\n",
    "teste(33.4)"
   ]
  },
  {
   "cell_type": "code",
   "execution_count": 37,
   "id": "1627eac3",
   "metadata": {},
   "outputs": [
    {
     "name": "stdout",
     "output_type": "stream",
     "text": [
      "A = 4 e B = 5\n",
      "Soma = 9\n",
      "A = 3 e B = 2\n",
      "Soma = 5\n"
     ]
    }
   ],
   "source": [
    "def soma(a, b):\n",
    "    print(f'A = {a} e B = {b}')\n",
    "    s = a + b\n",
    "    print(f'Soma = {s}')\n",
    "    \n",
    "soma(4, 5)\n",
    "soma(b=2, a=3)"
   ]
  },
  {
   "cell_type": "markdown",
   "id": "5360ff71",
   "metadata": {},
   "source": [
    "# Empacotar Parametros"
   ]
  },
  {
   "cell_type": "code",
   "execution_count": 3,
   "id": "48d74592",
   "metadata": {},
   "outputs": [
    {
     "name": "stdout",
     "output_type": "stream",
     "text": [
      "Racebi os valores (1, 2, 3, 4, 5) e são 5 valores.\n"
     ]
    }
   ],
   "source": [
    "def contador(* núm):\n",
    "    tam = len(núm)\n",
    "    print(f'Racebi os valores {núm} e são {tam} valores.')\n",
    "       \n",
    "    \n",
    "contador(1,2,3,4,5)"
   ]
  },
  {
   "cell_type": "code",
   "execution_count": 8,
   "id": "a66282a2",
   "metadata": {},
   "outputs": [],
   "source": [
    "def soma(* valores):\n",
    "    s = 0\n",
    "    for num in valores:\n",
    "        s += num\n",
    "    print(f'A soma de {valores} é {s}.')"
   ]
  },
  {
   "cell_type": "code",
   "execution_count": 9,
   "id": "d77805a1",
   "metadata": {},
   "outputs": [
    {
     "name": "stdout",
     "output_type": "stream",
     "text": [
      "A soma de (2, 3, 4, 5, 6) é 20.\n"
     ]
    }
   ],
   "source": [
    "soma(2, 3, 4, 5, 6)"
   ]
  },
  {
   "cell_type": "markdown",
   "id": "5c21cd8b",
   "metadata": {},
   "source": []
  },
  {
   "cell_type": "code",
   "execution_count": 7,
   "id": "3f050fa8",
   "metadata": {},
   "outputs": [
    {
     "name": "stdout",
     "output_type": "stream",
     "text": [
      "3\n"
     ]
    }
   ],
   "source": [
    "t = (2, 3, 4)\n",
    "print(len(t))"
   ]
  },
  {
   "cell_type": "code",
   "execution_count": 6,
   "id": "2a816caf",
   "metadata": {},
   "outputs": [
    {
     "name": "stdout",
     "output_type": "stream",
     "text": [
      "[2, 3, 4, 5, 6]\n",
      "[4, 6, 8, 10, 12]\n"
     ]
    }
   ],
   "source": [
    "def dobra(lst):\n",
    "    cont = 0\n",
    "    while cont < len(lst):\n",
    "        lst[cont] *= 2\n",
    "        cont += 1\n",
    "\n",
    "lista = [2, 3, 4, 5, 6]\n",
    "print(lista)\n",
    "dobra(lista)\n",
    "print(lista)"
   ]
  },
  {
   "cell_type": "code",
   "execution_count": null,
   "id": "11b57b1c",
   "metadata": {},
   "outputs": [],
   "source": []
  }
 ],
 "metadata": {
  "kernelspec": {
   "display_name": "Python 3 (ipykernel)",
   "language": "python",
   "name": "python3"
  },
  "language_info": {
   "codemirror_mode": {
    "name": "ipython",
    "version": 3
   },
   "file_extension": ".py",
   "mimetype": "text/x-python",
   "name": "python",
   "nbconvert_exporter": "python",
   "pygments_lexer": "ipython3",
   "version": "3.9.7"
  }
 },
 "nbformat": 4,
 "nbformat_minor": 5
}

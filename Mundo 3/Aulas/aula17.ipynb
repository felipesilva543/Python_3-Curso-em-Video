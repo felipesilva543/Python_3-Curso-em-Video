{
 "cells": [
  {
   "cell_type": "markdown",
   "id": "7e479397",
   "metadata": {},
   "source": [
    "#Listas\n",
    "\n",
    "lista = ['item1', 'item2']"
   ]
  },
  {
   "cell_type": "code",
   "execution_count": 2,
   "id": "9c10b0b0",
   "metadata": {},
   "outputs": [
    {
     "name": "stdout",
     "output_type": "stream",
     "text": [
      "['Burguer', 'Sorvete', 'Pudin', 'Suco']\n"
     ]
    }
   ],
   "source": [
    "lista = ['Burguer', 'Sorvete', 'Pudin', 'Suco']\n",
    "print(lista)"
   ]
  },
  {
   "cell_type": "markdown",
   "id": "a0df6cc4",
   "metadata": {},
   "source": [
    "# Inserindo"
   ]
  },
  {
   "cell_type": "code",
   "execution_count": 3,
   "id": "f86614aa",
   "metadata": {},
   "outputs": [
    {
     "name": "stdout",
     "output_type": "stream",
     "text": [
      "['Burguer', 'Sorvete', 'Pudin', 'Suco', 'Chocolate']\n"
     ]
    }
   ],
   "source": [
    "lista.append('Chocolate')\n",
    "print(lista)"
   ]
  },
  {
   "cell_type": "code",
   "execution_count": 5,
   "id": "f2c373ff",
   "metadata": {},
   "outputs": [
    {
     "name": "stdout",
     "output_type": "stream",
     "text": [
      "['Burguer', 'Sorvete', 'Café', 'Café', 'Pudin', 'Suco', 'Chocolate']\n"
     ]
    }
   ],
   "source": [
    "lista.insert(2, 'Café')\n",
    "print(lista)"
   ]
  },
  {
   "cell_type": "markdown",
   "id": "7dda5146",
   "metadata": {},
   "source": [
    "# Removendo"
   ]
  },
  {
   "cell_type": "code",
   "execution_count": 6,
   "id": "2f3003c3",
   "metadata": {},
   "outputs": [
    {
     "name": "stdout",
     "output_type": "stream",
     "text": [
      "['Burguer', 'Sorvete', 'Café', 'Pudin', 'Suco', 'Chocolate']\n"
     ]
    }
   ],
   "source": [
    "lista.pop(3)  # Remove pela chave\n",
    "print(lista) # Usar o .pop() sem passar um indice ele remove o ultimo elemento"
   ]
  },
  {
   "cell_type": "code",
   "execution_count": 8,
   "id": "10f762e3",
   "metadata": {},
   "outputs": [
    {
     "name": "stdout",
     "output_type": "stream",
     "text": [
      "['Burguer', 'Sorvete', 'Café', 'Suco', 'Chocolate']\n"
     ]
    }
   ],
   "source": [
    "del lista[3] # Remove pela chave\n",
    "print(lista)"
   ]
  },
  {
   "cell_type": "code",
   "execution_count": 9,
   "id": "0059d23d",
   "metadata": {},
   "outputs": [
    {
     "name": "stdout",
     "output_type": "stream",
     "text": [
      "['Burguer', 'Café', 'Suco', 'Chocolate']\n"
     ]
    }
   ],
   "source": [
    "lista.remove('Sorvete') # Remove pelo conteúdo, apenas a primeira ocorrencia\n",
    "print(lista)"
   ]
  },
  {
   "cell_type": "code",
   "execution_count": 10,
   "id": "05a07246",
   "metadata": {},
   "outputs": [
    {
     "name": "stdout",
     "output_type": "stream",
     "text": [
      "Sorvete não está na lista.\n"
     ]
    }
   ],
   "source": [
    "if 'Sorvete' in lista:\n",
    "    lista.remove('Sorvete')\n",
    "else:\n",
    "    print('Sorvete não está na lista.')"
   ]
  },
  {
   "cell_type": "markdown",
   "id": "7db93005",
   "metadata": {},
   "source": [
    "# Declarando lista com range()"
   ]
  },
  {
   "cell_type": "code",
   "execution_count": 11,
   "id": "09120c8c",
   "metadata": {},
   "outputs": [
    {
     "name": "stdout",
     "output_type": "stream",
     "text": [
      "[4, 5, 6, 7, 8, 9, 10]\n"
     ]
    }
   ],
   "source": [
    "l = list(range(4, 11))\n",
    "print(l)"
   ]
  },
  {
   "cell_type": "code",
   "execution_count": 12,
   "id": "94ea1e84",
   "metadata": {},
   "outputs": [
    {
     "name": "stdout",
     "output_type": "stream",
     "text": [
      "[2, 4, 6, 8, 10]\n"
     ]
    }
   ],
   "source": [
    "l2 = list(range(2, 11, 2))\n",
    "print(l2)"
   ]
  },
  {
   "cell_type": "code",
   "execution_count": 13,
   "id": "3698f00a",
   "metadata": {},
   "outputs": [
    {
     "name": "stdout",
     "output_type": "stream",
     "text": [
      "[2, 1, 4, 6, 3, 10, 9, 8]\n",
      "[1, 2, 3, 4, 6, 8, 9, 10]\n"
     ]
    }
   ],
   "source": [
    "l3 = [2, 1, 4, 6, 3, 10, 9, 8]\n",
    "print(l3)\n",
    "l3.sort()\n",
    "print(l3)"
   ]
  },
  {
   "cell_type": "code",
   "execution_count": 14,
   "id": "13919d54",
   "metadata": {},
   "outputs": [
    {
     "name": "stdout",
     "output_type": "stream",
     "text": [
      "[10, 9, 8, 6, 4, 3, 2, 1]\n"
     ]
    }
   ],
   "source": [
    "l3.sort(reverse=True) \n",
    "print(l3)"
   ]
  },
  {
   "cell_type": "code",
   "execution_count": 15,
   "id": "f00f8a86",
   "metadata": {},
   "outputs": [
    {
     "name": "stdout",
     "output_type": "stream",
     "text": [
      "8\n"
     ]
    }
   ],
   "source": [
    "v = len(l3)\n",
    "print(v)"
   ]
  },
  {
   "cell_type": "code",
   "execution_count": 16,
   "id": "80415f7b",
   "metadata": {},
   "outputs": [
    {
     "name": "stdout",
     "output_type": "stream",
     "text": [
      "Na posição 0 encontrei o número 10!\n",
      "Na posição 1 encontrei o número 9!\n",
      "Na posição 2 encontrei o número 8!\n",
      "Na posição 3 encontrei o número 6!\n",
      "Na posição 4 encontrei o número 4!\n",
      "Na posição 5 encontrei o número 3!\n",
      "Na posição 6 encontrei o número 2!\n",
      "Na posição 7 encontrei o número 1!\n",
      "Fim da lista!\n"
     ]
    }
   ],
   "source": [
    "for c, v in enumerate(l3):\n",
    "    print(f'Na posição {c} encontrei o número {v}!')\n",
    "print('Fim da lista!')"
   ]
  },
  {
   "cell_type": "code",
   "execution_count": 17,
   "id": "31b50aec",
   "metadata": {},
   "outputs": [
    {
     "name": "stdout",
     "output_type": "stream",
     "text": [
      "A -> [1, 2, 3, 4, 5]\n",
      "B -> [1, 2, 3, 4, 5]\n"
     ]
    }
   ],
   "source": [
    "a = [1, 2, 3, 4, 5]\n",
    "b = a               # Isso faz uma ligação entre as listas\n",
    "print(f'A -> {a}')\n",
    "print(f'B -> {b}')"
   ]
  },
  {
   "cell_type": "code",
   "execution_count": 18,
   "id": "0a14e771",
   "metadata": {},
   "outputs": [
    {
     "name": "stdout",
     "output_type": "stream",
     "text": [
      "A -> [1, 2, 8, 4, 5]\n",
      "B -> [1, 2, 8, 4, 5]\n"
     ]
    }
   ],
   "source": [
    "b[2] = 8           # O que eu mecher em uma altera na outra\n",
    "print(f'A -> {a}')\n",
    "print(f'B -> {b}')"
   ]
  },
  {
   "cell_type": "code",
   "execution_count": 22,
   "id": "5138c249",
   "metadata": {},
   "outputs": [
    {
     "name": "stdout",
     "output_type": "stream",
     "text": [
      "A -> [1, 2, 8, 4, 5]\n",
      "C -> [1, 2, 8, 4, 5]\n",
      "A -> [1, 2, 8, 4, 5]\n",
      "C2 -> [1, 2, 10, 4, 5]\n"
     ]
    }
   ],
   "source": [
    "c = a[:] # Assim faz uma cópia dos valores de a para c\n",
    "print(f'A -> {a}')\n",
    "print(f'C -> {c}')\n",
    "c[2] = 10   # Alterações na cópia n modifica o original\n",
    "print(f'A -> {a}')\n",
    "print(f'C2 -> {c}')"
   ]
  }
 ],
 "metadata": {
  "kernelspec": {
   "display_name": "Python 3 (ipykernel)",
   "language": "python",
   "name": "python3"
  },
  "language_info": {
   "codemirror_mode": {
    "name": "ipython",
    "version": 3
   },
   "file_extension": ".py",
   "mimetype": "text/x-python",
   "name": "python",
   "nbconvert_exporter": "python",
   "pygments_lexer": "ipython3",
   "version": "3.9.7"
  }
 },
 "nbformat": 4,
 "nbformat_minor": 5
}

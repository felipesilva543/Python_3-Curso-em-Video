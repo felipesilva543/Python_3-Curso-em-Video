{
 "cells": [
  {
   "cell_type": "markdown",
   "id": "7c66b631",
   "metadata": {},
   "source": [
    "# Dicionários"
   ]
  },
  {
   "cell_type": "markdown",
   "id": "54d1ef74",
   "metadata": {},
   "source": [
    "Variáveis compostas\n",
    "- Tuplas ()\n",
    "- Listas []\n",
    "- Dicionarios {}\n"
   ]
  },
  {
   "cell_type": "code",
   "execution_count": 3,
   "id": "197a34f2",
   "metadata": {},
   "outputs": [],
   "source": [
    "# Dicioários são identificados por {}\n",
    "dic = {'nome':'Felipe', 'idade':25}\n",
    "dic2 = dict() "
   ]
  },
  {
   "cell_type": "code",
   "execution_count": 7,
   "id": "1bdf3501",
   "metadata": {},
   "outputs": [
    {
     "name": "stdout",
     "output_type": "stream",
     "text": [
      "Felipe\n",
      "25\n"
     ]
    }
   ],
   "source": [
    "print(dic['nome'])\n",
    "print(dic['idade'])"
   ]
  },
  {
   "cell_type": "code",
   "execution_count": 8,
   "id": "38e08164",
   "metadata": {},
   "outputs": [],
   "source": [
    "dic['sexo'] = 'M'"
   ]
  },
  {
   "cell_type": "code",
   "execution_count": 9,
   "id": "72325e56",
   "metadata": {},
   "outputs": [
    {
     "name": "stdout",
     "output_type": "stream",
     "text": [
      "{'nome': 'Felipe', 'idade': 25, 'sexo': 'M'}\n"
     ]
    }
   ],
   "source": [
    "print(dic)"
   ]
  },
  {
   "cell_type": "code",
   "execution_count": 11,
   "id": "c9e5b9ec",
   "metadata": {},
   "outputs": [
    {
     "name": "stdout",
     "output_type": "stream",
     "text": [
      "M\n"
     ]
    }
   ],
   "source": [
    "print(dic['sexo'])"
   ]
  },
  {
   "cell_type": "code",
   "execution_count": 12,
   "id": "da57e460",
   "metadata": {},
   "outputs": [],
   "source": [
    "del dic['idade']"
   ]
  },
  {
   "cell_type": "code",
   "execution_count": 13,
   "id": "cd31dbdb",
   "metadata": {},
   "outputs": [
    {
     "name": "stdout",
     "output_type": "stream",
     "text": [
      "{'nome': 'Felipe', 'sexo': 'M'}\n"
     ]
    }
   ],
   "source": [
    "print(dic)"
   ]
  },
  {
   "cell_type": "code",
   "execution_count": 14,
   "id": "1836af8f",
   "metadata": {},
   "outputs": [],
   "source": [
    "filmes = {'nome':'Star Wars', 'ano':1977, 'diretor':'George Lucas'}"
   ]
  },
  {
   "cell_type": "code",
   "execution_count": 15,
   "id": "ca6fb9fa",
   "metadata": {},
   "outputs": [
    {
     "name": "stdout",
     "output_type": "stream",
     "text": [
      "dict_values(['Star Wars', 1977, 'George Lucas'])\n"
     ]
    }
   ],
   "source": [
    "print(filmes.values())"
   ]
  },
  {
   "cell_type": "code",
   "execution_count": 17,
   "id": "039a210e",
   "metadata": {},
   "outputs": [
    {
     "name": "stdout",
     "output_type": "stream",
     "text": [
      "dict_keys(['nome', 'ano', 'diretor'])\n"
     ]
    }
   ],
   "source": [
    "print(filmes.keys())"
   ]
  },
  {
   "cell_type": "code",
   "execution_count": 18,
   "id": "e9a63454",
   "metadata": {},
   "outputs": [
    {
     "name": "stdout",
     "output_type": "stream",
     "text": [
      "dict_items([('nome', 'Star Wars'), ('ano', 1977), ('diretor', 'George Lucas')])\n"
     ]
    }
   ],
   "source": [
    "print(filmes.items())"
   ]
  },
  {
   "cell_type": "code",
   "execution_count": 20,
   "id": "da946921",
   "metadata": {},
   "outputs": [
    {
     "name": "stdout",
     "output_type": "stream",
     "text": [
      "O nome é Star Wars\n",
      "O ano é 1977\n",
      "O diretor é George Lucas\n"
     ]
    }
   ],
   "source": [
    "for k, v in filmes.items():\n",
    "    print(f'O {k} é {v}')"
   ]
  },
  {
   "cell_type": "code",
   "execution_count": 21,
   "id": "7846c790",
   "metadata": {},
   "outputs": [],
   "source": [
    "# Podemos colocar dicionários dentro de listas"
   ]
  },
  {
   "cell_type": "code",
   "execution_count": 22,
   "id": "420f87cf",
   "metadata": {},
   "outputs": [
    {
     "name": "stdout",
     "output_type": "stream",
     "text": [
      "[{'nome': 'Star Wars', 'ano': 1997, 'diretor': 'George Lucas'}]\n"
     ]
    }
   ],
   "source": [
    "locadora = list()\n",
    "filme1 = {'nome':'Star Wars', 'ano':1997, 'diretor':'George Lucas'}\n",
    "filme2 = {'nome':'Avangers', 'ano':2012, 'diretor':'Joss'}\n",
    "filme3 = {'nome':'Matrix', 'ano':1999, 'diretor':'Wachowski'}\n",
    "locadora.append(filme1)\n",
    "print(locadora)"
   ]
  },
  {
   "cell_type": "code",
   "execution_count": 23,
   "id": "6280d074",
   "metadata": {},
   "outputs": [
    {
     "name": "stdout",
     "output_type": "stream",
     "text": [
      "[{'nome': 'Star Wars', 'ano': 1997, 'diretor': 'George Lucas'}, {'nome': 'Avangers', 'ano': 2012, 'diretor': 'Joss'}, {'nome': 'Matrix', 'ano': 1999, 'diretor': 'Wachowski'}]\n"
     ]
    }
   ],
   "source": [
    "locadora.append(filme2)\n",
    "locadora.append(filme3)\n",
    "print(locadora)"
   ]
  },
  {
   "cell_type": "code",
   "execution_count": 24,
   "id": "f68c1e7e",
   "metadata": {},
   "outputs": [
    {
     "name": "stdout",
     "output_type": "stream",
     "text": [
      "Star Wars\n",
      "Avangers\n",
      "Matrix\n"
     ]
    }
   ],
   "source": [
    "for n in locadora:\n",
    "    print(n['nome'])"
   ]
  },
  {
   "cell_type": "code",
   "execution_count": 26,
   "id": "f74c199d",
   "metadata": {},
   "outputs": [
    {
     "name": "stdout",
     "output_type": "stream",
     "text": [
      "Matrix\n",
      "Joss\n"
     ]
    }
   ],
   "source": [
    "print(locadora[2]['nome'])\n",
    "print(locadora[1]['diretor'])"
   ]
  },
  {
   "cell_type": "code",
   "execution_count": 29,
   "id": "c0c81d47",
   "metadata": {},
   "outputs": [
    {
     "name": "stdout",
     "output_type": "stream",
     "text": [
      "Unidade Federativa: Minas\n",
      "Sigla: MG\n",
      "Unidade Federativa: Acre\n",
      "Sigla: AC\n",
      "Unidade Federativa: Goiais\n",
      "Sigla: GO\n",
      "[{'uf': 'Minas', 'sigla': 'MG'}, {'uf': 'Acre', 'sigla': 'AC'}, {'uf': 'Goiais', 'sigla': 'GO'}]\n"
     ]
    }
   ],
   "source": [
    "estado = {}\n",
    "brasil = []\n",
    "\n",
    "for c in range(0,3):\n",
    "    estado['uf'] = str(input('Unidade Federativa: '))\n",
    "    estado['sigla'] = str(input('Sigla: '))\n",
    "    brasil.append(estado.copy())\n",
    "print(brasil)"
   ]
  },
  {
   "cell_type": "code",
   "execution_count": 33,
   "id": "1efdbcb8",
   "metadata": {},
   "outputs": [
    {
     "name": "stdout",
     "output_type": "stream",
     "text": [
      "O estádo é: Minas\n",
      "O estádo é: Acre\n",
      "O estádo é: Goiais\n"
     ]
    }
   ],
   "source": [
    "for e in brasil:\n",
    "    print(f'O estádo é: {e[\"uf\"]}')"
   ]
  },
  {
   "cell_type": "code",
   "execution_count": null,
   "id": "d29984c0",
   "metadata": {},
   "outputs": [],
   "source": []
  }
 ],
 "metadata": {
  "kernelspec": {
   "display_name": "Python 3 (ipykernel)",
   "language": "python",
   "name": "python3"
  },
  "language_info": {
   "codemirror_mode": {
    "name": "ipython",
    "version": 3
   },
   "file_extension": ".py",
   "mimetype": "text/x-python",
   "name": "python",
   "nbconvert_exporter": "python",
   "pygments_lexer": "ipython3",
   "version": "3.9.7"
  }
 },
 "nbformat": 4,
 "nbformat_minor": 5
}

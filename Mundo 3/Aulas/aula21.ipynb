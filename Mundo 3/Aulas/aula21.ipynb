{
 "cells": [
  {
   "cell_type": "markdown",
   "id": "d3dfea6b",
   "metadata": {},
   "source": [
    "# Funções 2"
   ]
  },
  {
   "cell_type": "code",
   "execution_count": 5,
   "id": "b2011ee9",
   "metadata": {},
   "outputs": [
    {
     "name": "stdout",
     "output_type": "stream",
     "text": [
      "\n",
      "Welcome to Python 3.9's help utility!\n",
      "\n",
      "If this is your first time using Python, you should definitely check out\n",
      "the tutorial on the Internet at https://docs.python.org/3.9/tutorial/.\n",
      "\n",
      "Enter the name of any module, keyword, or topic to get help on writing\n",
      "Python programs and using Python modules.  To quit this help utility and\n",
      "return to the interpreter, just type \"quit\".\n",
      "\n",
      "To get a list of available modules, keywords, symbols, or topics, type\n",
      "\"modules\", \"keywords\", \"symbols\", or \"topics\".  Each module also comes\n",
      "with a one-line summary of what it does; to list the modules whose name\n",
      "or summary contain a given string such as \"spam\", type \"modules spam\".\n",
      "\n",
      "\n",
      "You are now leaving help and returning to the Python interpreter.\n",
      "If you want to ask for help on a particular object directly from the\n",
      "interpreter, you can type \"help(object)\".  Executing \"help('string')\"\n",
      "has the same effect as typing a particular string at the help> prompt.\n"
     ]
    }
   ],
   "source": [
    "# Interective Help\n",
    "help()"
   ]
  },
  {
   "cell_type": "code",
   "execution_count": 6,
   "id": "5650247f",
   "metadata": {},
   "outputs": [
    {
     "name": "stdout",
     "output_type": "stream",
     "text": [
      "Help on built-in function print in module builtins:\n",
      "\n",
      "print(...)\n",
      "    print(value, ..., sep=' ', end='\\n', file=sys.stdout, flush=False)\n",
      "    \n",
      "    Prints the values to a stream, or to sys.stdout by default.\n",
      "    Optional keyword arguments:\n",
      "    file:  a file-like object (stream); defaults to the current sys.stdout.\n",
      "    sep:   string inserted between values, default a space.\n",
      "    end:   string appended after the last value, default a newline.\n",
      "    flush: whether to forcibly flush the stream.\n",
      "\n"
     ]
    }
   ],
   "source": [
    "help(print)"
   ]
  },
  {
   "cell_type": "code",
   "execution_count": 8,
   "id": "5783ed80",
   "metadata": {},
   "outputs": [
    {
     "name": "stdout",
     "output_type": "stream",
     "text": [
      "print(value, ..., sep=' ', end='\\n', file=sys.stdout, flush=False)\n",
      "\n",
      "Prints the values to a stream, or to sys.stdout by default.\n",
      "Optional keyword arguments:\n",
      "file:  a file-like object (stream); defaults to the current sys.stdout.\n",
      "sep:   string inserted between values, default a space.\n",
      "end:   string appended after the last value, default a newline.\n",
      "flush: whether to forcibly flush the stream.\n"
     ]
    }
   ],
   "source": [
    "print(print.__doc__)"
   ]
  },
  {
   "cell_type": "markdown",
   "id": "48665ead",
   "metadata": {},
   "source": [
    "# DOCSTRINGS"
   ]
  },
  {
   "cell_type": "code",
   "execution_count": 19,
   "id": "50bc8ef5",
   "metadata": {},
   "outputs": [],
   "source": [
    "def contador(i, f, p):\n",
    "    \"\"\"\n",
    "    -> Faz uma contagem e mostra na tela\n",
    "    :param i: Inicio da contagem\n",
    "    :param f: Fim da contagem\n",
    "    :param p: Passos durante a contagem\n",
    "    :return: Sem retorno\n",
    "    \"\"\"\n",
    "    c = i\n",
    "    while c <= f:\n",
    "        print(f'{c} => ', end='')\n",
    "        c += p\n",
    "    print(\"FIM\")\n",
    "    "
   ]
  },
  {
   "cell_type": "code",
   "execution_count": 20,
   "id": "85f448c2",
   "metadata": {},
   "outputs": [
    {
     "name": "stdout",
     "output_type": "stream",
     "text": [
      "0 => 10 => 20 => 30 => 40 => 50 => 60 => 70 => 80 => 90 => 100 => FIM\n"
     ]
    }
   ],
   "source": [
    "contador(0, 100, 10)"
   ]
  },
  {
   "cell_type": "code",
   "execution_count": 21,
   "id": "ff51da8f",
   "metadata": {},
   "outputs": [
    {
     "name": "stdout",
     "output_type": "stream",
     "text": [
      "Help on function contador in module __main__:\n",
      "\n",
      "contador(i, f, p)\n",
      "    -> Faz uma contagem e mostra na tela\n",
      "    :param i: Inicio da contagem\n",
      "    :param f: Fim da contagem\n",
      "    :param p: Passos durante a contagem\n",
      "    :return: Sem retorno\n",
      "\n"
     ]
    }
   ],
   "source": [
    "help(contador)"
   ]
  },
  {
   "cell_type": "code",
   "execution_count": 22,
   "id": "1de8b5f0",
   "metadata": {},
   "outputs": [
    {
     "name": "stdout",
     "output_type": "stream",
     "text": [
      "Help on built-in function sleep in module time:\n",
      "\n",
      "sleep(...)\n",
      "    sleep(seconds)\n",
      "    \n",
      "    Delay execution for a given number of seconds.  The argument may be\n",
      "    a floating point number for subsecond precision.\n",
      "\n"
     ]
    }
   ],
   "source": [
    "from time import sleep\n",
    "help(sleep)"
   ]
  },
  {
   "cell_type": "markdown",
   "id": "333515db",
   "metadata": {},
   "source": [
    "# PARAMETROS OPCIONAIS"
   ]
  },
  {
   "cell_type": "code",
   "execution_count": 23,
   "id": "a1df1878",
   "metadata": {},
   "outputs": [
    {
     "name": "stdout",
     "output_type": "stream",
     "text": [
      "A soma vale 10\n"
     ]
    },
    {
     "ename": "TypeError",
     "evalue": "somar() missing 1 required positional argument: 'c'",
     "output_type": "error",
     "traceback": [
      "\u001b[1;31m---------------------------------------------------------------------------\u001b[0m",
      "\u001b[1;31mTypeError\u001b[0m                                 Traceback (most recent call last)",
      "\u001b[1;32m~\\AppData\\Local\\Temp/ipykernel_248/520416160.py\u001b[0m in \u001b[0;36m<module>\u001b[1;34m\u001b[0m\n\u001b[0;32m      4\u001b[0m \u001b[1;33m\u001b[0m\u001b[0m\n\u001b[0;32m      5\u001b[0m \u001b[0msomar\u001b[0m\u001b[1;33m(\u001b[0m\u001b[1;36m2\u001b[0m\u001b[1;33m,\u001b[0m \u001b[1;36m3\u001b[0m\u001b[1;33m,\u001b[0m \u001b[1;36m5\u001b[0m\u001b[1;33m)\u001b[0m\u001b[1;33m\u001b[0m\u001b[1;33m\u001b[0m\u001b[0m\n\u001b[1;32m----> 6\u001b[1;33m \u001b[0msomar\u001b[0m\u001b[1;33m(\u001b[0m\u001b[1;36m2\u001b[0m\u001b[1;33m,\u001b[0m \u001b[1;36m3\u001b[0m\u001b[1;33m)\u001b[0m\u001b[1;33m\u001b[0m\u001b[1;33m\u001b[0m\u001b[0m\n\u001b[0m",
      "\u001b[1;31mTypeError\u001b[0m: somar() missing 1 required positional argument: 'c'"
     ]
    }
   ],
   "source": [
    "def somar(a, b, c):\n",
    "    s = a + b + c\n",
    "    print(f'A soma vale {s}')\n",
    "    \n",
    "somar(2, 3, 5)\n",
    "somar(2, 3)"
   ]
  },
  {
   "cell_type": "code",
   "execution_count": 24,
   "id": "4607851b",
   "metadata": {},
   "outputs": [
    {
     "name": "stdout",
     "output_type": "stream",
     "text": [
      "A soma vale 10\n",
      "A soma vale 5\n"
     ]
    }
   ],
   "source": [
    "def somar(a, b, c=0):\n",
    "    s = a + b + c\n",
    "    print(f'A soma vale {s}')\n",
    "    \n",
    "somar(2, 3, 5)\n",
    "somar(2, 3)"
   ]
  },
  {
   "cell_type": "code",
   "execution_count": 25,
   "id": "d83a98bc",
   "metadata": {},
   "outputs": [
    {
     "name": "stdout",
     "output_type": "stream",
     "text": [
      "A soma vale 10\n",
      "A soma vale 5\n",
      "A soma vale 0\n"
     ]
    }
   ],
   "source": [
    "def somar(a=0, b=0, c=0):\n",
    "    s = a + b + c\n",
    "    print(f'A soma vale {s}')\n",
    "    \n",
    "somar(2, 3, 5)\n",
    "somar(2, 3)\n",
    "somar()"
   ]
  },
  {
   "cell_type": "markdown",
   "id": "c2270fc5",
   "metadata": {},
   "source": [
    "# ESCOPO DE VARIÁVEIS"
   ]
  },
  {
   "cell_type": "code",
   "execution_count": 26,
   "id": "69b013b2",
   "metadata": {},
   "outputs": [],
   "source": [
    "# VARIÁVEIS GLOBAIS E VARIÁVEIS LOCAIS"
   ]
  },
  {
   "cell_type": "code",
   "execution_count": 31,
   "id": "b3bfc0f8",
   "metadata": {},
   "outputs": [
    {
     "name": "stdout",
     "output_type": "stream",
     "text": [
      "A dentro 3\n",
      "B dentro 4\n",
      "C dentro 5\n",
      "A fora 2\n",
      "B fora 7\n",
      "C fora 6\n"
     ]
    }
   ],
   "source": [
    "def teste():\n",
    "    a = 3     # Local de teste()\n",
    "    b = 4     # Local de teste()\n",
    "    c = 5     # Local de teste()\n",
    "    print(f'A dentro {a}')\n",
    "    print(f'B dentro {b}')\n",
    "    print(f'C dentro {c}')\n",
    "    \n",
    "    \n",
    "teste()\n",
    "a = 2     # Global do programda\n",
    "b = 7     # Global do programda\n",
    "c = 6     # Global do programda\n",
    "print(f'A fora {a}')\n",
    "print(f'B fora {b}')\n",
    "print(f'C fora {c}')"
   ]
  },
  {
   "cell_type": "code",
   "execution_count": 32,
   "id": "bd2181e0",
   "metadata": {},
   "outputs": [
    {
     "name": "stdout",
     "output_type": "stream",
     "text": [
      "A dentro 8\n",
      "A fora 8\n"
     ]
    }
   ],
   "source": [
    "# UTILIZANDO A VARIÁVEL GLOBAL DENTRO DE UMA ESCOPO LOCAL\n",
    "def teste2():\n",
    "    global a\n",
    "    a = 8\n",
    "    print(f'A dentro {a}')\n",
    "    \n",
    "a = 3\n",
    "teste2()\n",
    "print(f'A fora {a}')"
   ]
  },
  {
   "cell_type": "code",
   "execution_count": 28,
   "id": "3d63904c",
   "metadata": {},
   "outputs": [],
   "source": [
    "# IMPORTAÇÕES GLOBAIS E IMPORTAÇÕES LOCAIS"
   ]
  },
  {
   "cell_type": "markdown",
   "id": "ffc1501a",
   "metadata": {},
   "source": [
    "# Retorno de valores"
   ]
  },
  {
   "cell_type": "code",
   "execution_count": 36,
   "id": "6f4ae406",
   "metadata": {},
   "outputs": [
    {
     "name": "stdout",
     "output_type": "stream",
     "text": [
      "A soma vale 9.\n"
     ]
    }
   ],
   "source": [
    "def somar(a=0, b=0, c=0):\n",
    "    s = a + b + c\n",
    "    return s\n",
    "\n",
    "n = somar(2, 3, 4)\n",
    "print(f'A soma vale {n}.')"
   ]
  },
  {
   "cell_type": "code",
   "execution_count": null,
   "id": "b244e0f4",
   "metadata": {},
   "outputs": [],
   "source": []
  }
 ],
 "metadata": {
  "kernelspec": {
   "display_name": "Python 3 (ipykernel)",
   "language": "python",
   "name": "python3"
  },
  "language_info": {
   "codemirror_mode": {
    "name": "ipython",
    "version": 3
   },
   "file_extension": ".py",
   "mimetype": "text/x-python",
   "name": "python",
   "nbconvert_exporter": "python",
   "pygments_lexer": "ipython3",
   "version": "3.9.7"
  }
 },
 "nbformat": 4,
 "nbformat_minor": 5
}

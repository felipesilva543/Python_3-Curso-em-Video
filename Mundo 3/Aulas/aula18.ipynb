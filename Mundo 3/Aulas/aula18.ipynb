{
 "cells": [
  {
   "cell_type": "markdown",
   "id": "17d3852f",
   "metadata": {},
   "source": [
    "# Listas dentro de Listas"
   ]
  },
  {
   "cell_type": "code",
   "execution_count": 1,
   "id": "9ca97725",
   "metadata": {},
   "outputs": [
    {
     "name": "stdout",
     "output_type": "stream",
     "text": [
      "[['Felipe', 25]]\n"
     ]
    }
   ],
   "source": [
    "dados = list()\n",
    "pessoas = list()\n",
    "\n",
    "dados.append('Felipe')\n",
    "dados.append(25)\n",
    "pessoas.append(dados[:])\n",
    "\n",
    "print(pessoas)"
   ]
  },
  {
   "cell_type": "code",
   "execution_count": 2,
   "id": "554b0f7c",
   "metadata": {},
   "outputs": [],
   "source": [
    "pes = [['Maria', 24], ['Joao', 19], ['Brena', 30]]"
   ]
  },
  {
   "cell_type": "code",
   "execution_count": 3,
   "id": "d26e1f0f",
   "metadata": {},
   "outputs": [
    {
     "name": "stdout",
     "output_type": "stream",
     "text": [
      "[['Maria', 24], ['Joao', 19], ['Brena', 30]]\n"
     ]
    }
   ],
   "source": [
    "print(pes)"
   ]
  },
  {
   "cell_type": "code",
   "execution_count": 8,
   "id": "20d4b137",
   "metadata": {},
   "outputs": [
    {
     "name": "stdout",
     "output_type": "stream",
     "text": [
      "['Maria', 24]\n",
      "19\n",
      "Brena\n"
     ]
    }
   ],
   "source": [
    "print(pes[0])\n",
    "print(pes[1][1])\n",
    "print(pes[2][0])"
   ]
  },
  {
   "cell_type": "code",
   "execution_count": 9,
   "id": "dd7f8cd7",
   "metadata": {},
   "outputs": [
    {
     "name": "stdout",
     "output_type": "stream",
     "text": [
      "['Maria', 24]\n",
      "['Joao', 19]\n",
      "['Brena', 30]\n"
     ]
    }
   ],
   "source": [
    "for p in pes:\n",
    "    print(p)"
   ]
  },
  {
   "cell_type": "code",
   "execution_count": 10,
   "id": "2a5ee142",
   "metadata": {},
   "outputs": [
    {
     "name": "stdout",
     "output_type": "stream",
     "text": [
      "Maria\n",
      "Joao\n",
      "Brena\n",
      "24\n",
      "19\n",
      "30\n"
     ]
    }
   ],
   "source": [
    "for p in pes:\n",
    "    print(p[0])\n",
    "\n",
    "for p in pes:\n",
    "    print(p[1])"
   ]
  },
  {
   "cell_type": "code",
   "execution_count": 14,
   "id": "c4253be9",
   "metadata": {},
   "outputs": [
    {
     "name": "stdout",
     "output_type": "stream",
     "text": [
      "Nome: Maria, idade: 24 anos.\n",
      "Nome: Joao, idade: 19 anos.\n",
      "Nome: Brena, idade: 30 anos.\n"
     ]
    }
   ],
   "source": [
    "for p in pes:\n",
    "    print(f'Nome: {p[0]}, idade: {p[1]} anos.')"
   ]
  },
  {
   "cell_type": "code",
   "execution_count": 15,
   "id": "61a767ba",
   "metadata": {},
   "outputs": [
    {
     "name": "stdout",
     "output_type": "stream",
     "text": [
      "Nome: Felipe\n",
      "Idade: 25\n",
      "Nome: Iago\n",
      "Idade: 24\n",
      "Nome: Iury\n",
      "Idade: 24\n",
      "[['Felipe', 25], ['Iago', 24], ['Iury', 24]]\n"
     ]
    }
   ],
   "source": [
    "galera = []\n",
    "dado = []\n",
    "for i in range(0, 3):\n",
    "    dado.append(str(input('Nome: ')))\n",
    "    dado.append(int(input('Idade: ')))\n",
    "    galera.append(dado[:])\n",
    "    dado.clear()\n",
    "    \n",
    "print(galera)"
   ]
  },
  {
   "cell_type": "code",
   "execution_count": null,
   "id": "e8b1834a",
   "metadata": {},
   "outputs": [],
   "source": []
  }
 ],
 "metadata": {
  "kernelspec": {
   "display_name": "Python 3 (ipykernel)",
   "language": "python",
   "name": "python3"
  },
  "language_info": {
   "codemirror_mode": {
    "name": "ipython",
    "version": 3
   },
   "file_extension": ".py",
   "mimetype": "text/x-python",
   "name": "python",
   "nbconvert_exporter": "python",
   "pygments_lexer": "ipython3",
   "version": "3.9.7"
  }
 },
 "nbformat": 4,
 "nbformat_minor": 5
}

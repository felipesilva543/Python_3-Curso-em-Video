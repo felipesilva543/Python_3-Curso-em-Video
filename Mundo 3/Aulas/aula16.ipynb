{
 "cells": [
  {
   "cell_type": "markdown",
   "id": "03652d70",
   "metadata": {},
   "source": [
    "# Variáveis compostas (tuplas)\n",
    "# AS TUPLAS SÃO IMUTAVEIS\n",
    "\n",
    "TUPLAS são feitas com ()\n",
    "\n",
    "LISTAS são feitas com []\n",
    "\n",
    "DICIONARIOS são feitos com {}"
   ]
  },
  {
   "cell_type": "code",
   "execution_count": 19,
   "id": "904f9f8b",
   "metadata": {},
   "outputs": [
    {
     "name": "stdout",
     "output_type": "stream",
     "text": [
      "1 pizza\n",
      "2  ('burger', 'suco')\n",
      "3  ('burger', 'suco', 'pizza')\n",
      "4  ('suco', 'pizza', 'pudin')\n",
      "5  pudin\n",
      "6  burger burger\n"
     ]
    }
   ],
   "source": [
    "# Variáveu simples\n",
    "lanche = 'burger'\n",
    "\n",
    "# Variaveis compostas (tuplas)\n",
    "\n",
    "lanches = ('burger', 'suco', 'pizza', 'pudin')\n",
    "\n",
    "print('1 ' + lanches[2])\n",
    "\n",
    "print('2 ', lanches[0:2])\n",
    "\n",
    "print('3 ', lanches[:3])\n",
    "\n",
    "print('4 ', lanches[1:])\n",
    "\n",
    "print('5 ', lanches[-1])\n",
    "\n",
    "print('6 ', lanches[0], lanches[-4])"
   ]
  },
  {
   "cell_type": "code",
   "execution_count": 10,
   "id": "59f6db63",
   "metadata": {},
   "outputs": [
    {
     "name": "stdout",
     "output_type": "stream",
     "text": [
      "burger\n",
      "suco\n",
      "pizza\n",
      "pudin\n"
     ]
    }
   ],
   "source": [
    "for c in lanches:\n",
    "    print(c)"
   ]
  },
  {
   "cell_type": "code",
   "execution_count": 21,
   "id": "28959cdf",
   "metadata": {},
   "outputs": [
    {
     "ename": "TypeError",
     "evalue": "'tuple' object does not support item assignment",
     "output_type": "error",
     "traceback": [
      "\u001b[1;31m---------------------------------------------------------------------------\u001b[0m",
      "\u001b[1;31mTypeError\u001b[0m                                 Traceback (most recent call last)",
      "\u001b[1;32m~\\AppData\\Local\\Temp/ipykernel_5764/1190544950.py\u001b[0m in \u001b[0;36m<module>\u001b[1;34m\u001b[0m\n\u001b[1;32m----> 1\u001b[1;33m \u001b[0mlanches\u001b[0m\u001b[1;33m[\u001b[0m\u001b[1;36m0\u001b[0m\u001b[1;33m]\u001b[0m \u001b[1;33m=\u001b[0m \u001b[1;34m'Batata frita'\u001b[0m \u001b[1;31m# não funcina pois tuplas são imutaveis\u001b[0m\u001b[1;33m\u001b[0m\u001b[1;33m\u001b[0m\u001b[0m\n\u001b[0m",
      "\u001b[1;31mTypeError\u001b[0m: 'tuple' object does not support item assignment"
     ]
    }
   ],
   "source": [
    "lanches[0] = 'Batata frita' # não funcina pois tuplas são imutaveis"
   ]
  },
  {
   "cell_type": "code",
   "execution_count": 22,
   "id": "210d3b90",
   "metadata": {},
   "outputs": [
    {
     "name": "stdout",
     "output_type": "stream",
     "text": [
      "-> burger\n",
      "-> suco\n",
      "-> pizza\n",
      "-> pudin\n"
     ]
    }
   ],
   "source": [
    "for cont in range(0, len(lanches)):\n",
    "    print(f'-> {lanches[cont]}')"
   ]
  },
  {
   "cell_type": "code",
   "execution_count": 23,
   "id": "78bb7e19",
   "metadata": {},
   "outputs": [
    {
     "name": "stdout",
     "output_type": "stream",
     "text": [
      "burger\n",
      "suco\n",
      "pizza\n",
      "pudin\n"
     ]
    }
   ],
   "source": [
    "for comida in lanches:\n",
    "    print(comida)"
   ]
  },
  {
   "cell_type": "code",
   "execution_count": 24,
   "id": "9fecf451",
   "metadata": {},
   "outputs": [
    {
     "name": "stdout",
     "output_type": "stream",
     "text": [
      "-> burger na posição 0\n",
      "-> suco na posição 1\n",
      "-> pizza na posição 2\n",
      "-> pudin na posição 3\n"
     ]
    }
   ],
   "source": [
    "for cont in range(0, len(lanches)):\n",
    "    print(f'-> {lanches[cont]} na posição {cont}')"
   ]
  },
  {
   "cell_type": "code",
   "execution_count": 25,
   "id": "2732c905",
   "metadata": {},
   "outputs": [
    {
     "name": "stdout",
     "output_type": "stream",
     "text": [
      "burger na posição 0\n",
      "suco na posição 1\n",
      "pizza na posição 2\n",
      "pudin na posição 3\n"
     ]
    }
   ],
   "source": [
    "for pos, comida in enumerate(lanches):\n",
    "    print(f'{comida} na posição {pos}')"
   ]
  },
  {
   "cell_type": "code",
   "execution_count": 26,
   "id": "f990dfde",
   "metadata": {},
   "outputs": [
    {
     "name": "stdout",
     "output_type": "stream",
     "text": [
      "['burger', 'pizza', 'pudin', 'suco']\n"
     ]
    }
   ],
   "source": [
    "print(sorted(lanches)) # printa de forma ordenada e transformou em lista\n",
    "\n",
    "# sorted() não muda a tupla, só organiza"
   ]
  },
  {
   "cell_type": "code",
   "execution_count": 41,
   "id": "d34b29ec",
   "metadata": {},
   "outputs": [
    {
     "name": "stdout",
     "output_type": "stream",
     "text": [
      "(5, 2, 3, 4)\n",
      "(4, 5, 6)\n",
      "(5, 2, 3, 4, 4, 5, 6)\n"
     ]
    }
   ],
   "source": [
    "# Juntando tuplas\n",
    "\n",
    "a = (5, 2, 3, 4)\n",
    "print(a)\n",
    "b = (4, 5, 6)\n",
    "print(b)\n",
    "c = a + b # a ordem influen\n",
    "print(c)"
   ]
  },
  {
   "cell_type": "code",
   "execution_count": 42,
   "id": "fcc735ca",
   "metadata": {},
   "outputs": [
    {
     "name": "stdout",
     "output_type": "stream",
     "text": [
      "2\n"
     ]
    }
   ],
   "source": [
    "print(c.count(4)) # contando quantas vezes o '4' aparece na tupla"
   ]
  },
  {
   "cell_type": "code",
   "execution_count": 44,
   "id": "2dda7bf2",
   "metadata": {},
   "outputs": [
    {
     "name": "stdout",
     "output_type": "stream",
     "text": [
      "(5, 2, 3, 4, 4, 5, 6)\n",
      "2\n",
      "0\n",
      "5\n"
     ]
    }
   ],
   "source": [
    "print(c)\n",
    "print(c.index(3)) # mostra em que posição está a primeira ocorrencia de '3'\n",
    "print(c.index(5)) # mostra em que posição está a primeira ocorrencia de '4'\n",
    "print(c.index(5, 1)) # mostra em que posição está o '4' começando da posição [1]  (deslocamento)"
   ]
  },
  {
   "cell_type": "code",
   "execution_count": 48,
   "id": "4e60c4f9",
   "metadata": {},
   "outputs": [
    {
     "name": "stdout",
     "output_type": "stream",
     "text": [
      "('Felipe', 25, 'M', 93.3)\n"
     ]
    }
   ],
   "source": [
    "# As tuplas aceitam vários tipos \n",
    "pessoa = ('Felipe', 25, 'M', 93.3)\n",
    "print(pessoa)"
   ]
  },
  {
   "cell_type": "code",
   "execution_count": 50,
   "id": "193341ef",
   "metadata": {},
   "outputs": [],
   "source": [
    "del(pessoa) # apaga a tupla (unico modo de modificar uma tupla)"
   ]
  },
  {
   "cell_type": "code",
   "execution_count": 51,
   "id": "35c0a40f",
   "metadata": {},
   "outputs": [
    {
     "ename": "NameError",
     "evalue": "name 'pessoa' is not defined",
     "output_type": "error",
     "traceback": [
      "\u001b[1;31m---------------------------------------------------------------------------\u001b[0m",
      "\u001b[1;31mNameError\u001b[0m                                 Traceback (most recent call last)",
      "\u001b[1;32m~\\AppData\\Local\\Temp/ipykernel_5764/2268705817.py\u001b[0m in \u001b[0;36m<module>\u001b[1;34m\u001b[0m\n\u001b[1;32m----> 1\u001b[1;33m \u001b[0mprint\u001b[0m\u001b[1;33m(\u001b[0m\u001b[0mpessoa\u001b[0m\u001b[1;33m)\u001b[0m\u001b[1;33m\u001b[0m\u001b[1;33m\u001b[0m\u001b[0m\n\u001b[0m",
      "\u001b[1;31mNameError\u001b[0m: name 'pessoa' is not defined"
     ]
    }
   ],
   "source": [
    "print(pessoa)"
   ]
  },
  {
   "cell_type": "code",
   "execution_count": null,
   "id": "e9862f42",
   "metadata": {},
   "outputs": [],
   "source": []
  }
 ],
 "metadata": {
  "kernelspec": {
   "display_name": "Python 3 (ipykernel)",
   "language": "python",
   "name": "python3"
  },
  "language_info": {
   "codemirror_mode": {
    "name": "ipython",
    "version": 3
   },
   "file_extension": ".py",
   "mimetype": "text/x-python",
   "name": "python",
   "nbconvert_exporter": "python",
   "pygments_lexer": "ipython3",
   "version": "3.9.7"
  }
 },
 "nbformat": 4,
 "nbformat_minor": 5
}

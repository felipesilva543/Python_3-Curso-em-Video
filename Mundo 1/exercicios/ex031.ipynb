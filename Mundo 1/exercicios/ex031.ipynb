{
 "cells": [
  {
   "cell_type": "markdown",
   "id": "9dfda044",
   "metadata": {},
   "source": [
    "Desenvolva um programa que pergunte a distância de uma viagem em Km. Calcule o preço da passagem, cobrando R$0,50 por Km para viagens de até 200Km e R$0,45 parta viagens mais longas."
   ]
  },
  {
   "cell_type": "code",
   "execution_count": 10,
   "id": "872c38a7",
   "metadata": {},
   "outputs": [
    {
     "name": "stdout",
     "output_type": "stream",
     "text": [
      "Qual a distância em Km da viagem? 220\n",
      "O valor da passagem para uma viagem de 220km será de: R$ 99.0\n"
     ]
    }
   ],
   "source": [
    "from time import sleep\n",
    "km = int(input('Qual a distância em Km da viagem? '))\n",
    "\n",
    "print('O valor da passagem para uma viagem de {}km será de: '.format(km), end='')\n",
    "print('R$ {}'.format(0.5*km) if km <= 200 else 'R$ {}'.format(0.45*km))"
   ]
  },
  {
   "cell_type": "code",
   "execution_count": null,
   "id": "4ff5f70c",
   "metadata": {},
   "outputs": [],
   "source": []
  }
 ],
 "metadata": {
  "kernelspec": {
   "display_name": "Python 3 (ipykernel)",
   "language": "python",
   "name": "python3"
  },
  "language_info": {
   "codemirror_mode": {
    "name": "ipython",
    "version": 3
   },
   "file_extension": ".py",
   "mimetype": "text/x-python",
   "name": "python",
   "nbconvert_exporter": "python",
   "pygments_lexer": "ipython3",
   "version": "3.9.7"
  }
 },
 "nbformat": 4,
 "nbformat_minor": 5
}

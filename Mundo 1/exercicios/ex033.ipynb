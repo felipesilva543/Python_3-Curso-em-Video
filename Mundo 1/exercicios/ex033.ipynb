{
 "cells": [
  {
   "cell_type": "markdown",
   "id": "134e326b",
   "metadata": {},
   "source": [
    "Faça um programa que leia três números e mostre qual é o maior e qual é o menor."
   ]
  },
  {
   "cell_type": "code",
   "execution_count": 12,
   "id": "46d69922",
   "metadata": {},
   "outputs": [
    {
     "name": "stdout",
     "output_type": "stream",
     "text": [
      "Número 1: 2\n",
      "Número 2: 9\n",
      "Número 3: 1\n",
      "O número maior é o 9.0\n",
      "O número menor é o 1.0\n"
     ]
    }
   ],
   "source": [
    "n1 = float(input('Número 1: '))\n",
    "n2 = float(input('Número 2: '))\n",
    "n3 = float(input('Número 3: '))\n",
    "\n",
    "maior = 0\n",
    "menor = 0 \n",
    "if n1 >= n2:\n",
    "    maior = n1\n",
    "    menor = n2\n",
    "else:\n",
    "    maior = n2\n",
    "    menor = n1\n",
    "if maior <= n3:\n",
    "    maior = n3\n",
    "elif menor >= n3:\n",
    "    menor = n3\n",
    "    \n",
    "print('O número maior é o {}'.format(maior))\n",
    "print('O número menor é o {}'.format(menor))"
   ]
  },
  {
   "cell_type": "code",
   "execution_count": null,
   "id": "4555d55b",
   "metadata": {},
   "outputs": [],
   "source": []
  }
 ],
 "metadata": {
  "kernelspec": {
   "display_name": "Python 3 (ipykernel)",
   "language": "python",
   "name": "python3"
  },
  "language_info": {
   "codemirror_mode": {
    "name": "ipython",
    "version": 3
   },
   "file_extension": ".py",
   "mimetype": "text/x-python",
   "name": "python",
   "nbconvert_exporter": "python",
   "pygments_lexer": "ipython3",
   "version": "3.9.7"
  }
 },
 "nbformat": 4,
 "nbformat_minor": 5
}

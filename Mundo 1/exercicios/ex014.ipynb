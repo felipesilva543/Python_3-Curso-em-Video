{
 "cells": [
  {
   "cell_type": "markdown",
   "id": "bcde20cc",
   "metadata": {},
   "source": [
    "Escreva um programa que converta uma temperatura digitando em graus Celsius e converta para graus Fahrenheit."
   ]
  },
  {
   "cell_type": "code",
   "execution_count": 12,
   "id": "f62c6a06",
   "metadata": {},
   "outputs": [
    {
     "name": "stdout",
     "output_type": "stream",
     "text": [
      "Qual a temperatura em °C: 10\n",
      "10.0°C equivale a 50.0°F\n",
      "10.0°C equivale a 283.15°K\n"
     ]
    }
   ],
   "source": [
    "cel = float(input('Qual a temperatura em °C: '))\n",
    "print('{}°C equivale a {}°F'.format(cel, ((cel*9)/5)+32))\n",
    "\n",
    "print('{}°C equivale a {}°K'.format(cel, (cel + 273.15)))"
   ]
  },
  {
   "cell_type": "code",
   "execution_count": null,
   "id": "9f1857c8",
   "metadata": {},
   "outputs": [],
   "source": []
  }
 ],
 "metadata": {
  "kernelspec": {
   "display_name": "Python 3 (ipykernel)",
   "language": "python",
   "name": "python3"
  },
  "language_info": {
   "codemirror_mode": {
    "name": "ipython",
    "version": 3
   },
   "file_extension": ".py",
   "mimetype": "text/x-python",
   "name": "python",
   "nbconvert_exporter": "python",
   "pygments_lexer": "ipython3",
   "version": "3.9.7"
  }
 },
 "nbformat": 4,
 "nbformat_minor": 5
}

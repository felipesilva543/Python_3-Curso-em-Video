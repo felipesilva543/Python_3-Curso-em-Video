{
 "cells": [
  {
   "cell_type": "markdown",
   "id": "a69fcdf4",
   "metadata": {},
   "source": [
    "Média aritimética"
   ]
  },
  {
   "cell_type": "code",
   "execution_count": 2,
   "id": "a8336b3a",
   "metadata": {},
   "outputs": [
    {
     "name": "stdout",
     "output_type": "stream",
     "text": [
      "Nota 1: 5.5\n",
      "Nota 2: 2\n",
      "A média aritimética é: 3.75\n"
     ]
    }
   ],
   "source": [
    "n1 = float(input('Nota 1: '))\n",
    "n2 = float(input('Nota 2: '))\n",
    "\n",
    "print('A média aritimética é: {:.2f}'.format((n1+n2)/2))"
   ]
  },
  {
   "cell_type": "code",
   "execution_count": null,
   "id": "25c088c3",
   "metadata": {},
   "outputs": [],
   "source": []
  }
 ],
 "metadata": {
  "kernelspec": {
   "display_name": "Python 3 (ipykernel)",
   "language": "python",
   "name": "python3"
  },
  "language_info": {
   "codemirror_mode": {
    "name": "ipython",
    "version": 3
   },
   "file_extension": ".py",
   "mimetype": "text/x-python",
   "name": "python",
   "nbconvert_exporter": "python",
   "pygments_lexer": "ipython3",
   "version": "3.9.7"
  }
 },
 "nbformat": 4,
 "nbformat_minor": 5
}

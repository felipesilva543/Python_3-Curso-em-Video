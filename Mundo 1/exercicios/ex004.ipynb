{
 "cells": [
  {
   "cell_type": "markdown",
   "id": "19a3d78a",
   "metadata": {},
   "source": [
    "Faça um programa que leia algo pelo teclado e mostre na tela o seu tipo primitivo e todas as informações possíveis sobre ele."
   ]
  },
  {
   "cell_type": "code",
   "execution_count": 1,
   "id": "b2912007",
   "metadata": {},
   "outputs": [
    {
     "name": "stdout",
     "output_type": "stream",
     "text": [
      "Digite algo: Felipe Silva\n",
      "O tipo primitivo é: <class 'str'>\n",
      "Só tem espaços? False\n",
      "É um número? False\n",
      "É alfabético?  False\n",
      "É alfanumérico?  False\n",
      "É maiuscula?  False\n",
      "É minuscula?  False\n",
      "É capitalizada?  True\n"
     ]
    }
   ],
   "source": [
    "n = input('Digite algo: ')\n",
    "print('O tipo primitivo é: {}'.format(type(n)))\n",
    "print('Só tem espaços? {}'.format(n.isspace()))\n",
    "print('É um número? {}'.format(n.isnumeric()))\n",
    "print('É alfabético? ' , n.isalpha())\n",
    "print('É alfanumérico? ' , n.isalnum())\n",
    "print('É maiuscula? ' , n.isupper())\n",
    "print('É minuscula? ' , n.islower())\n",
    "print('É capitalizada? ' , n.istitle())\n"
   ]
  },
  {
   "cell_type": "code",
   "execution_count": null,
   "id": "723eb0b7",
   "metadata": {},
   "outputs": [],
   "source": []
  }
 ],
 "metadata": {
  "kernelspec": {
   "display_name": "Python 3 (ipykernel)",
   "language": "python",
   "name": "python3"
  },
  "language_info": {
   "codemirror_mode": {
    "name": "ipython",
    "version": 3
   },
   "file_extension": ".py",
   "mimetype": "text/x-python",
   "name": "python",
   "nbconvert_exporter": "python",
   "pygments_lexer": "ipython3",
   "version": "3.9.7"
  }
 },
 "nbformat": 4,
 "nbformat_minor": 5
}

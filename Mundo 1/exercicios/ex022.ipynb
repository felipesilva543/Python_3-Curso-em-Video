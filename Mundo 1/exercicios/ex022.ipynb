{
 "cells": [
  {
   "cell_type": "markdown",
   "id": "551271b4",
   "metadata": {},
   "source": [
    "Crie um programa que leia o nome completo de uma pessoa e mostre:\n",
    "\n",
    "– O nome com todas as letras maiúsculas e minúsculas.\n",
    "\n",
    "– Quantas letras ao todo (sem considerar espaços).\n",
    "\n",
    "– Quantas letras tem o primeiro nome."
   ]
  },
  {
   "cell_type": "code",
   "execution_count": 4,
   "id": "95234f3d",
   "metadata": {},
   "outputs": [
    {
     "name": "stdout",
     "output_type": "stream",
     "text": [
      "Digite seu nome completo: Felipe Silva\n",
      "FELIPE SILVA\n",
      "felipe silva\n",
      "Tam: 11\n",
      "6\n",
      "Tam 1: 6\n"
     ]
    }
   ],
   "source": [
    "nome = str(input('Digite seu nome completo: ')).strip()\n",
    "print(nome.upper())\n",
    "print(nome.lower())\n",
    "\n",
    "print('Tam: {}'.format(len(nome)-nome.count(' ')))\n",
    "\n",
    "\n",
    "dividido = nome.split()\n",
    "print(len(dividido[0]))\n",
    "print('Tam 1: {}'.format(nome.find(' ')))\n"
   ]
  },
  {
   "cell_type": "code",
   "execution_count": null,
   "id": "5a7aee6e",
   "metadata": {},
   "outputs": [],
   "source": []
  }
 ],
 "metadata": {
  "kernelspec": {
   "display_name": "Python 3 (ipykernel)",
   "language": "python",
   "name": "python3"
  },
  "language_info": {
   "codemirror_mode": {
    "name": "ipython",
    "version": 3
   },
   "file_extension": ".py",
   "mimetype": "text/x-python",
   "name": "python",
   "nbconvert_exporter": "python",
   "pygments_lexer": "ipython3",
   "version": "3.9.7"
  }
 },
 "nbformat": 4,
 "nbformat_minor": 5
}

{
 "cells": [
  {
   "cell_type": "markdown",
   "id": "b7c74ee3",
   "metadata": {},
   "source": [
    "Faça um programa que leia um número de 0 a 9999 e mostre na tela cada um dos dígitos separados."
   ]
  },
  {
   "cell_type": "code",
   "execution_count": 8,
   "id": "fb71bc14",
   "metadata": {},
   "outputs": [
    {
     "name": "stdout",
     "output_type": "stream",
     "text": [
      "Digite um numero: 3124\n",
      "Milhar: 3\n",
      "Centena: 1\n",
      "Dezena: 2\n",
      "Unidade: 4\n"
     ]
    }
   ],
   "source": [
    "n = int(input('Digite um numero: '))\n",
    "\n",
    "print('Milhar: {}'.format(n // 1000 % 10))\n",
    "print('Centena: {}'.format(n // 100 % 10))\n",
    "print('Dezena: {}'.format(n // 10 % 10))\n",
    "print('Unidade: {}'.format(n // 1 % 10))"
   ]
  },
  {
   "cell_type": "code",
   "execution_count": null,
   "id": "3b2376bb",
   "metadata": {},
   "outputs": [],
   "source": []
  }
 ],
 "metadata": {
  "kernelspec": {
   "display_name": "Python 3 (ipykernel)",
   "language": "python",
   "name": "python3"
  },
  "language_info": {
   "codemirror_mode": {
    "name": "ipython",
    "version": 3
   },
   "file_extension": ".py",
   "mimetype": "text/x-python",
   "name": "python",
   "nbconvert_exporter": "python",
   "pygments_lexer": "ipython3",
   "version": "3.9.7"
  }
 },
 "nbformat": 4,
 "nbformat_minor": 5
}

{
 "cells": [
  {
   "cell_type": "markdown",
   "id": "7db92264",
   "metadata": {},
   "source": [
    "Faça um programa que leia o nome de uma pessoa e mostre uma mensagem de boas-vindas."
   ]
  },
  {
   "cell_type": "code",
   "execution_count": 3,
   "id": "28a2abe9",
   "metadata": {},
   "outputs": [
    {
     "name": "stdout",
     "output_type": "stream",
     "text": [
      "Digite seu nome: Felipe\n",
      "Ola  Felipe , muito bem vindo ao mundo do Python!\n"
     ]
    }
   ],
   "source": [
    "nome = input('Digite seu nome: ')\n",
    "print('Ola ' , nome , ', muito bem vindo ao mundo do Python!')\n"
   ]
  },
  {
   "cell_type": "code",
   "execution_count": 5,
   "id": "6f587cc5",
   "metadata": {},
   "outputs": [
    {
     "name": "stdout",
     "output_type": "stream",
     "text": [
      "Digite seu nome: João\n",
      "Ola João, muito bem vindo ao mundo do Python!\n"
     ]
    }
   ],
   "source": [
    "nome = input('Digite seu nome: ')\n",
    "print('Ola {}, muito bem vindo ao mundo do Python!'.format(nome))\n"
   ]
  },
  {
   "cell_type": "code",
   "execution_count": null,
   "id": "c6bd978b",
   "metadata": {},
   "outputs": [],
   "source": []
  }
 ],
 "metadata": {
  "kernelspec": {
   "display_name": "Python 3 (ipykernel)",
   "language": "python",
   "name": "python3"
  },
  "language_info": {
   "codemirror_mode": {
    "name": "ipython",
    "version": 3
   },
   "file_extension": ".py",
   "mimetype": "text/x-python",
   "name": "python",
   "nbconvert_exporter": "python",
   "pygments_lexer": "ipython3",
   "version": "3.9.7"
  }
 },
 "nbformat": 4,
 "nbformat_minor": 5
}

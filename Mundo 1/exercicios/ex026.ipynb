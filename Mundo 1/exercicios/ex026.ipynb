{
 "cells": [
  {
   "cell_type": "markdown",
   "id": "b9d29c17",
   "metadata": {},
   "source": [
    "Faça um programa que leia uma frase pelo teclado e mostre quantas vezes aparece a letra “A”, em que posição ela aparece a primeira vez e em que posição ela aparece a última vez."
   ]
  },
  {
   "cell_type": "code",
   "execution_count": 9,
   "id": "f8853cf4",
   "metadata": {},
   "outputs": [
    {
     "name": "stdout",
     "output_type": "stream",
     "text": [
      "Frase: Arara Azul\n",
      "Quantos a: 4\n",
      "Primeiro a: 1\n",
      "Ultimo a: 7\n"
     ]
    }
   ],
   "source": [
    "frase = str(input('Frase: ')).strip().lower()\n",
    "\n",
    "print('Quantos a: {}'.format(frase.count('a')))\n",
    "print('Primeiro a: {}'.format(frase.find('a')+1))\n",
    "print('Ultimo a: {}'.format(frase.rfind('a')+1))"
   ]
  },
  {
   "cell_type": "code",
   "execution_count": null,
   "id": "ec7bef17",
   "metadata": {},
   "outputs": [],
   "source": []
  }
 ],
 "metadata": {
  "kernelspec": {
   "display_name": "Python 3 (ipykernel)",
   "language": "python",
   "name": "python3"
  },
  "language_info": {
   "codemirror_mode": {
    "name": "ipython",
    "version": 3
   },
   "file_extension": ".py",
   "mimetype": "text/x-python",
   "name": "python",
   "nbconvert_exporter": "python",
   "pygments_lexer": "ipython3",
   "version": "3.9.7"
  }
 },
 "nbformat": 4,
 "nbformat_minor": 5
}

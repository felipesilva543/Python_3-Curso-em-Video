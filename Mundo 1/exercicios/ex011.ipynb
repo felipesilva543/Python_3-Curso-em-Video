{
 "cells": [
  {
   "cell_type": "markdown",
   "id": "62fbdfaa",
   "metadata": {},
   "source": [
    "Faça um programa que leia a largura e a altura de uma parede em metros, calcule a sua área e a quantidade de tinta necessária para pintá-la, sabendo que cada litro de tinta pinta uma área de 2 metros quadrados."
   ]
  },
  {
   "cell_type": "code",
   "execution_count": 3,
   "id": "01c8702f",
   "metadata": {},
   "outputs": [
    {
     "name": "stdout",
     "output_type": "stream",
     "text": [
      "Largura da parede: 56\n",
      "Altura da parede: 2\n",
      "Sua parede tem a dimensão de 2.0x56.0 com área igua a 112.0m^2.\n",
      "Para pintar com a tinha que rende 2m^2, vc precisa comprar 56.0L.\n"
     ]
    }
   ],
   "source": [
    "lar = float(input('Largura da parede: '))\n",
    "alt = float(input('Altura da parede: '))\n",
    "area = alt*lar\n",
    "print('Sua parede tem a dimensão de {}x{} com área igua a {}m^2.'.format(alt, lar, area))\n",
    "print('Para pintar com a tinha que rende 2m^2, vc precisa comprar {}L.'.format(area/2))"
   ]
  },
  {
   "cell_type": "code",
   "execution_count": null,
   "id": "ff57f566",
   "metadata": {},
   "outputs": [],
   "source": []
  }
 ],
 "metadata": {
  "kernelspec": {
   "display_name": "Python 3 (ipykernel)",
   "language": "python",
   "name": "python3"
  },
  "language_info": {
   "codemirror_mode": {
    "name": "ipython",
    "version": 3
   },
   "file_extension": ".py",
   "mimetype": "text/x-python",
   "name": "python",
   "nbconvert_exporter": "python",
   "pygments_lexer": "ipython3",
   "version": "3.9.7"
  }
 },
 "nbformat": 4,
 "nbformat_minor": 5
}

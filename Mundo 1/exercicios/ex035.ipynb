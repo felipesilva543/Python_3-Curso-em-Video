{
 "cells": [
  {
   "cell_type": "markdown",
   "id": "4eb0018c",
   "metadata": {},
   "source": [
    "Desenvolva um programa que leia o comprimento de três retas e diga ao usuário se elas podem ou não formar um triângulo."
   ]
  },
  {
   "cell_type": "code",
   "execution_count": 31,
   "id": "2c4a351c",
   "metadata": {},
   "outputs": [
    {
     "name": "stdout",
     "output_type": "stream",
     "text": [
      "Primeiro segmento: 8\n",
      "Segundo segmento: 2\n",
      "Terceiro segmento: 2\n",
      "-=-=-=-=-=-=-=-=-=-=-=-=-=-=-=-=-=-=-=-=\n",
      "          Analisando Segmentos          \n",
      "-=-=-=-=-=-=-=-=-=-=-=-=-=-=-=-=-=-=-=-=\n",
      "     \u001b[31mNão podemos formar um triângulo!      \n"
     ]
    }
   ],
   "source": [
    "from time import sleep\n",
    "r1 = float(input('Primeiro segmento: '))\n",
    "r2 = float(input('Segundo segmento: '))\n",
    "r3 = float(input('Terceiro segmento: '))\n",
    "print('-='*20 + '\\n{:^40}\\n'.format('Analisando Segmentos') + 20*'-=')\n",
    "sleep(3)\n",
    "if r1 < r2 + r3 and r2 < r1 + r3 and r3 < r1 + r2:\n",
    "    print('{:^48}'.format('\\033[32mPodemos formar um triângulo!'))\n",
    "else:\n",
    "    print('{:^48}'.format('\\033[31mNão podemos formar um triângulo!'))\n"
   ]
  },
  {
   "cell_type": "code",
   "execution_count": null,
   "id": "6d8ae837",
   "metadata": {},
   "outputs": [],
   "source": []
  }
 ],
 "metadata": {
  "kernelspec": {
   "display_name": "Python 3 (ipykernel)",
   "language": "python",
   "name": "python3"
  },
  "language_info": {
   "codemirror_mode": {
    "name": "ipython",
    "version": 3
   },
   "file_extension": ".py",
   "mimetype": "text/x-python",
   "name": "python",
   "nbconvert_exporter": "python",
   "pygments_lexer": "ipython3",
   "version": "3.9.7"
  }
 },
 "nbformat": 4,
 "nbformat_minor": 5
}

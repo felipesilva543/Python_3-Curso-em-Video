{
 "cells": [
  {
   "cell_type": "markdown",
   "id": "60360c05",
   "metadata": {},
   "source": [
    "Escreva um programa que pergunte a quantidade de Km percorridos por um carro alugado e a quantidade de dias pelos quais ele foi alugado. Calcule o preço a pagar, sabendo que o carro custa R$60 por dia e R$0,15 por Km rodado."
   ]
  },
  {
   "cell_type": "code",
   "execution_count": 6,
   "id": "76bb34fe",
   "metadata": {},
   "outputs": [
    {
     "name": "stdout",
     "output_type": "stream",
     "text": [
      "Dias de aluguel: 8\n",
      "Kms rodados: 720\n",
      "Valor a pagar em R$: 588.0\n"
     ]
    }
   ],
   "source": [
    "dias = float(input('Dias de aluguel: '))\n",
    "km = float(input('Kms rodados: '))\n",
    "\n",
    "print('Valor a pagar em R$: {}'.format((60*dias) + (0.15 * km)))"
   ]
  },
  {
   "cell_type": "code",
   "execution_count": null,
   "id": "413acf74",
   "metadata": {},
   "outputs": [],
   "source": []
  }
 ],
 "metadata": {
  "kernelspec": {
   "display_name": "Python 3 (ipykernel)",
   "language": "python",
   "name": "python3"
  },
  "language_info": {
   "codemirror_mode": {
    "name": "ipython",
    "version": 3
   },
   "file_extension": ".py",
   "mimetype": "text/x-python",
   "name": "python",
   "nbconvert_exporter": "python",
   "pygments_lexer": "ipython3",
   "version": "3.9.7"
  }
 },
 "nbformat": 4,
 "nbformat_minor": 5
}

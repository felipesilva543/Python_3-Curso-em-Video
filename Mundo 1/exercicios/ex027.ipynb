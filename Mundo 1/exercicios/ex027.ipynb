{
 "cells": [
  {
   "cell_type": "markdown",
   "id": "df6ddab0",
   "metadata": {},
   "source": [
    "Faça um programa que leia o nome completo de uma pessoa, mostrando em seguida o primeiro e o último nome separadamente."
   ]
  },
  {
   "cell_type": "code",
   "execution_count": 3,
   "id": "d32a375d",
   "metadata": {},
   "outputs": [
    {
     "name": "stdout",
     "output_type": "stream",
     "text": [
      "Nome:    Francisco Felipe da Silva\n",
      "Primeiro nome: Francisco\n",
      "Ultimo nome: Silva\n"
     ]
    }
   ],
   "source": [
    "no = str(input('Nome: ')).strip()\n",
    "\n",
    "print('Primeiro nome: {}'.format(no[:no.find(' ')]))\n",
    "print('Ultimo nome: {}'.format(no[no.rfind(' ')+1:]))"
   ]
  },
  {
   "cell_type": "code",
   "execution_count": null,
   "id": "0cbddeb9",
   "metadata": {},
   "outputs": [],
   "source": []
  }
 ],
 "metadata": {
  "kernelspec": {
   "display_name": "Python 3 (ipykernel)",
   "language": "python",
   "name": "python3"
  },
  "language_info": {
   "codemirror_mode": {
    "name": "ipython",
    "version": 3
   },
   "file_extension": ".py",
   "mimetype": "text/x-python",
   "name": "python",
   "nbconvert_exporter": "python",
   "pygments_lexer": "ipython3",
   "version": "3.9.7"
  }
 },
 "nbformat": 4,
 "nbformat_minor": 5
}

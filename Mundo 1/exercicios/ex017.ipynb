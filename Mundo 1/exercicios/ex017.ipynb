{
 "cells": [
  {
   "cell_type": "markdown",
   "id": "ce56c00e",
   "metadata": {},
   "source": [
    "Faça um programa que leia o comprimento do cateto oposto e do cateto adjacente de um triângulo retângulo. Calcule e mostre o comprimento da hipotenusa."
   ]
  },
  {
   "cell_type": "code",
   "execution_count": 4,
   "id": "0219f2c7",
   "metadata": {},
   "outputs": [
    {
     "name": "stdout",
     "output_type": "stream",
     "text": [
      "Digite o valor do cateco oposto: 3.5\n",
      "Digite o valor do cateco adjacente: 4.75\n",
      "A hipotenusa mede: 5.90\n"
     ]
    }
   ],
   "source": [
    "from math import sqrt, hypot\n",
    "fcP = float(input('Digite o valor do cateco oposto: '))\n",
    "fcA = float(input('Digite o valor do cateco adjacente: '))\n",
    "\n",
    "fhipo = sqrt((fcP**2) + (fcA**2))\n",
    "fhipo2 = hypot(fcP, fcA)\n",
    "print('A hipotenusa mede: {:.2f}'.format(fhipo2))"
   ]
  },
  {
   "cell_type": "code",
   "execution_count": null,
   "id": "1edc4b96",
   "metadata": {},
   "outputs": [],
   "source": []
  }
 ],
 "metadata": {
  "kernelspec": {
   "display_name": "Python 3 (ipykernel)",
   "language": "python",
   "name": "python3"
  },
  "language_info": {
   "codemirror_mode": {
    "name": "ipython",
    "version": 3
   },
   "file_extension": ".py",
   "mimetype": "text/x-python",
   "name": "python",
   "nbconvert_exporter": "python",
   "pygments_lexer": "ipython3",
   "version": "3.9.7"
  }
 },
 "nbformat": 4,
 "nbformat_minor": 5
}

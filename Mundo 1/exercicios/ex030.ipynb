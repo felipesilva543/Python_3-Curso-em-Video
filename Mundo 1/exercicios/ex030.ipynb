{
 "cells": [
  {
   "cell_type": "markdown",
   "id": "91dddc32",
   "metadata": {},
   "source": [
    "Crie um programa que leia um número inteiro e mostre na tela se ele é PAR ou ÍMPAR."
   ]
  },
  {
   "cell_type": "code",
   "execution_count": 2,
   "id": "4f5b784c",
   "metadata": {},
   "outputs": [
    {
     "name": "stdout",
     "output_type": "stream",
     "text": [
      "Digite um número inteiro: 849289481\n",
      "Analisando número digitado...\n",
      "Número digitado é IMPAR!\n"
     ]
    }
   ],
   "source": [
    "from time import sleep\n",
    "n = int(input('Digite um número inteiro: '))\n",
    "\n",
    "print('Analisando número digitado...')\n",
    "sleep(3)\n",
    "if n%2 == 0:\n",
    "    print('Número digitado é PAR')\n",
    "else: \n",
    "    print('Número digitado é IMPAR!')\n"
   ]
  },
  {
   "cell_type": "code",
   "execution_count": null,
   "id": "7e72fa07",
   "metadata": {},
   "outputs": [],
   "source": []
  }
 ],
 "metadata": {
  "kernelspec": {
   "display_name": "Python 3 (ipykernel)",
   "language": "python",
   "name": "python3"
  },
  "language_info": {
   "codemirror_mode": {
    "name": "ipython",
    "version": 3
   },
   "file_extension": ".py",
   "mimetype": "text/x-python",
   "name": "python",
   "nbconvert_exporter": "python",
   "pygments_lexer": "ipython3",
   "version": "3.9.7"
  }
 },
 "nbformat": 4,
 "nbformat_minor": 5
}

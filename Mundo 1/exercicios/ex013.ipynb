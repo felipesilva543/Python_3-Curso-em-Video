{
 "cells": [
  {
   "cell_type": "markdown",
   "id": "cbfb49a9",
   "metadata": {},
   "source": [
    "Faça um algoritmo que leia o salário de um funcionário e mostre seu novo salário, com 15% de aumento."
   ]
  },
  {
   "cell_type": "code",
   "execution_count": 2,
   "id": "6b92494d",
   "metadata": {},
   "outputs": [
    {
     "name": "stdout",
     "output_type": "stream",
     "text": [
      "Valor atual do salário: 4319\n",
      "Com acrescimo de 15% o novo valor se torna R$4966.85.\n"
     ]
    }
   ],
   "source": [
    "vA = float(input('Valor atual do salário: '))\n",
    "\n",
    "print('Com acrescimo de 15% o novo valor se torna R${:.2f}.'.format((vA + (vA*0.15))))"
   ]
  },
  {
   "cell_type": "code",
   "execution_count": 4,
   "id": "2543b2bc",
   "metadata": {},
   "outputs": [
    {
     "name": "stdout",
     "output_type": "stream",
     "text": [
      "Valor do produto: 100\n",
      "Pagamento a vista (5% de desconto): 95.0\n",
      "Pagamento parcelado (8% de acrescimo): 108.0\n"
     ]
    }
   ],
   "source": [
    "# Extra\n",
    "\n",
    "vN = float(input('Valor do produto: '))\n",
    "\n",
    "print('Pagamento a vista (5% de desconto): {}'.format(vN - (vN*0.05)))\n",
    "print('Pagamento parcelado (8% de acrescimo): {}'.format(vN + (vN*0.08)))"
   ]
  },
  {
   "cell_type": "code",
   "execution_count": null,
   "id": "80a65258",
   "metadata": {},
   "outputs": [],
   "source": []
  }
 ],
 "metadata": {
  "kernelspec": {
   "display_name": "Python 3 (ipykernel)",
   "language": "python",
   "name": "python3"
  },
  "language_info": {
   "codemirror_mode": {
    "name": "ipython",
    "version": 3
   },
   "file_extension": ".py",
   "mimetype": "text/x-python",
   "name": "python",
   "nbconvert_exporter": "python",
   "pygments_lexer": "ipython3",
   "version": "3.9.7"
  }
 },
 "nbformat": 4,
 "nbformat_minor": 5
}

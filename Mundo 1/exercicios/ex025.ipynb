{
 "cells": [
  {
   "cell_type": "markdown",
   "id": "a3ca9acb",
   "metadata": {},
   "source": [
    "Crie um programa que leia o nome de uma pessoa e diga se ela tem “SILVA” no nome."
   ]
  },
  {
   "cell_type": "code",
   "execution_count": 3,
   "id": "6a51986e",
   "metadata": {},
   "outputs": [
    {
     "name": "stdout",
     "output_type": "stream",
     "text": [
      "nome:Francisco Silva Felipe\n",
      "True\n"
     ]
    }
   ],
   "source": [
    "nomee = str(input('nome:' )).strip()\n",
    "#divv = cidade.split()\n",
    "print('Silva' in nomee.title())"
   ]
  },
  {
   "cell_type": "code",
   "execution_count": null,
   "id": "300c15d9",
   "metadata": {},
   "outputs": [],
   "source": []
  }
 ],
 "metadata": {
  "kernelspec": {
   "display_name": "Python 3 (ipykernel)",
   "language": "python",
   "name": "python3"
  },
  "language_info": {
   "codemirror_mode": {
    "name": "ipython",
    "version": 3
   },
   "file_extension": ".py",
   "mimetype": "text/x-python",
   "name": "python",
   "nbconvert_exporter": "python",
   "pygments_lexer": "ipython3",
   "version": "3.9.7"
  }
 },
 "nbformat": 4,
 "nbformat_minor": 5
}

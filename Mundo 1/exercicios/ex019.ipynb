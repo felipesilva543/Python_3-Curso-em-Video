{
 "cells": [
  {
   "cell_type": "markdown",
   "id": "1f0f6533",
   "metadata": {},
   "source": [
    "Um professor quer sortear um dos seus quatro alunos para apagar o quadro. Faça um programa que ajude ele, lendo o nome dos alunos e escrevendo na tela o nome do escolhido."
   ]
  },
  {
   "cell_type": "code",
   "execution_count": 16,
   "id": "b08a0e0c",
   "metadata": {},
   "outputs": [
    {
     "name": "stdout",
     "output_type": "stream",
     "text": [
      "Aluno 1: q\n",
      "Aluno 2: w\n",
      "Aluno 3: e\n",
      "Aluno 4: r\n",
      "O aluno escolhido foi r.\n"
     ]
    }
   ],
   "source": [
    " import random\n",
    "\n",
    "\n",
    "aluno1 = input('Aluno 1: ')\n",
    "aluno2 = input('Aluno 2: ')\n",
    "aluno3 = input('Aluno 3: ')\n",
    "aluno4 = input('Aluno 4: ')\n",
    "\n",
    "print('O aluno escolhido foi {}.'.format(random.choice([aluno1, aluno2, aluno3, aluno4])))"
   ]
  },
  {
   "cell_type": "code",
   "execution_count": 1,
   "id": "ed0269f0",
   "metadata": {},
   "outputs": [],
   "source": [
    "# lista\n",
    "n1 = 0\n",
    "n2 = 0\n",
    "n3 = 0\n",
    "n4 = 0\n",
    "n5 = 0\n",
    "lista = [n1, n2, n3, n4, n5]"
   ]
  },
  {
   "cell_type": "code",
   "execution_count": null,
   "id": "bd7231ef",
   "metadata": {},
   "outputs": [],
   "source": []
  }
 ],
 "metadata": {
  "kernelspec": {
   "display_name": "Python 3 (ipykernel)",
   "language": "python",
   "name": "python3"
  },
  "language_info": {
   "codemirror_mode": {
    "name": "ipython",
    "version": 3
   },
   "file_extension": ".py",
   "mimetype": "text/x-python",
   "name": "python",
   "nbconvert_exporter": "python",
   "pygments_lexer": "ipython3",
   "version": "3.9.7"
  }
 },
 "nbformat": 4,
 "nbformat_minor": 5
}

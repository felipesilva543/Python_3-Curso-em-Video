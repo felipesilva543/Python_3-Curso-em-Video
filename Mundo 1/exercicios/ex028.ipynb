{
 "cells": [
  {
   "cell_type": "markdown",
   "id": "cd6f0b80",
   "metadata": {},
   "source": [
    "Escreva um programa que faça o computador “pensar” em um número inteiro entre 0 e 5 e peça para o usuário tentar descobrir qual foi o número escolhido pelo computador. O programa deverá escrever na tela se o usuário venceu ou perdeu."
   ]
  },
  {
   "cell_type": "code",
   "execution_count": 31,
   "id": "da20944d",
   "metadata": {},
   "outputs": [
    {
     "name": "stdout",
     "output_type": "stream",
     "text": [
      "Escolha um número de 1 até 5: 3\n",
      "PROCESSANDO...\n",
      "O PC escolheu: 4\n",
      "Infelizmente vc ERROU o número escolhido pelo PC!\n"
     ]
    }
   ],
   "source": [
    "from random import randint\n",
    "from time import sleep\n",
    "\n",
    "pc = random.randint(1,5)\n",
    "usu = int(input('Escolha um número de 1 até 5: '))\n",
    "print('PROCESSANDO...')\n",
    "sleep(3)\n",
    "print('O PC escolheu: {}'.format(pc))\n",
    "if pc == usu:\n",
    "    print('Parabéns vc ACERTOU o número escolhido pelo PC!!')\n",
    "else:\n",
    "    print('Infelizmente vc ERROU o número escolhido pelo PC!')\n",
    "\n"
   ]
  },
  {
   "cell_type": "code",
   "execution_count": 30,
   "id": "dc66025b",
   "metadata": {},
   "outputs": [
    {
     "name": "stdout",
     "output_type": "stream",
     "text": [
      "Vou pensar em um número\n",
      "Qual vc acha que eu escolhi?2\n"
     ]
    }
   ],
   "source": [
    "print('Vou pensar em um número')\n",
    "n1 = int(input('Qual vc acha que eu escolhi?'))"
   ]
  },
  {
   "cell_type": "markdown",
   "id": "72fd0aea",
   "metadata": {},
   "source": []
  }
 ],
 "metadata": {
  "kernelspec": {
   "display_name": "Python 3 (ipykernel)",
   "language": "python",
   "name": "python3"
  },
  "language_info": {
   "codemirror_mode": {
    "name": "ipython",
    "version": 3
   },
   "file_extension": ".py",
   "mimetype": "text/x-python",
   "name": "python",
   "nbconvert_exporter": "python",
   "pygments_lexer": "ipython3",
   "version": "3.9.7"
  }
 },
 "nbformat": 4,
 "nbformat_minor": 5
}

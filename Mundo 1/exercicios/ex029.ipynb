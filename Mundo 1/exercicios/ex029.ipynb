{
 "cells": [
  {
   "cell_type": "markdown",
   "id": "b719a23f",
   "metadata": {},
   "source": [
    "Escreva um programa que leia a velocidade de um carro. Se ele ultrapassar 80Km/h, mostre uma mensagem dizendo que ele foi multado. A multa vai custar R$7,00 por cada Km acima do limite."
   ]
  },
  {
   "cell_type": "code",
   "execution_count": 5,
   "id": "e0086f64",
   "metadata": {},
   "outputs": [
    {
     "name": "stdout",
     "output_type": "stream",
     "text": [
      "Qual a velocidade? 100\n",
      "Você ultrapassou o limite de velocidade em 20kms, sua multa é de 140 reais.\n"
     ]
    }
   ],
   "source": [
    "km = int(input('Qual a velocidade? '))\n",
    "if km > 80:\n",
    "    print('Você ultrapassou o limite de velocidade em {}kms, sua multa é de {} reais.'.format(km-80,(km-80)*7))\n",
    "else:\n",
    "    print('Você está dentro do limite de velocidade!')"
   ]
  },
  {
   "cell_type": "code",
   "execution_count": null,
   "id": "148fb3fe",
   "metadata": {},
   "outputs": [],
   "source": []
  }
 ],
 "metadata": {
  "kernelspec": {
   "display_name": "Python 3 (ipykernel)",
   "language": "python",
   "name": "python3"
  },
  "language_info": {
   "codemirror_mode": {
    "name": "ipython",
    "version": 3
   },
   "file_extension": ".py",
   "mimetype": "text/x-python",
   "name": "python",
   "nbconvert_exporter": "python",
   "pygments_lexer": "ipython3",
   "version": "3.9.7"
  }
 },
 "nbformat": 4,
 "nbformat_minor": 5
}

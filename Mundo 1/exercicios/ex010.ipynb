{
 "cells": [
  {
   "cell_type": "markdown",
   "id": "d4fdb77f",
   "metadata": {},
   "source": [
    "Crie um programa que leia quanto dinheiro uma pessoa tem na carteira e mostre quantos dólares ela pode comprar."
   ]
  },
  {
   "cell_type": "code",
   "execution_count": 6,
   "id": "ffb71701",
   "metadata": {},
   "outputs": [
    {
     "name": "stdout",
     "output_type": "stream",
     "text": [
      "Quantos R$ vc tem? 240\n",
      "Vc pode comprar 48.39 dolar, 45.80 euros ou 6153.85 iene.\n"
     ]
    }
   ],
   "source": [
    "din = float(input('Quantos R$ vc tem? '))\n",
    "dolar = 4.96\n",
    "euro = 5.24\n",
    "iene = 0.039\n",
    "print('Vc pode comprar {:.2f} dolar, {:.2f} euros ou {:.2f} iene.'.format(din/dolar, din/euro, din/iene))"
   ]
  },
  {
   "cell_type": "code",
   "execution_count": null,
   "id": "83d7d3db",
   "metadata": {},
   "outputs": [],
   "source": []
  }
 ],
 "metadata": {
  "kernelspec": {
   "display_name": "Python 3 (ipykernel)",
   "language": "python",
   "name": "python3"
  },
  "language_info": {
   "codemirror_mode": {
    "name": "ipython",
    "version": 3
   },
   "file_extension": ".py",
   "mimetype": "text/x-python",
   "name": "python",
   "nbconvert_exporter": "python",
   "pygments_lexer": "ipython3",
   "version": "3.9.7"
  }
 },
 "nbformat": 4,
 "nbformat_minor": 5
}

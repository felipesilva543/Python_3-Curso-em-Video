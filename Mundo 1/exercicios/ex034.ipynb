{
 "cells": [
  {
   "cell_type": "markdown",
   "id": "8c24fbd0",
   "metadata": {},
   "source": [
    "Escreva um programa que pergunte o salário de um funcionário e calcule o valor do seu aumento. Para salários superiores a R$1250,00, calcule um aumento de 10%. Para os inferiores ou iguais, o aumento é de 15%."
   ]
  },
  {
   "cell_type": "code",
   "execution_count": 7,
   "id": "c954995a",
   "metadata": {},
   "outputs": [
    {
     "name": "stdout",
     "output_type": "stream",
     "text": [
      "Digite o salário: 20000\n",
      "Para um salário de R$20000.0 o acrescimo é de R$2000.0, novo salário atualizado é R$22000.0\n"
     ]
    }
   ],
   "source": [
    "salario = float(input('Digite o salário: '))\n",
    "if salario > 1250:\n",
    "    acres = salario * 0.1\n",
    "else:\n",
    "    acres = salario * 0.15\n",
    "\n",
    "print('Para um salário de R${} o acrescimo é de R${}, novo salário atualizado é R${}'.format(salario, acres, salario+acres))"
   ]
  },
  {
   "cell_type": "code",
   "execution_count": null,
   "id": "90c25fd9",
   "metadata": {},
   "outputs": [],
   "source": []
  }
 ],
 "metadata": {
  "kernelspec": {
   "display_name": "Python 3 (ipykernel)",
   "language": "python",
   "name": "python3"
  },
  "language_info": {
   "codemirror_mode": {
    "name": "ipython",
    "version": 3
   },
   "file_extension": ".py",
   "mimetype": "text/x-python",
   "name": "python",
   "nbconvert_exporter": "python",
   "pygments_lexer": "ipython3",
   "version": "3.9.7"
  }
 },
 "nbformat": 4,
 "nbformat_minor": 5
}

{
 "cells": [
  {
   "cell_type": "markdown",
   "id": "c0981418",
   "metadata": {},
   "source": [
    "Faça um algoritmo que leia o preço de um produto e mostre seu novo preço, com 5% de desconto."
   ]
  },
  {
   "cell_type": "code",
   "execution_count": 5,
   "id": "a73dfa1f",
   "metadata": {},
   "outputs": [
    {
     "name": "stdout",
     "output_type": "stream",
     "text": [
      "Valor atual do produto: 125\n",
      "Com desconto de 5% o novo valor se torna R$118.75.\n"
     ]
    }
   ],
   "source": [
    "vA = float(input('Valor atual do produto: '))\n",
    "\n",
    "print('Com desconto de 5% o novo valor se torna R${:.2f}.'.format((vA - (vA*0.05))))"
   ]
  },
  {
   "cell_type": "code",
   "execution_count": null,
   "id": "34d66f31",
   "metadata": {},
   "outputs": [],
   "source": []
  }
 ],
 "metadata": {
  "kernelspec": {
   "display_name": "Python 3 (ipykernel)",
   "language": "python",
   "name": "python3"
  },
  "language_info": {
   "codemirror_mode": {
    "name": "ipython",
    "version": 3
   },
   "file_extension": ".py",
   "mimetype": "text/x-python",
   "name": "python",
   "nbconvert_exporter": "python",
   "pygments_lexer": "ipython3",
   "version": "3.9.7"
  }
 },
 "nbformat": 4,
 "nbformat_minor": 5
}

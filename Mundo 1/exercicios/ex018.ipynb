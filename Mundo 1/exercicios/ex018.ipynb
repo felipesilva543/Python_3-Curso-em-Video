{
 "cells": [
  {
   "cell_type": "markdown",
   "id": "7cbcbb68",
   "metadata": {},
   "source": [
    "Faça um programa que leia um ângulo qualquer e mostre na tela o valor do seno, cosseno e tangente desse ângulo."
   ]
  },
  {
   "cell_type": "code",
   "execution_count": 10,
   "id": "572425c2",
   "metadata": {},
   "outputs": [
    {
     "name": "stdout",
     "output_type": "stream",
     "text": [
      "Digite um angulo: 45\n",
      "O seno de 45.0 é 0.71\n",
      "O cosseno de 45.0 é 0.71\n",
      "A tangente de 45.0 é 1.00\n"
     ]
    }
   ],
   "source": [
    "import math\n",
    "angulo = float(input('Digite um angulo: '))\n",
    "\n",
    "seno = math.sin(math.radians(angulo))\n",
    "cos = math.cos(math.radians(angulo))\n",
    "tan = math.tan(math.radians(angulo))\n",
    "\n",
    "print('O seno de {} é {:.2f}'.format(angulo, seno))\n",
    "print('O cosseno de {} é {:.2f}'.format(angulo, cos))\n",
    "print('A tangente de {} é {:.2f}'.format(angulo, tan))"
   ]
  },
  {
   "cell_type": "code",
   "execution_count": null,
   "id": "c89eddca",
   "metadata": {},
   "outputs": [],
   "source": [
    "from math import sin, cos, tan, radians"
   ]
  },
  {
   "cell_type": "code",
   "execution_count": null,
   "id": "9d5d191e",
   "metadata": {},
   "outputs": [],
   "source": []
  }
 ],
 "metadata": {
  "kernelspec": {
   "display_name": "Python 3 (ipykernel)",
   "language": "python",
   "name": "python3"
  },
  "language_info": {
   "codemirror_mode": {
    "name": "ipython",
    "version": 3
   },
   "file_extension": ".py",
   "mimetype": "text/x-python",
   "name": "python",
   "nbconvert_exporter": "python",
   "pygments_lexer": "ipython3",
   "version": "3.9.7"
  }
 },
 "nbformat": 4,
 "nbformat_minor": 5
}

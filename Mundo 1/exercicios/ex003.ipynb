{
 "cells": [
  {
   "cell_type": "markdown",
   "id": "de27f62b",
   "metadata": {},
   "source": [
    "Crie um programa que leia dois números e mostre a soma entre eles."
   ]
  },
  {
   "cell_type": "code",
   "execution_count": 3,
   "id": "e6930aff",
   "metadata": {},
   "outputs": [
    {
     "name": "stdout",
     "output_type": "stream",
     "text": [
      "Primeiro valor: 5\n",
      "Segundo valor: 2\n",
      "A soma entre 5 e 2 é 7!\n"
     ]
    }
   ],
   "source": [
    "n1 = int(input('Primeiro valor: '))\n",
    "n2 = int(input('Segundo valor: '))\n",
    "s = n1 + n2\n",
    "print('A soma entre {0} e {1} é {2}!'.format(n1, n2, s))\n"
   ]
  },
  {
   "cell_type": "code",
   "execution_count": null,
   "id": "7b63cd4d",
   "metadata": {},
   "outputs": [],
   "source": []
  }
 ],
 "metadata": {
  "kernelspec": {
   "display_name": "Python 3 (ipykernel)",
   "language": "python",
   "name": "python3"
  },
  "language_info": {
   "codemirror_mode": {
    "name": "ipython",
    "version": 3
   },
   "file_extension": ".py",
   "mimetype": "text/x-python",
   "name": "python",
   "nbconvert_exporter": "python",
   "pygments_lexer": "ipython3",
   "version": "3.9.7"
  }
 },
 "nbformat": 4,
 "nbformat_minor": 5
}

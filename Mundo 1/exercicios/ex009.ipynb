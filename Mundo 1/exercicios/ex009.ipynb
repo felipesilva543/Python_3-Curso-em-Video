{
 "cells": [
  {
   "cell_type": "markdown",
   "id": "6fff993d",
   "metadata": {},
   "source": [
    "Faça um programa que leia um número Inteiro qualquer e mostre na tela a sua tabuada."
   ]
  },
  {
   "cell_type": "code",
   "execution_count": 23,
   "id": "05b8a11d",
   "metadata": {},
   "outputs": [
    {
     "name": "stdout",
     "output_type": "stream",
     "text": [
      "Valor: 100\n",
      "---------------\n",
      "100 x  1 = 100\n",
      "100 x  2 = 200\n",
      "100 x  3 = 300\n",
      "100 x  4 = 400\n",
      "100 x  5 = 500\n",
      "100 x  6 = 600\n",
      "100 x  7 = 700\n",
      "100 x  8 = 800\n",
      "100 x  9 = 900\n",
      "100 x 10 = 1000\n",
      "---------------\n"
     ]
    }
   ],
   "source": [
    "n = int(input('Valor: '))\n",
    "print('-'*15)\n",
    "for i in range(10):\n",
    "    print('{} x {:2} = {}'.format(n, (i+1), (i+1)*n))\n",
    "print('-'*15)"
   ]
  },
  {
   "cell_type": "code",
   "execution_count": null,
   "id": "171bbcb4",
   "metadata": {},
   "outputs": [],
   "source": []
  }
 ],
 "metadata": {
  "kernelspec": {
   "display_name": "Python 3 (ipykernel)",
   "language": "python",
   "name": "python3"
  },
  "language_info": {
   "codemirror_mode": {
    "name": "ipython",
    "version": 3
   },
   "file_extension": ".py",
   "mimetype": "text/x-python",
   "name": "python",
   "nbconvert_exporter": "python",
   "pygments_lexer": "ipython3",
   "version": "3.9.7"
  }
 },
 "nbformat": 4,
 "nbformat_minor": 5
}

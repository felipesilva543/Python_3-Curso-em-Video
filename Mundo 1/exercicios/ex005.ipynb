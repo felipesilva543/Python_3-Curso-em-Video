{
 "cells": [
  {
   "cell_type": "markdown",
   "id": "8565b1fa",
   "metadata": {},
   "source": [
    "Leia um numero e mostro o antecessor e o sucessor."
   ]
  },
  {
   "cell_type": "code",
   "execution_count": 1,
   "id": "77a7d554",
   "metadata": {},
   "outputs": [
    {
     "name": "stdout",
     "output_type": "stream",
     "text": [
      "Digite um número: 5\n",
      "Antecessor: 4.0, Atual: 5.0, Sucessor: 6.0.\n"
     ]
    }
   ],
   "source": [
    "n = float(input('Digite um número: '))\n",
    "\n",
    "print('Antecessor: {}, Atual: {}, Sucessor: {}.'.format(n-1, n, n+1))"
   ]
  },
  {
   "cell_type": "code",
   "execution_count": null,
   "id": "c0fbb92e",
   "metadata": {},
   "outputs": [],
   "source": []
  }
 ],
 "metadata": {
  "kernelspec": {
   "display_name": "Python 3 (ipykernel)",
   "language": "python",
   "name": "python3"
  },
  "language_info": {
   "codemirror_mode": {
    "name": "ipython",
    "version": 3
   },
   "file_extension": ".py",
   "mimetype": "text/x-python",
   "name": "python",
   "nbconvert_exporter": "python",
   "pygments_lexer": "ipython3",
   "version": "3.9.7"
  }
 },
 "nbformat": 4,
 "nbformat_minor": 5
}

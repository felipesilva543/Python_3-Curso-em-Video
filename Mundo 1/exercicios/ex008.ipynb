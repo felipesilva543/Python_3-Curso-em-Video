{
 "cells": [
  {
   "cell_type": "markdown",
   "id": "cd1fdfa6",
   "metadata": {},
   "source": [
    "Conversor de Medidas"
   ]
  },
  {
   "cell_type": "code",
   "execution_count": 2,
   "id": "323ae5fb",
   "metadata": {},
   "outputs": [
    {
     "name": "stdout",
     "output_type": "stream",
     "text": [
      "Valor em m: 1\n",
      "1.0 metros equivalem a:\n",
      "0.001 Km\n",
      "0.01 Hm\n",
      "0.1 Dam\n",
      "10.0 dm\n",
      "100.0 cm\n",
      "1000.0 mm\n"
     ]
    }
   ],
   "source": [
    "n = float(input('Valor em m: '))\n",
    "\n",
    "print('{} metros equivalem a:'.format(n))\n",
    "print('{} Km'.format(n/1000))\n",
    "print('{} Hm'.format(n/100))\n",
    "print('{} Dam'.format(n/10))\n",
    "print('{} dm'.format(n*10))\n",
    "print('{} cm'.format(n*100))\n",
    "print('{} mm'.format(n*1000))"
   ]
  },
  {
   "cell_type": "code",
   "execution_count": null,
   "id": "81ae286a",
   "metadata": {},
   "outputs": [],
   "source": []
  }
 ],
 "metadata": {
  "kernelspec": {
   "display_name": "Python 3 (ipykernel)",
   "language": "python",
   "name": "python3"
  },
  "language_info": {
   "codemirror_mode": {
    "name": "ipython",
    "version": 3
   },
   "file_extension": ".py",
   "mimetype": "text/x-python",
   "name": "python",
   "nbconvert_exporter": "python",
   "pygments_lexer": "ipython3",
   "version": "3.9.7"
  }
 },
 "nbformat": 4,
 "nbformat_minor": 5
}

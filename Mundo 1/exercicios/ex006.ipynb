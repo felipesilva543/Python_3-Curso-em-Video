{
 "cells": [
  {
   "cell_type": "markdown",
   "id": "25ff330d",
   "metadata": {},
   "source": [
    "Dobro, triplo, raiz."
   ]
  },
  {
   "cell_type": "code",
   "execution_count": 2,
   "id": "ab89be00",
   "metadata": {},
   "outputs": [
    {
     "name": "stdout",
     "output_type": "stream",
     "text": [
      "Digite um valor: 85\n",
      "Dobro: 170.0\n",
      "Triplo: 255.0\n",
      "Raiz2 : 9.219544457292887\n"
     ]
    }
   ],
   "source": [
    "n = float(input('Digite um valor: '))\n",
    "print('Dobro: {}'.format(n*2))\n",
    "print('Triplo: {}'.format(n*3))\n",
    "print('Raiz2 : {}'.format(n**(1/2)))"
   ]
  },
  {
   "cell_type": "code",
   "execution_count": null,
   "id": "65858447",
   "metadata": {},
   "outputs": [],
   "source": []
  }
 ],
 "metadata": {
  "kernelspec": {
   "display_name": "Python 3 (ipykernel)",
   "language": "python",
   "name": "python3"
  },
  "language_info": {
   "codemirror_mode": {
    "name": "ipython",
    "version": 3
   },
   "file_extension": ".py",
   "mimetype": "text/x-python",
   "name": "python",
   "nbconvert_exporter": "python",
   "pygments_lexer": "ipython3",
   "version": "3.9.7"
  }
 },
 "nbformat": 4,
 "nbformat_minor": 5
}

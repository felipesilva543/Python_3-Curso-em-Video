{
 "cells": [
  {
   "cell_type": "markdown",
   "id": "1eeda88e",
   "metadata": {},
   "source": [
    "O mesmo professor do desafio 19 quer sortear a ordem de apresentação de trabalhos dos alunos. Faça um programa que leia o nome dos quatro alunos e mostre a ordem sorteada."
   ]
  },
  {
   "cell_type": "code",
   "execution_count": 11,
   "id": "dd639c49",
   "metadata": {},
   "outputs": [
    {
     "name": "stdout",
     "output_type": "stream",
     "text": [
      "Aluno 1: Felipe\n",
      "Aluno 2: Alex\n",
      "Aluno 3: Joao\n",
      "Aluno 4: Pedro\n",
      "Ordem de apresentação: ['Felipe', 'Pedro', 'Joao', 'Alex']\n"
     ]
    }
   ],
   "source": [
    "# import random\n",
    "from random import shuffle\n",
    "\n",
    "n1 = input('Aluno 1: ')\n",
    "n2 = input('Aluno 2: ')\n",
    "n3 = input('Aluno 3: ')\n",
    "n4 = input('Aluno 4: ')\n",
    "\n",
    "lista = [n1, n2, n3, n4]\n",
    "shuffle(lista)\n",
    "print('Ordem de apresentação: {}'.format(lista))"
   ]
  },
  {
   "cell_type": "code",
   "execution_count": null,
   "id": "6a1a97fb",
   "metadata": {},
   "outputs": [],
   "source": []
  }
 ],
 "metadata": {
  "kernelspec": {
   "display_name": "Python 3 (ipykernel)",
   "language": "python",
   "name": "python3"
  },
  "language_info": {
   "codemirror_mode": {
    "name": "ipython",
    "version": 3
   },
   "file_extension": ".py",
   "mimetype": "text/x-python",
   "name": "python",
   "nbconvert_exporter": "python",
   "pygments_lexer": "ipython3",
   "version": "3.9.7"
  }
 },
 "nbformat": 4,
 "nbformat_minor": 5
}

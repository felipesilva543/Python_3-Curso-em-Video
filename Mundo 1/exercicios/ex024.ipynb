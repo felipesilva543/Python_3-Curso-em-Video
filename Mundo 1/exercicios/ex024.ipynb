{
 "cells": [
  {
   "cell_type": "markdown",
   "id": "3711bf2c",
   "metadata": {},
   "source": [
    "Crie um programa que leia o nome de uma cidade diga se ela começa ou não com o nome “SANTO”."
   ]
  },
  {
   "cell_type": "code",
   "execution_count": 7,
   "id": "1b2bb6b8",
   "metadata": {},
   "outputs": [
    {
     "name": "stdout",
     "output_type": "stream",
     "text": [
      "Cidade:    SAnTo asfl As\n",
      "True\n"
     ]
    }
   ],
   "source": [
    "cidade = str(input('Cidade:' )).strip()\n",
    "div = cidade.split()\n",
    "print('Santo' in div[0].title())"
   ]
  },
  {
   "cell_type": "code",
   "execution_count": null,
   "id": "30226a83",
   "metadata": {},
   "outputs": [],
   "source": []
  }
 ],
 "metadata": {
  "kernelspec": {
   "display_name": "Python 3 (ipykernel)",
   "language": "python",
   "name": "python3"
  },
  "language_info": {
   "codemirror_mode": {
    "name": "ipython",
    "version": 3
   },
   "file_extension": ".py",
   "mimetype": "text/x-python",
   "name": "python",
   "nbconvert_exporter": "python",
   "pygments_lexer": "ipython3",
   "version": "3.9.7"
  }
 },
 "nbformat": 4,
 "nbformat_minor": 5
}

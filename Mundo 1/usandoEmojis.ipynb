{
 "cells": [
  {
   "cell_type": "code",
   "execution_count": 1,
   "id": "536e2116",
   "metadata": {},
   "outputs": [
    {
     "name": "stdout",
     "output_type": "stream",
     "text": [
      "Ola, 👌 🎅🏿!\n"
     ]
    }
   ],
   "source": [
    "import emoji # Verificar lista de Emoji no site https://carpedm20.github.io/emoji/\n",
    "\n",
    "print(emoji.emojize('Ola, :OK_hand: :Santa_Claus_dark_skin_tone:!'))"
   ]
  },
  {
   "cell_type": "code",
   "execution_count": null,
   "id": "1d5d180a",
   "metadata": {},
   "outputs": [],
   "source": []
  }
 ],
 "metadata": {
  "kernelspec": {
   "display_name": "Python 3 (ipykernel)",
   "language": "python",
   "name": "python3"
  },
  "language_info": {
   "codemirror_mode": {
    "name": "ipython",
    "version": 3
   },
   "file_extension": ".py",
   "mimetype": "text/x-python",
   "name": "python",
   "nbconvert_exporter": "python",
   "pygments_lexer": "ipython3",
   "version": "3.9.7"
  }
 },
 "nbformat": 4,
 "nbformat_minor": 5
}

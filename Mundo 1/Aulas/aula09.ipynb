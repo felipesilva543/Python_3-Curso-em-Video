{
 "cells": [
  {
   "cell_type": "markdown",
   "id": "4cd8ee7c",
   "metadata": {},
   "source": [
    "# Manipulando texto (strings)"
   ]
  },
  {
   "cell_type": "code",
   "execution_count": 36,
   "id": "b53e9463",
   "metadata": {},
   "outputs": [],
   "source": [
    "frase = 'Curso em Video Python'"
   ]
  },
  {
   "cell_type": "code",
   "execution_count": 18,
   "id": "7021309b",
   "metadata": {},
   "outputs": [
    {
     "name": "stdout",
     "output_type": "stream",
     "text": [
      "Cusro\n",
      "Python\n",
      "Cusro em Video \n",
      "Csoe ie \n",
      "VePh\n"
     ]
    }
   ],
   "source": [
    "print(frase[0:5])\n",
    "print(frase[15:])\n",
    "print(frase[:15])\n",
    "print(frase[0:15:2])\n",
    "print(frase[9::3])"
   ]
  },
  {
   "cell_type": "markdown",
   "id": "8b7d32b9",
   "metadata": {},
   "source": [
    "# Analise"
   ]
  },
  {
   "cell_type": "code",
   "execution_count": 30,
   "id": "9dce88bb",
   "metadata": {},
   "outputs": [
    {
     "name": "stdout",
     "output_type": "stream",
     "text": [
      "21\n"
     ]
    }
   ],
   "source": [
    "print(len(frase)) # tamanho de 'frase'"
   ]
  },
  {
   "cell_type": "code",
   "execution_count": 29,
   "id": "a33e3eb4",
   "metadata": {},
   "outputs": [
    {
     "name": "stdout",
     "output_type": "stream",
     "text": [
      "3\n",
      "1\n"
     ]
    }
   ],
   "source": [
    "print(frase.count('o')) # Contar os 'o' na franse\n",
    "print(frase.count('o', 0, 13)) # Contar o 'o', fatiando do 0 ao 12"
   ]
  },
  {
   "cell_type": "code",
   "execution_count": 33,
   "id": "25a6c7b8",
   "metadata": {},
   "outputs": [
    {
     "name": "stdout",
     "output_type": "stream",
     "text": [
      "11\n",
      "-1\n"
     ]
    }
   ],
   "source": [
    "print(frase.find('deo')) # Encontrar o começo da posição de 'deo' na frase\n",
    "print(frase.find('Android')) # Caso n exista a palavra procurada na frase o retorno é -1"
   ]
  },
  {
   "cell_type": "code",
   "execution_count": 40,
   "id": "b6488ca2",
   "metadata": {},
   "outputs": [
    {
     "name": "stdout",
     "output_type": "stream",
     "text": [
      "True\n"
     ]
    }
   ],
   "source": [
    "print('Curso' in frase)"
   ]
  },
  {
   "cell_type": "markdown",
   "id": "7adf963a",
   "metadata": {},
   "source": [
    "# Transformação"
   ]
  },
  {
   "cell_type": "code",
   "execution_count": 48,
   "id": "77d8ecc8",
   "metadata": {},
   "outputs": [
    {
     "name": "stdout",
     "output_type": "stream",
     "text": [
      "Curso em Video Android\n",
      "Curso em Video Python\n",
      "CURSO EM VIDEO PYTHON\n",
      "curso em video python\n",
      "Curso em video python\n",
      "Curso Em Video Python\n"
     ]
    }
   ],
   "source": [
    "print(frase.replace('Python', 'Android'))\n",
    "print(frase)\n",
    "print(frase.upper())\n",
    "print(frase.lower())\n",
    "print(frase.capitalize())\n",
    "print(frase.title())"
   ]
  },
  {
   "cell_type": "code",
   "execution_count": 54,
   "id": "0f4b90e1",
   "metadata": {},
   "outputs": [
    {
     "name": "stdout",
     "output_type": "stream",
     "text": [
      "Aprenda Python\n",
      "   Aprenda Python\n",
      "Aprenda Python    \n"
     ]
    }
   ],
   "source": [
    "frase2 = '   Aprenda Python    '\n",
    "print(frase2.strip())\n",
    "print(frase2.rstrip())\n",
    "print(frase2.lstrip())"
   ]
  },
  {
   "cell_type": "markdown",
   "id": "8dbc5eac",
   "metadata": {},
   "source": [
    "# Divisão"
   ]
  },
  {
   "cell_type": "code",
   "execution_count": 62,
   "id": "4f1facc7",
   "metadata": {},
   "outputs": [
    {
     "name": "stdout",
     "output_type": "stream",
     "text": [
      "['Curso', 'em', 'Video', 'Python']\n"
     ]
    }
   ],
   "source": [
    "print(frase.split())\n",
    "nomes = frase.split()"
   ]
  },
  {
   "cell_type": "code",
   "execution_count": 60,
   "id": "b0d41b4b",
   "metadata": {},
   "outputs": [
    {
     "name": "stdout",
     "output_type": "stream",
     "text": [
      "['Curso', 'em', 'Video', 'Python']\n"
     ]
    }
   ],
   "source": [
    "print(nomes)"
   ]
  },
  {
   "cell_type": "code",
   "execution_count": 66,
   "id": "3550b1fb",
   "metadata": {},
   "outputs": [
    {
     "name": "stdout",
     "output_type": "stream",
     "text": [
      "e\n"
     ]
    }
   ],
   "source": [
    "print(nomes[2][3]) # Mostra a terceira letra do 'segundo' elemento (Vídeo)"
   ]
  },
  {
   "cell_type": "code",
   "execution_count": 61,
   "id": "d7664e06",
   "metadata": {},
   "outputs": [
    {
     "name": "stdout",
     "output_type": "stream",
     "text": [
      "Curso-em-Video-Python\n"
     ]
    }
   ],
   "source": [
    "print('-'.join(nomes))"
   ]
  },
  {
   "cell_type": "code",
   "execution_count": 63,
   "id": "a2656b0a",
   "metadata": {},
   "outputs": [
    {
     "name": "stdout",
     "output_type": "stream",
     "text": [
      "fasfaksfk\n",
      "aksfaksfka\n",
      "kasfk\n",
      "aksfk\n",
      "askfkaskfa\n",
      "ksf\n",
      "aksfkasfkaskf\n",
      "\n"
     ]
    }
   ],
   "source": [
    "print(\"\"\"fasfaksfk\n",
    "aksfaksfka\n",
    "kasfk\n",
    "aksfk\n",
    "askfkaskfa\n",
    "ksf\n",
    "aksfkasfkaskf\n",
    "\"\"\")"
   ]
  },
  {
   "cell_type": "code",
   "execution_count": 74,
   "id": "244127de",
   "metadata": {},
   "outputs": [
    {
     "name": "stdout",
     "output_type": "stream",
     "text": [
      "Digite seu nome completo: Felipe\n",
      "FELIPE\n",
      "felipe\n",
      "6\n",
      "6\n"
     ]
    }
   ],
   "source": [
    "# Desafio 22\n",
    "\n",
    "nome = input('Digite seu nome completo: ')\n",
    "print(nome.upper())\n",
    "print(nome.lower())\n",
    "\n",
    "dividido = nome.split()\n",
    "print(len(dividido[0]))\n"
   ]
  },
  {
   "cell_type": "code",
   "execution_count": 81,
   "id": "731f51fb",
   "metadata": {},
   "outputs": [
    {
     "name": "stdout",
     "output_type": "stream",
     "text": [
      "Digite um numero: 34\n",
      "2\n",
      "Milhar: 3\n",
      "Centena: 4\n"
     ]
    },
    {
     "ename": "IndexError",
     "evalue": "string index out of range",
     "output_type": "error",
     "traceback": [
      "\u001b[1;31m---------------------------------------------------------------------------\u001b[0m",
      "\u001b[1;31mIndexError\u001b[0m                                Traceback (most recent call last)",
      "\u001b[1;32m~\\AppData\\Local\\Temp/ipykernel_4500/989096409.py\u001b[0m in \u001b[0;36m<module>\u001b[1;34m\u001b[0m\n\u001b[0;32m      7\u001b[0m \u001b[0mprint\u001b[0m\u001b[1;33m(\u001b[0m\u001b[1;34m'Milhar: {}'\u001b[0m\u001b[1;33m.\u001b[0m\u001b[0mformat\u001b[0m\u001b[1;33m(\u001b[0m\u001b[0mn1\u001b[0m\u001b[1;33m[\u001b[0m\u001b[1;36m0\u001b[0m\u001b[1;33m]\u001b[0m\u001b[1;33m)\u001b[0m\u001b[1;33m)\u001b[0m\u001b[1;33m\u001b[0m\u001b[1;33m\u001b[0m\u001b[0m\n\u001b[0;32m      8\u001b[0m \u001b[0mprint\u001b[0m\u001b[1;33m(\u001b[0m\u001b[1;34m'Centena: {}'\u001b[0m\u001b[1;33m.\u001b[0m\u001b[0mformat\u001b[0m\u001b[1;33m(\u001b[0m\u001b[0mn1\u001b[0m\u001b[1;33m[\u001b[0m\u001b[1;36m1\u001b[0m\u001b[1;33m]\u001b[0m\u001b[1;33m)\u001b[0m\u001b[1;33m)\u001b[0m\u001b[1;33m\u001b[0m\u001b[1;33m\u001b[0m\u001b[0m\n\u001b[1;32m----> 9\u001b[1;33m \u001b[0mprint\u001b[0m\u001b[1;33m(\u001b[0m\u001b[1;34m'Dezena: {}'\u001b[0m\u001b[1;33m.\u001b[0m\u001b[0mformat\u001b[0m\u001b[1;33m(\u001b[0m\u001b[0mn1\u001b[0m\u001b[1;33m[\u001b[0m\u001b[1;36m2\u001b[0m\u001b[1;33m]\u001b[0m\u001b[1;33m)\u001b[0m\u001b[1;33m)\u001b[0m\u001b[1;33m\u001b[0m\u001b[1;33m\u001b[0m\u001b[0m\n\u001b[0m\u001b[0;32m     10\u001b[0m \u001b[0mprint\u001b[0m\u001b[1;33m(\u001b[0m\u001b[1;34m'Unidade: {}'\u001b[0m\u001b[1;33m.\u001b[0m\u001b[0mformat\u001b[0m\u001b[1;33m(\u001b[0m\u001b[0mn1\u001b[0m\u001b[1;33m[\u001b[0m\u001b[1;36m3\u001b[0m\u001b[1;33m]\u001b[0m\u001b[1;33m)\u001b[0m\u001b[1;33m)\u001b[0m\u001b[1;33m\u001b[0m\u001b[1;33m\u001b[0m\u001b[0m\n",
      "\u001b[1;31mIndexError\u001b[0m: string index out of range"
     ]
    }
   ],
   "source": [
    "# Desafio 23\n",
    "\n",
    "n = input('Digite um numero: ')\n",
    "n1 = '    '\n",
    "n1 = n1.replace('    ', n)\n",
    "print(len(n1))\n",
    "print('Milhar: {}'.format(n1[0]))\n",
    "print('Centena: {}'.format(n1[1]))\n",
    "print('Dezena: {}'.format(n1[2]))\n",
    "print('Unidade: {}'.format(n1[3]))"
   ]
  },
  {
   "cell_type": "markdown",
   "id": "6f02bd06",
   "metadata": {},
   "source": [
    "# Os desafios estão explicados nos exercícios com o mesmo número"
   ]
  },
  {
   "cell_type": "code",
   "execution_count": 87,
   "id": "3ab3539b",
   "metadata": {},
   "outputs": [
    {
     "name": "stdout",
     "output_type": "stream",
     "text": [
      "Cidade:felipe Santos\n",
      "False\n"
     ]
    }
   ],
   "source": [
    "# Desafio 24 -- ok\n",
    "cidade = str(input('Cidade:' )).strip()\n",
    "div = cidade.split()\n",
    "print('Santos' in div[0].title())"
   ]
  },
  {
   "cell_type": "code",
   "execution_count": 88,
   "id": "e55512a0",
   "metadata": {},
   "outputs": [
    {
     "name": "stdout",
     "output_type": "stream",
     "text": [
      "nome:Fransico Felipe da Silva\n",
      "True\n"
     ]
    }
   ],
   "source": [
    "# Desafio 25 -- Ok\n",
    "nomee = input('nome:' )\n",
    "#divv = cidade.split()\n",
    "print('Silva' in nomee)"
   ]
  },
  {
   "cell_type": "code",
   "execution_count": 93,
   "id": "ff698ad8",
   "metadata": {},
   "outputs": [
    {
     "name": "stdout",
     "output_type": "stream",
     "text": [
      "Frase: Franciscoa\n",
      "2\n",
      "2\n",
      "9\n"
     ]
    }
   ],
   "source": [
    "# Desafio 26 - OK\n",
    "frasee = input('Frase: ')\n",
    "\n",
    "print(frasee.count('a'))\n",
    "print(frasee.find('a'))\n",
    "print(frasee.rfind('a'))"
   ]
  },
  {
   "cell_type": "code",
   "execution_count": 99,
   "id": "13f8127a",
   "metadata": {},
   "outputs": [
    {
     "name": "stdout",
     "output_type": "stream",
     "text": [
      "Nome: Francisco Felipe da Silva\n",
      "Primeiro nome: Francisco\n",
      "Ultimo nome: Silva\n"
     ]
    }
   ],
   "source": [
    "# Desafio 27 - OK \n",
    "\n",
    "no = input('Nome: ')\n",
    "\n",
    "print('Primeiro nome: {}'.format(no[:no.find(' ')]))\n",
    "print('Ultimo nome: {}'.format(no[no.rfind(' ')+1:]))\n"
   ]
  },
  {
   "cell_type": "code",
   "execution_count": null,
   "id": "bf01d6e6",
   "metadata": {},
   "outputs": [],
   "source": []
  }
 ],
 "metadata": {
  "kernelspec": {
   "display_name": "Python 3 (ipykernel)",
   "language": "python",
   "name": "python3"
  },
  "language_info": {
   "codemirror_mode": {
    "name": "ipython",
    "version": 3
   },
   "file_extension": ".py",
   "mimetype": "text/x-python",
   "name": "python",
   "nbconvert_exporter": "python",
   "pygments_lexer": "ipython3",
   "version": "3.9.7"
  }
 },
 "nbformat": 4,
 "nbformat_minor": 5
}

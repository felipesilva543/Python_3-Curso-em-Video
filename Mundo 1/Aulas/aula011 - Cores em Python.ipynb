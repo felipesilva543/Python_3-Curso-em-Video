{
 "cells": [
  {
   "cell_type": "markdown",
   "id": "709bba15",
   "metadata": {},
   "source": [
    "# Cores no terminal\n",
    "\n",
    "Padrão ANSI para terminal."
   ]
  },
  {
   "cell_type": "code",
   "execution_count": 27,
   "id": "aa4376cc",
   "metadata": {},
   "outputs": [
    {
     "name": "stdout",
     "output_type": "stream",
     "text": [
      "\u001b[1;32;48mTeste\n"
     ]
    }
   ],
   "source": [
    "print('\\033[1;32;48mTeste')"
   ]
  },
  {
   "cell_type": "markdown",
   "id": "c9c82868",
   "metadata": {},
   "source": [
    "'\\033[STYLE;LETRA;FUNDOm TEXTO'\n",
    "\n",
    "\n",
    "'\\033[1;32;48m TEXTO'"
   ]
  },
  {
   "cell_type": "markdown",
   "id": "6cafbafa",
   "metadata": {},
   "source": [
    "STYLE\n",
    "0 = Neutro\n",
    "1 = Negrito\n",
    "4 = Sublinhado\n",
    "7 = Inverte as cores\n",
    "\n",
    "LETRA\n",
    "30 = BRANCO\n",
    "31 = VERMELHO\n",
    "32 = VERDE\n",
    "33 = AMARELO\n",
    "34 = AZUL\n",
    "35 = ROXO\n",
    "36 = CIANO\n",
    "37 = CINZA\n",
    "\n",
    "FUNDO\n",
    "40 = BRANCO\n",
    "41 = VERMELHO\n",
    "42 = VERDE\n",
    "43 = AMARELO\n",
    "44 = AZUL\n",
    "45 = ROXO\n",
    "46 = CIANO\n",
    "47 = CINZA"
   ]
  }
 ],
 "metadata": {
  "kernelspec": {
   "display_name": "Python 3 (ipykernel)",
   "language": "python",
   "name": "python3"
  },
  "language_info": {
   "codemirror_mode": {
    "name": "ipython",
    "version": 3
   },
   "file_extension": ".py",
   "mimetype": "text/x-python",
   "name": "python",
   "nbconvert_exporter": "python",
   "pygments_lexer": "ipython3",
   "version": "3.9.7"
  }
 },
 "nbformat": 4,
 "nbformat_minor": 5
}

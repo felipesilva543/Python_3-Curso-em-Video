{
 "cells": [
  {
   "cell_type": "markdown",
   "id": "58e298fa",
   "metadata": {},
   "source": [
    "# Estruturas condicionais"
   ]
  },
  {
   "cell_type": "markdown",
   "id": "153dda2f",
   "metadata": {},
   "source": [
    "if (condição):\n",
    "    comandos\n",
    "else:\n",
    "    comandos\n",
    "    "
   ]
  },
  {
   "cell_type": "code",
   "execution_count": 4,
   "id": "6d6be9fe",
   "metadata": {},
   "outputs": [
    {
     "name": "stdout",
     "output_type": "stream",
     "text": [
      "Quantos anos tem seu carro? 2\n",
      "Carro novinho!!\n",
      "--Fim--\n"
     ]
    }
   ],
   "source": [
    "tempo = int(input('Quantos anos tem seu carro? '))\n",
    "\n",
    "if tempo <= 3:\n",
    "    print('Carro novinho!!')\n",
    "else:\n",
    "    print('Carro velho!')\n",
    "    \n",
    "print('-'*2+'Fim'+'-'*2)"
   ]
  },
  {
   "cell_type": "code",
   "execution_count": 8,
   "id": "af325363",
   "metadata": {},
   "outputs": [
    {
     "name": "stdout",
     "output_type": "stream",
     "text": [
      "Quantos anos tem seu carro? 5\n",
      "Carro Velho\n"
     ]
    }
   ],
   "source": [
    "tempo2 = int(input('Quantos anos tem seu carro? '))\n",
    "print('Carro Novo' if tempo2 <= 3 else 'Carro Velho')"
   ]
  },
  {
   "cell_type": "code",
   "execution_count": null,
   "id": "374424d0",
   "metadata": {},
   "outputs": [],
   "source": []
  }
 ],
 "metadata": {
  "kernelspec": {
   "display_name": "Python 3 (ipykernel)",
   "language": "python",
   "name": "python3"
  },
  "language_info": {
   "codemirror_mode": {
    "name": "ipython",
    "version": 3
   },
   "file_extension": ".py",
   "mimetype": "text/x-python",
   "name": "python",
   "nbconvert_exporter": "python",
   "pygments_lexer": "ipython3",
   "version": "3.9.7"
  }
 },
 "nbformat": 4,
 "nbformat_minor": 5
}

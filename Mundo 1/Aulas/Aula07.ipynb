{
 "cells": [
  {
   "cell_type": "markdown",
   "id": "99efb314",
   "metadata": {},
   "source": [
    "# Operações Aritiméticas"
   ]
  },
  {
   "cell_type": "markdown",
   "id": "ecc86571",
   "metadata": {},
   "source": [
    "Adição: +\n",
    "Subtração: -\n",
    "Multiplicação: *\n",
    "Divisão: /\n",
    "Potenciação: ** | pow(n1,n2)\n",
    "Divisão inteira: //          # 5/2 = 2 (Só pega a parte inteira da divisão\n",
    "Módulo/Resto da Divisão: %"
   ]
  },
  {
   "cell_type": "code",
   "execution_count": 4,
   "id": "9c54b02f",
   "metadata": {},
   "outputs": [],
   "source": [
    "n1 = 5\n",
    "n2 = 2"
   ]
  },
  {
   "cell_type": "code",
   "execution_count": 5,
   "id": "cf89d05f",
   "metadata": {},
   "outputs": [
    {
     "name": "stdout",
     "output_type": "stream",
     "text": [
      "Res: 7\n",
      "Res: 3\n",
      "Res: 10\n",
      "Res: 2.5\n",
      "Res: 25\n",
      "Res: 2\n",
      "Res: 1\n"
     ]
    }
   ],
   "source": [
    "print('Res: {}'.format(n1+n2))\n",
    "print('Res: {}'.format(n1-n2))\n",
    "print('Res: {}'.format(n1*n2))\n",
    "print('Res: {}'.format(n1/n2))\n",
    "print('Res: {}'.format(n1**n2))\n",
    "print('Res: {}'.format(n1//n2))\n",
    "print('Res: {}'.format(n1%n2))"
   ]
  },
  {
   "cell_type": "markdown",
   "id": "7f37fa50",
   "metadata": {},
   "source": [
    "Ordem de precedência\n",
    "1 - ()\n",
    "2 - **\n",
    "3 - *\\, /, //, %\n",
    "4 - +, -"
   ]
  },
  {
   "cell_type": "code",
   "execution_count": 6,
   "id": "5bc44665",
   "metadata": {},
   "outputs": [
    {
     "name": "stdout",
     "output_type": "stream",
     "text": [
      "Res: 25\n"
     ]
    }
   ],
   "source": [
    "print('Res: {}'.format(pow(n1,n2)))"
   ]
  },
  {
   "cell_type": "markdown",
   "id": "712508c0",
   "metadata": {},
   "source": [
    "Operação com string!"
   ]
  },
  {
   "cell_type": "code",
   "execution_count": 10,
   "id": "49244d7f",
   "metadata": {},
   "outputs": [
    {
     "name": "stdout",
     "output_type": "stream",
     "text": [
      "---------------\n"
     ]
    }
   ],
   "source": [
    "print('-'*15)"
   ]
  },
  {
   "cell_type": "code",
   "execution_count": 21,
   "id": "18fc0db1",
   "metadata": {},
   "outputs": [
    {
     "name": "stdout",
     "output_type": "stream",
     "text": [
      "Qual o seu nome? Felipe\n",
      "Olá, prazer em te conhecer Felipe              !\n",
      "Olá, prazer em te conhecer               Felipe!\n",
      "Olá, prazer em te conhecer Felipe              !\n",
      "Olá, prazer em te conhecer        Felipe       !\n",
      "Olá, prazer em te conhecer *******Felipe*******!\n"
     ]
    }
   ],
   "source": [
    "# Formatação dentro do {} do format.\n",
    "nome = input('Qual o seu nome? ')\n",
    "print('Olá, prazer em te conhecer {:20}!'.format(nome)) # Adiciona com 20 caracteres\n",
    "print('Olá, prazer em te conhecer {:>20}!'.format(nome)) # Adiciona com 20 caracteres e alinhado a direita\n",
    "print('Olá, prazer em te conhecer {:<20}!'.format(nome)) # Adiciona com 20 caracteres e alinhado a esquerda\n",
    "print('Olá, prazer em te conhecer {:^20}!'.format(nome)) # Adiciona com 20 caracteres e centralizado\n",
    "print('Olá, prazer em te conhecer {:*^20}!'.format(nome)) # Adiciona com 20 caracteres e centralizado e rodeado de = (iguais)\n"
   ]
  },
  {
   "cell_type": "code",
   "execution_count": 26,
   "id": "20df4de3",
   "metadata": {},
   "outputs": [
    {
     "name": "stdout",
     "output_type": "stream",
     "text": [
      "Res: 0.333.\n",
      "Res: 0.33.\n",
      "Res: 0.3.\n",
      "Res: 0.33333.\n"
     ]
    }
   ],
   "source": [
    "m1 = 1\n",
    "m2 = 3\n",
    "print('Res: {:.3f}.'.format(m1/m2)) # Controlar para aparecer as casas decimais\n",
    "print('Res: {:.2f}.'.format(m1/m2))\n",
    "print('Res: {:.1f}.'.format(m1/m2))\n",
    "print('Res: {:.5f}.'.format(m1/m2))"
   ]
  },
  {
   "cell_type": "code",
   "execution_count": 32,
   "id": "1df978ae",
   "metadata": {},
   "outputs": [
    {
     "name": "stdout",
     "output_type": "stream",
     "text": [
      "Primeira linha\n",
      "Segunda linha\n",
      "------------------------------\n",
      "Primeira linha Continuando a primeira linha\n"
     ]
    }
   ],
   "source": [
    "# Para n quebrar a linha ao final do print, colocamos end=' ' no fim.\n",
    "print('Primeira linha')\n",
    "print('Segunda linha')\n",
    "print('-'*30)\n",
    "print('Primeira linha', end=' ')\n",
    "print('Continuando a primeira linha')"
   ]
  },
  {
   "cell_type": "markdown",
   "id": "eaa67b3d",
   "metadata": {},
   "source": [
    "# Desafios"
   ]
  },
  {
   "cell_type": "code",
   "execution_count": 33,
   "id": "47edfc92",
   "metadata": {},
   "outputs": [
    {
     "name": "stdout",
     "output_type": "stream",
     "text": [
      "Digite um valor: 4\n",
      "Antecessor: 3\n",
      "Atual: 4\n",
      "Sucessor: 5\n"
     ]
    }
   ],
   "source": [
    "# 005\n",
    "n = int(input('Digite um valor: '))\n",
    "print('Antecessor: {}'.format(n-1))\n",
    "print('Atual: {}'.format(n))\n",
    "print('Sucessor: {}'.format(n+1))"
   ]
  },
  {
   "cell_type": "code",
   "execution_count": 34,
   "id": "9f908a40",
   "metadata": {},
   "outputs": [
    {
     "name": "stdout",
     "output_type": "stream",
     "text": [
      "Digite um valor: 4\n",
      "Dobro: 8\n",
      "Triplo: 12\n",
      "Raiz 2: 2.0\n"
     ]
    }
   ],
   "source": [
    "# 006\n",
    "\n",
    "m = int(input('Digite um valor: '))\n",
    "\n",
    "print('Dobro: {}'.format(m*2))\n",
    "print('Triplo: {}'.format(m*3))\n",
    "print('Raiz 2: {}'.format(m**(1/2)))"
   ]
  },
  {
   "cell_type": "code",
   "execution_count": 35,
   "id": "21f89f43",
   "metadata": {},
   "outputs": [
    {
     "name": "stdout",
     "output_type": "stream",
     "text": [
      "Nota 1: 10\n",
      "Nota 2: 8\n",
      "Média do aluno 9.00.\n"
     ]
    }
   ],
   "source": [
    "# 007\n",
    "nota1 = float(input('Nota 1: '))\n",
    "nota2 = float(input('Nota 2: '))\n",
    "\n",
    "print('Média do aluno {:.2f}.'.format((nota1+nota2)/2))"
   ]
  },
  {
   "cell_type": "code",
   "execution_count": 37,
   "id": "d38118a7",
   "metadata": {},
   "outputs": [
    {
     "name": "stdout",
     "output_type": "stream",
     "text": [
      "Insira um valor em metros: 1\n",
      "Valor em cm: 100.0\n",
      "Valor em mm: 1000.0\n"
     ]
    }
   ],
   "source": [
    "# 008\n",
    "\n",
    "metro = float(input('Insira um valor em metros: '))\n",
    "\n",
    "print('Valor em cm: {}'.format(metro*100))\n",
    "print('Valor em mm: {}'.format(metro*1000))"
   ]
  },
  {
   "cell_type": "code",
   "execution_count": 41,
   "id": "ecce092f",
   "metadata": {},
   "outputs": [
    {
     "name": "stdout",
     "output_type": "stream",
     "text": [
      "Insira um numero inteiro: 10\n",
      "1 * 10 = 10\n",
      "2 * 10 = 20\n",
      "3 * 10 = 30\n",
      "4 * 10 = 40\n",
      "5 * 10 = 50\n",
      "6 * 10 = 60\n",
      "7 * 10 = 70\n",
      "8 * 10 = 80\n",
      "9 * 10 = 90\n",
      "10 * 10 = 100\n"
     ]
    }
   ],
   "source": [
    "# 009\n",
    "tabu = int(input('Insira um numero inteiro: '))\n",
    "\n",
    "for i in range(10):\n",
    "    print('{} * {} = {}'.format(i+1, tabu, (i+1)*tabu))"
   ]
  },
  {
   "cell_type": "code",
   "execution_count": 54,
   "id": "ae1851c7",
   "metadata": {},
   "outputs": [
    {
     "name": "stdout",
     "output_type": "stream",
     "text": [
      "Quantos reais vc tem? 100\n",
      "Vc pode comprar 30.00000 dolar, e sobra 1.90000 reais!\n"
     ]
    }
   ],
   "source": [
    "# 010\n",
    "\n",
    "dolar = 3.27\n",
    "din = float(input('Quantos reais vc tem? '))\n",
    "\n",
    "print('Vc pode comprar {:.5f} dolar, e sobra {:.5f} reais!'.format(din//dolar, din%dolar))"
   ]
  },
  {
   "cell_type": "code",
   "execution_count": 63,
   "id": "a4f7e93b",
   "metadata": {},
   "outputs": [
    {
     "name": "stdout",
     "output_type": "stream",
     "text": [
      "Altura da parede: 5\n",
      "Largura da parede: 2\n",
      "Área da parede: 10.0m^2, precisamos de pelo menos 5.0L de tinta para pintar a parede.\n"
     ]
    }
   ],
   "source": [
    "# 011\n",
    "\n",
    "altura = float(input('Altura da parede: '))\n",
    "largura = float(input('Largura da parede: '))\n",
    "area = altura*largura\n",
    "print('Área da parede: {}m^2'.format(area), end=', ')\n",
    "print('precisamos de pelo menos {}L de tinta para pintar a parede.'.format(area/2))"
   ]
  },
  {
   "cell_type": "code",
   "execution_count": 67,
   "id": "30fde2e5",
   "metadata": {},
   "outputs": [
    {
     "name": "stdout",
     "output_type": "stream",
     "text": [
      "Valor atual do produto: 250\n",
      "Valor do desconto em %: 15\n",
      "O novo valor do produto é: 212.5.\n"
     ]
    }
   ],
   "source": [
    "# 012\n",
    "vA = float(input('Valor atual do produto: '))\n",
    "desc = float(input('Valor do desconto em %: '))\n",
    "\n",
    "print('O novo valor do produto é: {}.'.format(vA - (vA*(desc/100))))"
   ]
  },
  {
   "cell_type": "code",
   "execution_count": 73,
   "id": "e5f5aaac",
   "metadata": {},
   "outputs": [
    {
     "name": "stdout",
     "output_type": "stream",
     "text": [
      "Valor atual do salário: 250\n",
      "Valor do acrescimo do salário em %: 15\n",
      "O novo valor do salário é: 287.5.\n"
     ]
    }
   ],
   "source": [
    "# 013\n",
    "sA = float(input('Valor atual do salário: '))\n",
    "acres = float(input('Valor do acrescimo do salário em %: '))\n",
    "\n",
    "print('O novo valor do salário é: {}.'.format(sA + (sA*(acres/100))))"
   ]
  },
  {
   "cell_type": "code",
   "execution_count": null,
   "id": "511576aa",
   "metadata": {},
   "outputs": [],
   "source": []
  }
 ],
 "metadata": {
  "kernelspec": {
   "display_name": "Python 3 (ipykernel)",
   "language": "python",
   "name": "python3"
  },
  "language_info": {
   "codemirror_mode": {
    "name": "ipython",
    "version": 3
   },
   "file_extension": ".py",
   "mimetype": "text/x-python",
   "name": "python",
   "nbconvert_exporter": "python",
   "pygments_lexer": "ipython3",
   "version": "3.9.7"
  }
 },
 "nbformat": 4,
 "nbformat_minor": 5
}
